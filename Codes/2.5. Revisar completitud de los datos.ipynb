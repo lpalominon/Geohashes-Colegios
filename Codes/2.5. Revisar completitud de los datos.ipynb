{
 "cells": [
  {
   "cell_type": "code",
   "execution_count": 2,
   "metadata": {},
   "outputs": [],
   "source": [
    "import pandas as pd"
   ]
  },
  {
   "cell_type": "markdown",
   "metadata": {},
   "source": [
    "Importar datos (Modificar según país)"
   ]
  },
  {
   "cell_type": "code",
   "execution_count": 4,
   "metadata": {},
   "outputs": [
    {
     "name": "stderr",
     "output_type": "stream",
     "text": [
      "C:\\Users\\catta\\Anaconda3\\envs\\geopython\\lib\\site-packages\\IPython\\core\\interactiveshell.py:3063: DtypeWarning: Columns (6) have mixed types.Specify dtype option on import or set low_memory=False.\n",
      "  interactivity=interactivity, compiler=compiler, result=result)\n"
     ]
    }
   ],
   "source": [
    "df_merge = pd.read_csv('../Data/escuelas_semanas_visitas_sin_imputar.csv')"
   ]
  },
  {
   "cell_type": "code",
   "execution_count": 5,
   "metadata": {},
   "outputs": [],
   "source": [
    "df_merge = df_merge[df_merge['laboral']==1]"
   ]
  },
  {
   "cell_type": "code",
   "execution_count": 7,
   "metadata": {},
   "outputs": [
    {
     "data": {
      "text/html": [
       "<div>\n",
       "<style scoped>\n",
       "    .dataframe tbody tr th:only-of-type {\n",
       "        vertical-align: middle;\n",
       "    }\n",
       "\n",
       "    .dataframe tbody tr th {\n",
       "        vertical-align: top;\n",
       "    }\n",
       "\n",
       "    .dataframe thead th {\n",
       "        text-align: right;\n",
       "    }\n",
       "</style>\n",
       "<table border=\"1\" class=\"dataframe\">\n",
       "  <thead>\n",
       "    <tr style=\"text-align: right;\">\n",
       "      <th></th>\n",
       "      <th>row_number</th>\n",
       "      <th>AGNO</th>\n",
       "      <th>RBD</th>\n",
       "      <th>DGV_RBD</th>\n",
       "      <th>NOM_RBD</th>\n",
       "      <th>MRUN</th>\n",
       "      <th>RUT_SOSTENEDOR</th>\n",
       "      <th>P_JURIDICA</th>\n",
       "      <th>COD_REG_RBD</th>\n",
       "      <th>NOM_REG_RBD_A</th>\n",
       "      <th>...</th>\n",
       "      <th>n_visitantes_17</th>\n",
       "      <th>n_visitantes_18</th>\n",
       "      <th>n_visitantes_19</th>\n",
       "      <th>n_visitantes_20</th>\n",
       "      <th>n_visitantes_21</th>\n",
       "      <th>n_visitantes_22</th>\n",
       "      <th>n_visitantes_23</th>\n",
       "      <th>_merge</th>\n",
       "      <th>semana</th>\n",
       "      <th>laboral</th>\n",
       "    </tr>\n",
       "  </thead>\n",
       "  <tbody>\n",
       "    <tr>\n",
       "      <th>0</th>\n",
       "      <td>0</td>\n",
       "      <td>2019</td>\n",
       "      <td>1</td>\n",
       "      <td>9</td>\n",
       "      <td>LICEO POLITECNICO ARICA</td>\n",
       "      <td></td>\n",
       "      <td>69010100</td>\n",
       "      <td>1</td>\n",
       "      <td>15</td>\n",
       "      <td>AYP</td>\n",
       "      <td>...</td>\n",
       "      <td>0.0</td>\n",
       "      <td>0.0</td>\n",
       "      <td>0.0</td>\n",
       "      <td>0.0</td>\n",
       "      <td>0.0</td>\n",
       "      <td>0.0</td>\n",
       "      <td>0.0</td>\n",
       "      <td>both</td>\n",
       "      <td>20</td>\n",
       "      <td>1</td>\n",
       "    </tr>\n",
       "    <tr>\n",
       "      <th>1</th>\n",
       "      <td>0</td>\n",
       "      <td>2019</td>\n",
       "      <td>1</td>\n",
       "      <td>9</td>\n",
       "      <td>LICEO POLITECNICO ARICA</td>\n",
       "      <td></td>\n",
       "      <td>69010100</td>\n",
       "      <td>1</td>\n",
       "      <td>15</td>\n",
       "      <td>AYP</td>\n",
       "      <td>...</td>\n",
       "      <td>0.0</td>\n",
       "      <td>1.0</td>\n",
       "      <td>0.0</td>\n",
       "      <td>0.0</td>\n",
       "      <td>1.0</td>\n",
       "      <td>0.0</td>\n",
       "      <td>0.0</td>\n",
       "      <td>both</td>\n",
       "      <td>16</td>\n",
       "      <td>1</td>\n",
       "    </tr>\n",
       "  </tbody>\n",
       "</table>\n",
       "<p>2 rows × 72 columns</p>\n",
       "</div>"
      ],
      "text/plain": [
       "   row_number  AGNO  RBD  DGV_RBD                  NOM_RBD MRUN  \\\n",
       "0           0  2019    1        9  LICEO POLITECNICO ARICA        \n",
       "1           0  2019    1        9  LICEO POLITECNICO ARICA        \n",
       "\n",
       "  RUT_SOSTENEDOR  P_JURIDICA  COD_REG_RBD NOM_REG_RBD_A  ...  n_visitantes_17  \\\n",
       "0       69010100           1           15           AYP  ...              0.0   \n",
       "1       69010100           1           15           AYP  ...              0.0   \n",
       "\n",
       "   n_visitantes_18 n_visitantes_19  n_visitantes_20 n_visitantes_21  \\\n",
       "0              0.0             0.0              0.0             0.0   \n",
       "1              1.0             0.0              0.0             1.0   \n",
       "\n",
       "   n_visitantes_22  n_visitantes_23  _merge  semana  laboral  \n",
       "0              0.0              0.0    both      20        1  \n",
       "1              0.0              0.0    both      16        1  \n",
       "\n",
       "[2 rows x 72 columns]"
      ]
     },
     "execution_count": 7,
     "metadata": {},
     "output_type": "execute_result"
    }
   ],
   "source": [
    "df_merge.head(2)"
   ]
  },
  {
   "cell_type": "markdown",
   "metadata": {},
   "source": [
    "Identificar que establecimientos tienen completitud en los datos"
   ]
  },
  {
   "cell_type": "code",
   "execution_count": 8,
   "metadata": {},
   "outputs": [],
   "source": [
    "n_semana_por_establecimiento = df_merge.groupby(['COD_ESCUELA_PAIS', 'COD_ADM3']).semana.nunique().reset_index()"
   ]
  },
  {
   "cell_type": "code",
   "execution_count": 9,
   "metadata": {
    "scrolled": true
   },
   "outputs": [
    {
     "data": {
      "text/plain": [
       "(7855, 3)"
      ]
     },
     "execution_count": 9,
     "metadata": {},
     "output_type": "execute_result"
    }
   ],
   "source": [
    "n_semana_por_establecimiento[n_semana_por_establecimiento['semana']==16].shape"
   ]
  },
  {
   "cell_type": "code",
   "execution_count": 12,
   "metadata": {},
   "outputs": [
    {
     "data": {
      "text/plain": [
       "308"
      ]
     },
     "execution_count": 12,
     "metadata": {},
     "output_type": "execute_result"
    }
   ],
   "source": [
    "n_semana_por_establecimiento[n_semana_por_establecimiento['semana']==16]['COD_ADM3'].nunique()"
   ]
  },
  {
   "cell_type": "code",
   "execution_count": 13,
   "metadata": {
    "scrolled": true
   },
   "outputs": [
    {
     "data": {
      "text/plain": [
       "<matplotlib.axes._subplots.AxesSubplot at 0x212a30a45c0>"
      ]
     },
     "execution_count": 13,
     "metadata": {},
     "output_type": "execute_result"
    },
    {
     "data": {
      "image/png": "[encoded data removed]",
      "text/plain": [
       "<Figure size 432x288 with 1 Axes>"
      ]
     },
     "metadata": {
      "needs_background": "light"
     },
     "output_type": "display_data"
    }
   ],
   "source": [
    "n_semana_por_establecimiento.semana.hist()"
   ]
  },
  {
   "cell_type": "markdown",
   "metadata": {},
   "source": [
    "Revisar si hay comunas que se pierden porque los establecimientos de esas comunas no tienen datos"
   ]
  },
  {
   "cell_type": "code",
   "execution_count": 14,
   "metadata": {},
   "outputs": [],
   "source": [
    "df_merge_left_only = pd.read_csv('data/ee_sin_registros.csv')"
   ]
  },
  {
   "cell_type": "code",
   "execution_count": 15,
   "metadata": {
    "scrolled": true
   },
   "outputs": [
    {
     "data": {
      "text/plain": [
       "{'ANTÁRTICA', \"O'HIGGINS\", 'TIMAUKEL'}"
      ]
     },
     "execution_count": 15,
     "metadata": {},
     "output_type": "execute_result"
    }
   ],
   "source": [
    "set(df_merge_left_only['NOM_ADM3'].unique())-set(df_merge['NOM_ADM3'].unique())"
   ]
  },
  {
   "cell_type": "markdown",
   "metadata": {},
   "source": [
    "Revisar completitud de info en comunas"
   ]
  },
  {
   "cell_type": "code",
   "execution_count": 18,
   "metadata": {},
   "outputs": [],
   "source": [
    "df_grouped = df_merge.groupby(['COD_ADM1','COD_ADM3','NOM_ADM3','semana']).agg({'geohash':'nunique',\n",
    "                                                   'n_visitantes_geohash':'sum',\n",
    "                                                   'n_visitantes_adm3':'sum',\n",
    "                                                   'n_visitantes_0':'sum',\n",
    "                                                   'n_visitantes_1':'sum',\n",
    "                                                   'n_visitantes_2':'sum',\n",
    "                                                   'n_visitantes_3':'sum',\n",
    "                                                   'n_visitantes_4':'sum',\n",
    "                                                   'n_visitantes_5':'sum',\n",
    "                                                   'n_visitantes_6':'sum',\n",
    "                                                   'n_visitantes_7':'sum',\n",
    "                                                   'n_visitantes_8':'sum',\n",
    "                                                   'n_visitantes_9':'sum',\n",
    "                                                   'n_visitantes_10':'sum',\n",
    "                                                   'n_visitantes_11':'sum',\n",
    "                                                   'n_visitantes_12':'sum',\n",
    "                                                   'n_visitantes_13':'sum',\n",
    "                                                   'n_visitantes_14':'sum',\n",
    "                                                   'n_visitantes_15':'sum',\n",
    "                                                   'n_visitantes_16':'sum',\n",
    "                                                   'n_visitantes_17':'sum',\n",
    "                                                   'n_visitantes_18':'sum',\n",
    "                                                   'n_visitantes_19':'sum',\n",
    "                                                   'n_visitantes_20':'sum',\n",
    "                                                   'n_visitantes_21':'sum',\n",
    "                                                   'n_visitantes_22':'sum',\n",
    "                                                   'n_visitantes_23':'sum',        \n",
    "                                                  }).reset_index()"
   ]
  },
  {
   "cell_type": "code",
   "execution_count": 19,
   "metadata": {},
   "outputs": [],
   "source": [
    "n_semana_por_comuna = df_grouped.groupby('NOM_ADM3').semana.count().reset_index()"
   ]
  },
  {
   "cell_type": "code",
   "execution_count": 20,
   "metadata": {},
   "outputs": [
    {
     "data": {
      "text/html": [
       "<div>\n",
       "<style scoped>\n",
       "    .dataframe tbody tr th:only-of-type {\n",
       "        vertical-align: middle;\n",
       "    }\n",
       "\n",
       "    .dataframe tbody tr th {\n",
       "        vertical-align: top;\n",
       "    }\n",
       "\n",
       "    .dataframe thead th {\n",
       "        text-align: right;\n",
       "    }\n",
       "</style>\n",
       "<table border=\"1\" class=\"dataframe\">\n",
       "  <thead>\n",
       "    <tr style=\"text-align: right;\">\n",
       "      <th></th>\n",
       "      <th>NOM_COM_RBD</th>\n",
       "      <th>semana</th>\n",
       "    </tr>\n",
       "  </thead>\n",
       "  <tbody>\n",
       "    <tr>\n",
       "      <th>0</th>\n",
       "      <td>ALGARROBO</td>\n",
       "      <td>16</td>\n",
       "    </tr>\n",
       "    <tr>\n",
       "      <th>1</th>\n",
       "      <td>ALHUÉ</td>\n",
       "      <td>16</td>\n",
       "    </tr>\n",
       "    <tr>\n",
       "      <th>2</th>\n",
       "      <td>ALTO BIOBÍO</td>\n",
       "      <td>16</td>\n",
       "    </tr>\n",
       "    <tr>\n",
       "      <th>3</th>\n",
       "      <td>ALTO DEL CARMEN</td>\n",
       "      <td>16</td>\n",
       "    </tr>\n",
       "    <tr>\n",
       "      <th>4</th>\n",
       "      <td>ALTO HOSPICIO</td>\n",
       "      <td>16</td>\n",
       "    </tr>\n",
       "  </tbody>\n",
       "</table>\n",
       "</div>"
      ],
      "text/plain": [
       "       NOM_COM_RBD  semana\n",
       "0        ALGARROBO      16\n",
       "1            ALHUÉ      16\n",
       "2      ALTO BIOBÍO      16\n",
       "3  ALTO DEL CARMEN      16\n",
       "4    ALTO HOSPICIO      16"
      ]
     },
     "execution_count": 20,
     "metadata": {},
     "output_type": "execute_result"
    }
   ],
   "source": [
    "n_semana_por_comuna.head()"
   ]
  },
  {
   "cell_type": "markdown",
   "metadata": {},
   "source": [
    "¿Cuántas comunas no tienen info las 16 semanas?"
   ]
  },
  {
   "cell_type": "code",
   "execution_count": 21,
   "metadata": {},
   "outputs": [
    {
     "data": {
      "text/plain": [
       "27"
      ]
     },
     "execution_count": 21,
     "metadata": {},
     "output_type": "execute_result"
    }
   ],
   "source": [
    "len(list(set(df_grouped['NOM_ADM3'].unique()) - set(n_semana_por_comuna[n_semana_por_comuna.semana==16]['NOM_ADM3'].unique())))"
   ]
  },
  {
   "cell_type": "code",
   "execution_count": 22,
   "metadata": {},
   "outputs": [
    {
     "name": "stdout",
     "output_type": "stream",
     "text": [
      "GENERAL LAGOS\n",
      "SAN FABIÁN\n",
      "ANTUCO\n",
      "GUAITECAS\n",
      "PRIMAVERA\n",
      "RÍO CLARO\n",
      "PALENA\n",
      "VICHUQUEN\n",
      "SAN PEDRO\n",
      "PERQUENCO\n",
      "LOS SAUCES\n",
      "FUTALEUFÚ\n",
      "RÍO IBÁÑEZ\n",
      "LAGO VERDE\n",
      "SAN GREGORIO\n",
      "COLCHANE\n",
      "EMPEDRADO\n",
      "COCHAMÓ\n",
      "OLLAGÜE\n",
      "PUQUELDÓN\n",
      "TORTEL\n",
      "LAGUNA BLANCA\n",
      "JUAN FERNÁNDEZ\n",
      "SAAVEDRA\n",
      "TORRES DEL PAINE\n",
      "RÍO VERDE\n",
      "CURACO DE VÉLEZ\n"
     ]
    }
   ],
   "source": [
    "for x in list(set(df_grouped['NOM_ADM3'].unique()) - set(n_semana_por_comuna[n_semana_por_comuna.semana==16]['NOM_ADM3'].unique())):\n",
    "    print(x)"
   ]
  },
  {
   "cell_type": "code",
   "execution_count": null,
   "metadata": {},
   "outputs": [],
   "source": []
  }
 ],
 "metadata": {
  "kernelspec": {
   "display_name": "Python 3",
   "language": "python",
   "name": "python3"
  },
  "language_info": {
   "codemirror_mode": {
    "name": "ipython",
    "version": 3
   },
   "file_extension": ".py",
   "mimetype": "text/x-python",
   "name": "python",
   "nbconvert_exporter": "python",
   "pygments_lexer": "ipython3",
   "version": "3.6.10"
  }
 },
 "nbformat": 4,
 "nbformat_minor": 4
}
