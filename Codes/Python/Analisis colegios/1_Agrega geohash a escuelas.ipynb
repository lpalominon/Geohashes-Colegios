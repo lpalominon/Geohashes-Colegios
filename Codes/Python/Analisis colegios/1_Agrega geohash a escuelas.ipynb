{
 "cells": [
  {
   "cell_type": "markdown",
   "metadata": {},
   "source": [
    "# Instalando librerias necesarias"
   ]
  },
  {
   "cell_type": "code",
   "execution_count": 1,
   "metadata": {},
   "outputs": [
    {
     "name": "stdout",
     "output_type": "stream",
     "text": [
      "Requirement already satisfied: pytz in c:\\anaconda\\envs\\py37\\lib\\site-packages (2020.1)\n"
     ]
    }
   ],
   "source": [
    "import sys\n",
    "!{sys.executable} -m pip install pytz"
   ]
  },
  {
   "cell_type": "code",
   "execution_count": 2,
   "metadata": {},
   "outputs": [
    {
     "name": "stdout",
     "output_type": "stream",
     "text": [
      "Requirement already satisfied: pygeohash in c:\\anaconda\\envs\\py37\\lib\\site-packages (1.2.0)\n"
     ]
    }
   ],
   "source": [
    "! pip install pygeohash"
   ]
  },
  {
   "cell_type": "code",
   "execution_count": 3,
   "metadata": {},
   "outputs": [
    {
     "name": "stdout",
     "output_type": "stream",
     "text": [
      "Requirement already satisfied: descartes in c:\\anaconda\\envs\\py37\\lib\\site-packages (1.1.0)\n",
      "Requirement already satisfied: matplotlib in c:\\anaconda\\envs\\py37\\lib\\site-packages (from descartes) (3.3.0)\n",
      "Requirement already satisfied: kiwisolver>=1.0.1 in c:\\anaconda\\envs\\py37\\lib\\site-packages (from matplotlib->descartes) (1.2.0)\n",
      "Requirement already satisfied: cycler>=0.10 in c:\\anaconda\\envs\\py37\\lib\\site-packages (from matplotlib->descartes) (0.10.0)\n",
      "Requirement already satisfied: numpy>=1.15 in c:\\anaconda\\envs\\py37\\lib\\site-packages (from matplotlib->descartes) (1.19.1)\n",
      "Requirement already satisfied: pillow>=6.2.0 in c:\\anaconda\\envs\\py37\\lib\\site-packages (from matplotlib->descartes) (7.2.0)\n",
      "Requirement already satisfied: python-dateutil>=2.1 in c:\\anaconda\\envs\\py37\\lib\\site-packages (from matplotlib->descartes) (2.8.1)\n",
      "Requirement already satisfied: pyparsing!=2.0.4,!=2.1.2,!=2.1.6,>=2.0.3 in c:\\anaconda\\envs\\py37\\lib\\site-packages (from matplotlib->descartes) (2.4.7)\n",
      "Requirement already satisfied: six in c:\\anaconda\\envs\\py37\\lib\\site-packages (from cycler>=0.10->matplotlib->descartes) (1.15.0)\n"
     ]
    }
   ],
   "source": [
    "! pip install descartes"
   ]
  },
  {
   "cell_type": "code",
   "execution_count": 4,
   "metadata": {},
   "outputs": [
    {
     "name": "stdout",
     "output_type": "stream",
     "text": [
      "Requirement already satisfied: matplotlib in c:\\anaconda\\envs\\py37\\lib\\site-packages (3.3.0)\n",
      "Requirement already satisfied: kiwisolver>=1.0.1 in c:\\anaconda\\envs\\py37\\lib\\site-packages (from matplotlib) (1.2.0)\n",
      "Requirement already satisfied: pyparsing!=2.0.4,!=2.1.2,!=2.1.6,>=2.0.3 in c:\\anaconda\\envs\\py37\\lib\\site-packages (from matplotlib) (2.4.7)\n",
      "Requirement already satisfied: cycler>=0.10 in c:\\anaconda\\envs\\py37\\lib\\site-packages (from matplotlib) (0.10.0)\n",
      "Requirement already satisfied: numpy>=1.15 in c:\\anaconda\\envs\\py37\\lib\\site-packages (from matplotlib) (1.19.1)\n",
      "Requirement already satisfied: pillow>=6.2.0 in c:\\anaconda\\envs\\py37\\lib\\site-packages (from matplotlib) (7.2.0)\n",
      "Requirement already satisfied: python-dateutil>=2.1 in c:\\anaconda\\envs\\py37\\lib\\site-packages (from matplotlib) (2.8.1)\n",
      "Requirement already satisfied: six in c:\\anaconda\\envs\\py37\\lib\\site-packages (from cycler>=0.10->matplotlib) (1.15.0)\n"
     ]
    }
   ],
   "source": [
    "! pip install matplotlib"
   ]
  },
  {
   "cell_type": "markdown",
   "metadata": {},
   "source": [
    "# Importando librerias necesarias"
   ]
  },
  {
   "cell_type": "code",
   "execution_count": 5,
   "metadata": {},
   "outputs": [],
   "source": [
    "import pandas as pd\n",
    "import numpy as np\n",
    "import pygeohash as gh\n",
    "import glob\n",
    "import os\n",
    "import geopandas as gpd\n",
    "import matplotlib\n",
    "import matplotlib.pyplot as plt"
   ]
  },
  {
   "cell_type": "markdown",
   "metadata": {},
   "source": [
    "# Paths"
   ]
  },
  {
   "cell_type": "code",
   "execution_count": 6,
   "metadata": {},
   "outputs": [
    {
     "name": "stdout",
     "output_type": "stream",
     "text": [
      "C:\\Users\\BS\\Documents\\Github\\Geohashes-Colegios\\Codes\\Python\\Analisis colegios\n"
     ]
    }
   ],
   "source": [
    "ruta_actual = os.path.abspath(os.curdir)\n",
    "print(ruta_actual)"
   ]
  },
  {
   "cell_type": "code",
   "execution_count": 7,
   "metadata": {
    "scrolled": false
   },
   "outputs": [
    {
     "name": "stdout",
     "output_type": "stream",
     "text": [
      "C:\\Users\\BS\\Documents\\Github\\Geohashes-Colegios\\Data\\Colegios\\Chile_colegios_original.csv\n",
      "C:\\Users\\BS\\Documents\\Github\\Geohashes-Colegios\\Data\\Shapes\\Chile\\comunas.shp\n",
      "C:\\Users\\BS\\Documents\\Github\\Geohashes-Colegios\\Data\\Colegios\\Chile_colegios_geohash.csv\n"
     ]
    }
   ],
   "source": [
    "path_personal = r\"C:\\Users\\BS\\Documents\\Github\"\n",
    "\n",
    "path_global = path_personal + r\"\\Geohashes-Colegios\"\n",
    "\n",
    "path_data = path_global + r\"\\Data\"\n",
    "\n",
    "path_data_colegios = path_data + r\"\\Colegios\"\n",
    "file_colegios = path_data_colegios + r\"\\Chile_colegios_original.csv\"\n",
    "\n",
    "path_shapes = path_data + r\"\\Shapes\"\n",
    "file_shape = path_shapes + r\"\\Chile\\comunas.shp\"\n",
    "\n",
    "path_output = path_data_colegios\n",
    "file_output = path_data_colegios + r\"\\Chile_colegios_geohash.csv\"\n",
    "\n",
    "print(file_colegios)\n",
    "print(file_shape)\n",
    "print(file_output)"
   ]
  },
  {
   "cell_type": "markdown",
   "metadata": {},
   "source": [
    "# Agregando geohash a colegios georreferenciados (puntos)"
   ]
  },
  {
   "cell_type": "markdown",
   "metadata": {},
   "source": [
    "#### Identificadores - Cambiar para cada país"
   ]
  },
  {
   "cell_type": "code",
   "execution_count": 8,
   "metadata": {},
   "outputs": [],
   "source": [
    "# Coordenadas geograficas\n",
    "LATITUD = 'LATITUD'\n",
    "LONGITUD = 'LONGITUD'"
   ]
  },
  {
   "cell_type": "code",
   "execution_count": 9,
   "metadata": {},
   "outputs": [],
   "source": [
    "# Identificadores de colegios\n",
    "COD_Interes = 'COD_COM_RBD'"
   ]
  },
  {
   "cell_type": "code",
   "execution_count": 10,
   "metadata": {},
   "outputs": [],
   "source": [
    "# Identificadores de regiones\n",
    "ID_regeion = 'cod_comuna'\n",
    "Nom_region = 'Comuna'"
   ]
  },
  {
   "cell_type": "markdown",
   "metadata": {},
   "source": [
    "#### Importando archivo de colegios"
   ]
  },
  {
   "cell_type": "code",
   "execution_count": 11,
   "metadata": {},
   "outputs": [],
   "source": [
    "df = pd.read_csv(file_colegios, sep = ';')"
   ]
  },
  {
   "cell_type": "code",
   "execution_count": 12,
   "metadata": {},
   "outputs": [
    {
     "data": {
      "text/plain": [
       "(16236, 37)"
      ]
     },
     "execution_count": 12,
     "metadata": {},
     "output_type": "execute_result"
    }
   ],
   "source": [
    "df.shape"
   ]
  },
  {
   "cell_type": "code",
   "execution_count": 13,
   "metadata": {},
   "outputs": [
    {
     "data": {
      "text/html": [
       "<div>\n",
       "<style scoped>\n",
       "    .dataframe tbody tr th:only-of-type {\n",
       "        vertical-align: middle;\n",
       "    }\n",
       "\n",
       "    .dataframe tbody tr th {\n",
       "        vertical-align: top;\n",
       "    }\n",
       "\n",
       "    .dataframe thead th {\n",
       "        text-align: right;\n",
       "    }\n",
       "</style>\n",
       "<table border=\"1\" class=\"dataframe\">\n",
       "  <thead>\n",
       "    <tr style=\"text-align: right;\">\n",
       "      <th></th>\n",
       "      <th>AGNO</th>\n",
       "      <th>RBD</th>\n",
       "      <th>DGV_RBD</th>\n",
       "      <th>NOM_RBD</th>\n",
       "      <th>MRUN</th>\n",
       "      <th>RUT_SOSTENEDOR</th>\n",
       "      <th>P_JURIDICA</th>\n",
       "      <th>COD_REG_RBD</th>\n",
       "      <th>NOM_REG_RBD_A</th>\n",
       "      <th>COD_PRO_RBD</th>\n",
       "      <th>...</th>\n",
       "      <th>ENS_08</th>\n",
       "      <th>ENS_09</th>\n",
       "      <th>ENS_10</th>\n",
       "      <th>ENS_11</th>\n",
       "      <th>MATRICULA</th>\n",
       "      <th>ESTADO_ESTAB</th>\n",
       "      <th>ORI_RELIGIOSA</th>\n",
       "      <th>ORI_OTRO_GLOSA</th>\n",
       "      <th>PAGO_MATRICULA</th>\n",
       "      <th>PAGO_MENSUAL</th>\n",
       "    </tr>\n",
       "  </thead>\n",
       "  <tbody>\n",
       "    <tr>\n",
       "      <th>0</th>\n",
       "      <td>2019</td>\n",
       "      <td>1</td>\n",
       "      <td>9</td>\n",
       "      <td>LICEO POLITECNICO ARICA</td>\n",
       "      <td></td>\n",
       "      <td>69010100</td>\n",
       "      <td>1</td>\n",
       "      <td>15</td>\n",
       "      <td>AYP</td>\n",
       "      <td>151</td>\n",
       "      <td>...</td>\n",
       "      <td>0</td>\n",
       "      <td>0</td>\n",
       "      <td>0</td>\n",
       "      <td>0</td>\n",
       "      <td>1</td>\n",
       "      <td>1</td>\n",
       "      <td>2</td>\n",
       "      <td></td>\n",
       "      <td>GRATUITO</td>\n",
       "      <td>GRATUITO</td>\n",
       "    </tr>\n",
       "    <tr>\n",
       "      <th>1</th>\n",
       "      <td>2019</td>\n",
       "      <td>2</td>\n",
       "      <td>7</td>\n",
       "      <td>PARVULARIO LAS ESPIGUITAS</td>\n",
       "      <td></td>\n",
       "      <td>69010100</td>\n",
       "      <td>1</td>\n",
       "      <td>15</td>\n",
       "      <td>AYP</td>\n",
       "      <td>151</td>\n",
       "      <td>...</td>\n",
       "      <td>0</td>\n",
       "      <td>0</td>\n",
       "      <td>0</td>\n",
       "      <td>0</td>\n",
       "      <td>1</td>\n",
       "      <td>1</td>\n",
       "      <td>2</td>\n",
       "      <td></td>\n",
       "      <td>GRATUITO</td>\n",
       "      <td>GRATUITO</td>\n",
       "    </tr>\n",
       "    <tr>\n",
       "      <th>2</th>\n",
       "      <td>2019</td>\n",
       "      <td>3</td>\n",
       "      <td>5</td>\n",
       "      <td>ESC. PEDRO VICENTE GUTIERREZ TORRES</td>\n",
       "      <td></td>\n",
       "      <td>69010100</td>\n",
       "      <td>1</td>\n",
       "      <td>15</td>\n",
       "      <td>AYP</td>\n",
       "      <td>151</td>\n",
       "      <td>...</td>\n",
       "      <td>0</td>\n",
       "      <td>0</td>\n",
       "      <td>0</td>\n",
       "      <td>0</td>\n",
       "      <td>1</td>\n",
       "      <td>1</td>\n",
       "      <td>1</td>\n",
       "      <td></td>\n",
       "      <td>GRATUITO</td>\n",
       "      <td>GRATUITO</td>\n",
       "    </tr>\n",
       "    <tr>\n",
       "      <th>3</th>\n",
       "      <td>2019</td>\n",
       "      <td>4</td>\n",
       "      <td>3</td>\n",
       "      <td>LICEO OCTAVIO PALMA PEREZ</td>\n",
       "      <td></td>\n",
       "      <td>69010100</td>\n",
       "      <td>1</td>\n",
       "      <td>15</td>\n",
       "      <td>AYP</td>\n",
       "      <td>151</td>\n",
       "      <td>...</td>\n",
       "      <td>0</td>\n",
       "      <td>0</td>\n",
       "      <td>0</td>\n",
       "      <td>0</td>\n",
       "      <td>1</td>\n",
       "      <td>1</td>\n",
       "      <td>1</td>\n",
       "      <td></td>\n",
       "      <td>GRATUITO</td>\n",
       "      <td>GRATUITO</td>\n",
       "    </tr>\n",
       "    <tr>\n",
       "      <th>4</th>\n",
       "      <td>2019</td>\n",
       "      <td>5</td>\n",
       "      <td>1</td>\n",
       "      <td>JOVINA NARANJO FERNANDEZ</td>\n",
       "      <td></td>\n",
       "      <td>69010100</td>\n",
       "      <td>1</td>\n",
       "      <td>15</td>\n",
       "      <td>AYP</td>\n",
       "      <td>151</td>\n",
       "      <td>...</td>\n",
       "      <td>0</td>\n",
       "      <td>0</td>\n",
       "      <td>0</td>\n",
       "      <td>0</td>\n",
       "      <td>1</td>\n",
       "      <td>1</td>\n",
       "      <td>7</td>\n",
       "      <td>PLURALISTA</td>\n",
       "      <td>GRATUITO</td>\n",
       "      <td>GRATUITO</td>\n",
       "    </tr>\n",
       "  </tbody>\n",
       "</table>\n",
       "<p>5 rows × 37 columns</p>\n",
       "</div>"
      ],
      "text/plain": [
       "   AGNO  RBD  DGV_RBD                              NOM_RBD MRUN  \\\n",
       "0  2019    1        9              LICEO POLITECNICO ARICA        \n",
       "1  2019    2        7            PARVULARIO LAS ESPIGUITAS        \n",
       "2  2019    3        5  ESC. PEDRO VICENTE GUTIERREZ TORRES        \n",
       "3  2019    4        3            LICEO OCTAVIO PALMA PEREZ        \n",
       "4  2019    5        1             JOVINA NARANJO FERNANDEZ        \n",
       "\n",
       "  RUT_SOSTENEDOR  P_JURIDICA  COD_REG_RBD NOM_REG_RBD_A  COD_PRO_RBD  ...  \\\n",
       "0       69010100           1           15           AYP          151  ...   \n",
       "1       69010100           1           15           AYP          151  ...   \n",
       "2       69010100           1           15           AYP          151  ...   \n",
       "3       69010100           1           15           AYP          151  ...   \n",
       "4       69010100           1           15           AYP          151  ...   \n",
       "\n",
       "   ENS_08 ENS_09  ENS_10 ENS_11  MATRICULA  ESTADO_ESTAB  ORI_RELIGIOSA  \\\n",
       "0       0      0       0      0          1             1              2   \n",
       "1       0      0       0      0          1             1              2   \n",
       "2       0      0       0      0          1             1              1   \n",
       "3       0      0       0      0          1             1              1   \n",
       "4       0      0       0      0          1             1              7   \n",
       "\n",
       "  ORI_OTRO_GLOSA PAGO_MATRICULA  PAGO_MENSUAL  \n",
       "0                      GRATUITO      GRATUITO  \n",
       "1                      GRATUITO      GRATUITO  \n",
       "2                      GRATUITO      GRATUITO  \n",
       "3                      GRATUITO      GRATUITO  \n",
       "4     PLURALISTA       GRATUITO      GRATUITO  \n",
       "\n",
       "[5 rows x 37 columns]"
      ]
     },
     "execution_count": 13,
     "metadata": {},
     "output_type": "execute_result"
    }
   ],
   "source": [
    "df.head(5)"
   ]
  },
  {
   "cell_type": "code",
   "execution_count": 14,
   "metadata": {},
   "outputs": [
    {
     "data": {
      "text/plain": [
       "Index(['AGNO', 'RBD', 'DGV_RBD', 'NOM_RBD', 'MRUN', 'RUT_SOSTENEDOR',\n",
       "       'P_JURIDICA', 'COD_REG_RBD', 'NOM_REG_RBD_A', 'COD_PRO_RBD',\n",
       "       'COD_COM_RBD', 'NOM_COM_RBD', 'COD_DEPROV_RBD', 'NOM_DEPROV_RBD',\n",
       "       'COD_DEPE', 'COD_DEPE2', 'RURAL_RBD', 'LATITUD', 'LONGITUD',\n",
       "       'CONVENIO_PIE', 'ENS_01', 'ENS_02', 'ENS_03', 'ENS_04', 'ENS_05',\n",
       "       'ENS_06', 'ENS_07', 'ENS_08', 'ENS_09', 'ENS_10', 'ENS_11', 'MATRICULA',\n",
       "       'ESTADO_ESTAB', 'ORI_RELIGIOSA', 'ORI_OTRO_GLOSA', 'PAGO_MATRICULA',\n",
       "       'PAGO_MENSUAL'],\n",
       "      dtype='object')"
      ]
     },
     "execution_count": 14,
     "metadata": {},
     "output_type": "execute_result"
    }
   ],
   "source": [
    "df.columns"
   ]
  },
  {
   "cell_type": "markdown",
   "metadata": {},
   "source": [
    "#### Limpieza de colegios sin coordenadas"
   ]
  },
  {
   "cell_type": "code",
   "execution_count": 15,
   "metadata": {},
   "outputs": [],
   "source": [
    "def clean_lat_long(x):\n",
    "    x = x.replace(',','.').replace(' ','')\n",
    "    if len(x) == 0:\n",
    "        return np.nan\n",
    "    return float(x)\n",
    "df['lat'] = df[LATITUD].apply(clean_lat_long)\n",
    "df['long'] = df[LONGITUD].apply(clean_lat_long)"
   ]
  },
  {
   "cell_type": "code",
   "execution_count": 16,
   "metadata": {},
   "outputs": [],
   "source": [
    "df = df.drop(columns = [LATITUD, LONGITUD])"
   ]
  },
  {
   "cell_type": "code",
   "execution_count": 17,
   "metadata": {},
   "outputs": [
    {
     "data": {
      "text/plain": [
       "array([15101, 15102, 15201, 15202,  1101,  1404,  1402,  1403,  1405,\n",
       "        1401,  2301,  2302,  2201,  2202,  2203,  2101,  2102,  2103,\n",
       "        2104,  3201,  3202,  3101,  3102,  3103,  3301,  3302,  3303,\n",
       "        3304,  4101,  4104,  4102,  4103,  4106,  4105,  4301,  4305,\n",
       "        4303,  4302,  4304,  4201,  4204,  4203,  4202,  5401,  5404,\n",
       "        5402,  5405,  5403,  5301,  5701,  5304,  5302,  5303,  5705,\n",
       "        5502,  5706,  5704,  5703,  5702,  5501,  5504,  5506,  5503,\n",
       "        5802,  5103,  5803,  5101,  5109, 13126,  5801,  5107,  5105,\n",
       "        5804,  5102,  5104,  5601,  5603,  5605,  5604,  5602,  5606,\n",
       "        5201,  6101,  6106,  6110,  6102,  6108,  6111,  6116,  6115,\n",
       "        6109,  6114,  6117,  6113,  6112,  6104,  6103,  6105,  6107,\n",
       "        6301,  6303,  6308,  6305,  6302,  6310,  6304,  6309,  6306,\n",
       "        6307,  6201,  6206,  6205,  6203,  6202,  6204,  7301,  7308,\n",
       "        7306,  7304,  7307,  7309,  7302,  7303,  7305,  7101,  7106,\n",
       "        7110,  7108,  7109,  7105,  7104,  7107,  7102,  7103,  7401,\n",
       "        7408,  7407,  7402,  7403,  7404,  7405,  7406,  7201,  7203,\n",
       "        7202, 16101, 16103, 16305, 16301, 16303, 16304, 16302, 16106,\n",
       "       16108, 16104, 16109, 16105, 16102, 16107, 16206,  8303, 16205,\n",
       "       16203, 16207, 16202, 16201, 16204,  8301,  8304,  8312,  8302,\n",
       "        8309,  8311,  8314,  8308,  8305,  8307,  8306,  8310,  8313,\n",
       "        8101,  8108,  8103,  8112,  8110,  8107,  8111,  8104,  8105,\n",
       "        8109,  8106,  8102,  8201,  8202,  8205,  8206,  8203,  8204,\n",
       "        8207,  9201,  9209,  9202,  9205,  9203,  9204,  9211,  9210,\n",
       "        9207,  9106,  9208,  9206,  9101,  9112,  9119,  9108,  9113,\n",
       "        9103,  9120,  9114,  9110,  9104,  9115,  9109,  9105,  9111,\n",
       "        9107,  9118,  9117,  9116,  9102,  9121, 14101, 10101, 14106,\n",
       "       14203, 13115, 14103, 14104, 14202, 14107, 14102, 14105, 14108,\n",
       "       14201, 14204, 10301, 10307, 10109, 10304, 10302, 10303, 10305,\n",
       "       10306, 10103, 10102, 10108, 10106, 10104, 10107, 10105, 10201,\n",
       "       10202, 10209, 10205, 10204, 10210, 10206, 10203, 10207, 10208,\n",
       "       10401, 10403, 10402, 10404, 11101, 11102, 11201, 11202, 11203,\n",
       "       11401, 11402, 11301, 11302, 11303, 12401, 12402, 12101, 12103,\n",
       "       12102, 12104, 12301, 12302, 12303, 12201, 13101, 12202, 13127,\n",
       "       13108, 13119, 13106, 13102, 13123, 13125, 13401, 13105, 13110,\n",
       "       13104, 13120, 13114, 13132, 13503, 13113, 13129, 13118, 13122,\n",
       "       13201, 13130, 13121, 13111, 13109, 13112, 13131, 13116, 13124,\n",
       "       13117, 13103, 13302, 13128, 13107, 13301, 13303, 13202, 13203,\n",
       "       13402, 13404, 13403, 13601, 13603, 13602, 13605, 13604, 13501,\n",
       "       13504, 13505, 13502,  1107], dtype=int64)"
      ]
     },
     "execution_count": 17,
     "metadata": {},
     "output_type": "execute_result"
    }
   ],
   "source": [
    "df[COD_Interes].unique()"
   ]
  },
  {
   "cell_type": "code",
   "execution_count": 18,
   "metadata": {},
   "outputs": [
    {
     "data": {
      "text/plain": [
       "(16236, 37)"
      ]
     },
     "execution_count": 18,
     "metadata": {},
     "output_type": "execute_result"
    }
   ],
   "source": [
    "df.shape"
   ]
  },
  {
   "cell_type": "markdown",
   "metadata": {},
   "source": [
    "#### Agregando geohash a coordenadas de colegios"
   ]
  },
  {
   "cell_type": "code",
   "execution_count": 19,
   "metadata": {},
   "outputs": [],
   "source": [
    "df['geohash'] = df.apply(lambda x: \n",
    "                         gh.encode(x.lat, x.long, precision = 7), axis = 1)"
   ]
  },
  {
   "cell_type": "code",
   "execution_count": 20,
   "metadata": {},
   "outputs": [
    {
     "data": {
      "text/plain": [
       "(16236, 38)"
      ]
     },
     "execution_count": 20,
     "metadata": {},
     "output_type": "execute_result"
    }
   ],
   "source": [
    "df.shape"
   ]
  },
  {
   "cell_type": "code",
   "execution_count": 21,
   "metadata": {
    "scrolled": true
   },
   "outputs": [
    {
     "data": {
      "text/html": [
       "<div>\n",
       "<style scoped>\n",
       "    .dataframe tbody tr th:only-of-type {\n",
       "        vertical-align: middle;\n",
       "    }\n",
       "\n",
       "    .dataframe tbody tr th {\n",
       "        vertical-align: top;\n",
       "    }\n",
       "\n",
       "    .dataframe thead th {\n",
       "        text-align: right;\n",
       "    }\n",
       "</style>\n",
       "<table border=\"1\" class=\"dataframe\">\n",
       "  <thead>\n",
       "    <tr style=\"text-align: right;\">\n",
       "      <th></th>\n",
       "      <th>AGNO</th>\n",
       "      <th>RBD</th>\n",
       "      <th>DGV_RBD</th>\n",
       "      <th>NOM_RBD</th>\n",
       "      <th>MRUN</th>\n",
       "      <th>RUT_SOSTENEDOR</th>\n",
       "      <th>P_JURIDICA</th>\n",
       "      <th>COD_REG_RBD</th>\n",
       "      <th>NOM_REG_RBD_A</th>\n",
       "      <th>COD_PRO_RBD</th>\n",
       "      <th>...</th>\n",
       "      <th>ENS_11</th>\n",
       "      <th>MATRICULA</th>\n",
       "      <th>ESTADO_ESTAB</th>\n",
       "      <th>ORI_RELIGIOSA</th>\n",
       "      <th>ORI_OTRO_GLOSA</th>\n",
       "      <th>PAGO_MATRICULA</th>\n",
       "      <th>PAGO_MENSUAL</th>\n",
       "      <th>lat</th>\n",
       "      <th>long</th>\n",
       "      <th>geohash</th>\n",
       "    </tr>\n",
       "  </thead>\n",
       "  <tbody>\n",
       "    <tr>\n",
       "      <th>0</th>\n",
       "      <td>2019</td>\n",
       "      <td>1</td>\n",
       "      <td>9</td>\n",
       "      <td>LICEO POLITECNICO ARICA</td>\n",
       "      <td></td>\n",
       "      <td>69010100</td>\n",
       "      <td>1</td>\n",
       "      <td>15</td>\n",
       "      <td>AYP</td>\n",
       "      <td>151</td>\n",
       "      <td>...</td>\n",
       "      <td>0</td>\n",
       "      <td>1</td>\n",
       "      <td>1</td>\n",
       "      <td>2</td>\n",
       "      <td></td>\n",
       "      <td>GRATUITO</td>\n",
       "      <td>GRATUITO</td>\n",
       "      <td>-18.487274</td>\n",
       "      <td>-70.294739</td>\n",
       "      <td>6kwnb6k</td>\n",
       "    </tr>\n",
       "    <tr>\n",
       "      <th>1</th>\n",
       "      <td>2019</td>\n",
       "      <td>2</td>\n",
       "      <td>7</td>\n",
       "      <td>PARVULARIO LAS ESPIGUITAS</td>\n",
       "      <td></td>\n",
       "      <td>69010100</td>\n",
       "      <td>1</td>\n",
       "      <td>15</td>\n",
       "      <td>AYP</td>\n",
       "      <td>151</td>\n",
       "      <td>...</td>\n",
       "      <td>0</td>\n",
       "      <td>1</td>\n",
       "      <td>1</td>\n",
       "      <td>2</td>\n",
       "      <td></td>\n",
       "      <td>GRATUITO</td>\n",
       "      <td>GRATUITO</td>\n",
       "      <td>-18.469862</td>\n",
       "      <td>-70.302757</td>\n",
       "      <td>6kwnbjx</td>\n",
       "    </tr>\n",
       "    <tr>\n",
       "      <th>2</th>\n",
       "      <td>2019</td>\n",
       "      <td>3</td>\n",
       "      <td>5</td>\n",
       "      <td>ESC. PEDRO VICENTE GUTIERREZ TORRES</td>\n",
       "      <td></td>\n",
       "      <td>69010100</td>\n",
       "      <td>1</td>\n",
       "      <td>15</td>\n",
       "      <td>AYP</td>\n",
       "      <td>151</td>\n",
       "      <td>...</td>\n",
       "      <td>0</td>\n",
       "      <td>1</td>\n",
       "      <td>1</td>\n",
       "      <td>1</td>\n",
       "      <td></td>\n",
       "      <td>GRATUITO</td>\n",
       "      <td>GRATUITO</td>\n",
       "      <td>-18.503580</td>\n",
       "      <td>-70.260826</td>\n",
       "      <td>6kwn9pt</td>\n",
       "    </tr>\n",
       "    <tr>\n",
       "      <th>3</th>\n",
       "      <td>2019</td>\n",
       "      <td>4</td>\n",
       "      <td>3</td>\n",
       "      <td>LICEO OCTAVIO PALMA PEREZ</td>\n",
       "      <td></td>\n",
       "      <td>69010100</td>\n",
       "      <td>1</td>\n",
       "      <td>15</td>\n",
       "      <td>AYP</td>\n",
       "      <td>151</td>\n",
       "      <td>...</td>\n",
       "      <td>0</td>\n",
       "      <td>1</td>\n",
       "      <td>1</td>\n",
       "      <td>1</td>\n",
       "      <td></td>\n",
       "      <td>GRATUITO</td>\n",
       "      <td>GRATUITO</td>\n",
       "      <td>-18.474243</td>\n",
       "      <td>-70.308266</td>\n",
       "      <td>6kwnbhg</td>\n",
       "    </tr>\n",
       "    <tr>\n",
       "      <th>4</th>\n",
       "      <td>2019</td>\n",
       "      <td>5</td>\n",
       "      <td>1</td>\n",
       "      <td>JOVINA NARANJO FERNANDEZ</td>\n",
       "      <td></td>\n",
       "      <td>69010100</td>\n",
       "      <td>1</td>\n",
       "      <td>15</td>\n",
       "      <td>AYP</td>\n",
       "      <td>151</td>\n",
       "      <td>...</td>\n",
       "      <td>0</td>\n",
       "      <td>1</td>\n",
       "      <td>1</td>\n",
       "      <td>7</td>\n",
       "      <td>PLURALISTA</td>\n",
       "      <td>GRATUITO</td>\n",
       "      <td>GRATUITO</td>\n",
       "      <td>-18.476904</td>\n",
       "      <td>-70.313454</td>\n",
       "      <td>6ktyzur</td>\n",
       "    </tr>\n",
       "  </tbody>\n",
       "</table>\n",
       "<p>5 rows × 38 columns</p>\n",
       "</div>"
      ],
      "text/plain": [
       "   AGNO  RBD  DGV_RBD                              NOM_RBD MRUN  \\\n",
       "0  2019    1        9              LICEO POLITECNICO ARICA        \n",
       "1  2019    2        7            PARVULARIO LAS ESPIGUITAS        \n",
       "2  2019    3        5  ESC. PEDRO VICENTE GUTIERREZ TORRES        \n",
       "3  2019    4        3            LICEO OCTAVIO PALMA PEREZ        \n",
       "4  2019    5        1             JOVINA NARANJO FERNANDEZ        \n",
       "\n",
       "  RUT_SOSTENEDOR  P_JURIDICA  COD_REG_RBD NOM_REG_RBD_A  COD_PRO_RBD  ...  \\\n",
       "0       69010100           1           15           AYP          151  ...   \n",
       "1       69010100           1           15           AYP          151  ...   \n",
       "2       69010100           1           15           AYP          151  ...   \n",
       "3       69010100           1           15           AYP          151  ...   \n",
       "4       69010100           1           15           AYP          151  ...   \n",
       "\n",
       "   ENS_11 MATRICULA  ESTADO_ESTAB ORI_RELIGIOSA  ORI_OTRO_GLOSA  \\\n",
       "0       0         1             1             2                   \n",
       "1       0         1             1             2                   \n",
       "2       0         1             1             1                   \n",
       "3       0         1             1             1                   \n",
       "4       0         1             1             7      PLURALISTA   \n",
       "\n",
       "   PAGO_MATRICULA  PAGO_MENSUAL        lat       long  geohash  \n",
       "0        GRATUITO      GRATUITO -18.487274 -70.294739  6kwnb6k  \n",
       "1        GRATUITO      GRATUITO -18.469862 -70.302757  6kwnbjx  \n",
       "2        GRATUITO      GRATUITO -18.503580 -70.260826  6kwn9pt  \n",
       "3        GRATUITO      GRATUITO -18.474243 -70.308266  6kwnbhg  \n",
       "4        GRATUITO      GRATUITO -18.476904 -70.313454  6ktyzur  \n",
       "\n",
       "[5 rows x 38 columns]"
      ]
     },
     "execution_count": 21,
     "metadata": {},
     "output_type": "execute_result"
    }
   ],
   "source": [
    "df.head()"
   ]
  },
  {
   "cell_type": "code",
   "execution_count": 22,
   "metadata": {},
   "outputs": [
    {
     "data": {
      "text/plain": [
       "Index(['AGNO', 'RBD', 'DGV_RBD', 'NOM_RBD', 'MRUN', 'RUT_SOSTENEDOR',\n",
       "       'P_JURIDICA', 'COD_REG_RBD', 'NOM_REG_RBD_A', 'COD_PRO_RBD',\n",
       "       'COD_COM_RBD', 'NOM_COM_RBD', 'COD_DEPROV_RBD', 'NOM_DEPROV_RBD',\n",
       "       'COD_DEPE', 'COD_DEPE2', 'RURAL_RBD', 'CONVENIO_PIE', 'ENS_01',\n",
       "       'ENS_02', 'ENS_03', 'ENS_04', 'ENS_05', 'ENS_06', 'ENS_07', 'ENS_08',\n",
       "       'ENS_09', 'ENS_10', 'ENS_11', 'MATRICULA', 'ESTADO_ESTAB',\n",
       "       'ORI_RELIGIOSA', 'ORI_OTRO_GLOSA', 'PAGO_MATRICULA', 'PAGO_MENSUAL',\n",
       "       'lat', 'long', 'geohash'],\n",
       "      dtype='object')"
      ]
     },
     "execution_count": 22,
     "metadata": {},
     "output_type": "execute_result"
    }
   ],
   "source": [
    "df.columns"
   ]
  },
  {
   "cell_type": "code",
   "execution_count": 23,
   "metadata": {},
   "outputs": [
    {
     "data": {
      "image/png": "[encoded data removed]",
      "text/plain": [
       "<Figure size 432x288 with 1 Axes>"
      ]
     },
     "metadata": {
      "needs_background": "light"
     },
     "output_type": "display_data"
    }
   ],
   "source": [
    "df.plot(kind = \"scatter\", x = \"long\", y = \"lat\", alpha = 0.4)\n",
    "plt.show()"
   ]
  },
  {
   "cell_type": "markdown",
   "metadata": {},
   "source": [
    "#### Transformando puntos a shape"
   ]
  },
  {
   "cell_type": "markdown",
   "metadata": {},
   "source": [
    "Transformando puntos a shape"
   ]
  },
  {
   "cell_type": "code",
   "execution_count": 24,
   "metadata": {},
   "outputs": [],
   "source": [
    "gdf_puntos = gpd.GeoDataFrame(df, geometry = gpd.points_from_xy(df.long, df.lat), \n",
    "                             crs = 'epsg:4326')"
   ]
  },
  {
   "cell_type": "code",
   "execution_count": 25,
   "metadata": {},
   "outputs": [
    {
     "data": {
      "text/plain": [
       "(16236, 39)"
      ]
     },
     "execution_count": 25,
     "metadata": {},
     "output_type": "execute_result"
    }
   ],
   "source": [
    "gdf_puntos.shape"
   ]
  },
  {
   "cell_type": "code",
   "execution_count": 26,
   "metadata": {},
   "outputs": [],
   "source": [
    "gdf_puntos = gdf_puntos.dropna(subset = ['geohash', 'long', 'lat'])"
   ]
  },
  {
   "cell_type": "code",
   "execution_count": 27,
   "metadata": {},
   "outputs": [
    {
     "data": {
      "text/plain": [
       "(12937, 39)"
      ]
     },
     "execution_count": 27,
     "metadata": {},
     "output_type": "execute_result"
    }
   ],
   "source": [
    "gdf_puntos.shape"
   ]
  },
  {
   "cell_type": "code",
   "execution_count": 28,
   "metadata": {},
   "outputs": [
    {
     "data": {
      "text/html": [
       "<div>\n",
       "<style scoped>\n",
       "    .dataframe tbody tr th:only-of-type {\n",
       "        vertical-align: middle;\n",
       "    }\n",
       "\n",
       "    .dataframe tbody tr th {\n",
       "        vertical-align: top;\n",
       "    }\n",
       "\n",
       "    .dataframe thead th {\n",
       "        text-align: right;\n",
       "    }\n",
       "</style>\n",
       "<table border=\"1\" class=\"dataframe\">\n",
       "  <thead>\n",
       "    <tr style=\"text-align: right;\">\n",
       "      <th></th>\n",
       "      <th>AGNO</th>\n",
       "      <th>RBD</th>\n",
       "      <th>DGV_RBD</th>\n",
       "      <th>NOM_RBD</th>\n",
       "      <th>MRUN</th>\n",
       "      <th>RUT_SOSTENEDOR</th>\n",
       "      <th>P_JURIDICA</th>\n",
       "      <th>COD_REG_RBD</th>\n",
       "      <th>NOM_REG_RBD_A</th>\n",
       "      <th>COD_PRO_RBD</th>\n",
       "      <th>...</th>\n",
       "      <th>MATRICULA</th>\n",
       "      <th>ESTADO_ESTAB</th>\n",
       "      <th>ORI_RELIGIOSA</th>\n",
       "      <th>ORI_OTRO_GLOSA</th>\n",
       "      <th>PAGO_MATRICULA</th>\n",
       "      <th>PAGO_MENSUAL</th>\n",
       "      <th>lat</th>\n",
       "      <th>long</th>\n",
       "      <th>geohash</th>\n",
       "      <th>geometry</th>\n",
       "    </tr>\n",
       "  </thead>\n",
       "  <tbody>\n",
       "    <tr>\n",
       "      <th>0</th>\n",
       "      <td>2019</td>\n",
       "      <td>1</td>\n",
       "      <td>9</td>\n",
       "      <td>LICEO POLITECNICO ARICA</td>\n",
       "      <td></td>\n",
       "      <td>69010100</td>\n",
       "      <td>1</td>\n",
       "      <td>15</td>\n",
       "      <td>AYP</td>\n",
       "      <td>151</td>\n",
       "      <td>...</td>\n",
       "      <td>1</td>\n",
       "      <td>1</td>\n",
       "      <td>2</td>\n",
       "      <td></td>\n",
       "      <td>GRATUITO</td>\n",
       "      <td>GRATUITO</td>\n",
       "      <td>-18.487274</td>\n",
       "      <td>-70.294739</td>\n",
       "      <td>6kwnb6k</td>\n",
       "      <td>POINT (-70.29474 -18.48727)</td>\n",
       "    </tr>\n",
       "    <tr>\n",
       "      <th>1</th>\n",
       "      <td>2019</td>\n",
       "      <td>2</td>\n",
       "      <td>7</td>\n",
       "      <td>PARVULARIO LAS ESPIGUITAS</td>\n",
       "      <td></td>\n",
       "      <td>69010100</td>\n",
       "      <td>1</td>\n",
       "      <td>15</td>\n",
       "      <td>AYP</td>\n",
       "      <td>151</td>\n",
       "      <td>...</td>\n",
       "      <td>1</td>\n",
       "      <td>1</td>\n",
       "      <td>2</td>\n",
       "      <td></td>\n",
       "      <td>GRATUITO</td>\n",
       "      <td>GRATUITO</td>\n",
       "      <td>-18.469862</td>\n",
       "      <td>-70.302757</td>\n",
       "      <td>6kwnbjx</td>\n",
       "      <td>POINT (-70.30276 -18.46986)</td>\n",
       "    </tr>\n",
       "    <tr>\n",
       "      <th>2</th>\n",
       "      <td>2019</td>\n",
       "      <td>3</td>\n",
       "      <td>5</td>\n",
       "      <td>ESC. PEDRO VICENTE GUTIERREZ TORRES</td>\n",
       "      <td></td>\n",
       "      <td>69010100</td>\n",
       "      <td>1</td>\n",
       "      <td>15</td>\n",
       "      <td>AYP</td>\n",
       "      <td>151</td>\n",
       "      <td>...</td>\n",
       "      <td>1</td>\n",
       "      <td>1</td>\n",
       "      <td>1</td>\n",
       "      <td></td>\n",
       "      <td>GRATUITO</td>\n",
       "      <td>GRATUITO</td>\n",
       "      <td>-18.503580</td>\n",
       "      <td>-70.260826</td>\n",
       "      <td>6kwn9pt</td>\n",
       "      <td>POINT (-70.26083 -18.50358)</td>\n",
       "    </tr>\n",
       "    <tr>\n",
       "      <th>3</th>\n",
       "      <td>2019</td>\n",
       "      <td>4</td>\n",
       "      <td>3</td>\n",
       "      <td>LICEO OCTAVIO PALMA PEREZ</td>\n",
       "      <td></td>\n",
       "      <td>69010100</td>\n",
       "      <td>1</td>\n",
       "      <td>15</td>\n",
       "      <td>AYP</td>\n",
       "      <td>151</td>\n",
       "      <td>...</td>\n",
       "      <td>1</td>\n",
       "      <td>1</td>\n",
       "      <td>1</td>\n",
       "      <td></td>\n",
       "      <td>GRATUITO</td>\n",
       "      <td>GRATUITO</td>\n",
       "      <td>-18.474243</td>\n",
       "      <td>-70.308266</td>\n",
       "      <td>6kwnbhg</td>\n",
       "      <td>POINT (-70.30827 -18.47424)</td>\n",
       "    </tr>\n",
       "    <tr>\n",
       "      <th>4</th>\n",
       "      <td>2019</td>\n",
       "      <td>5</td>\n",
       "      <td>1</td>\n",
       "      <td>JOVINA NARANJO FERNANDEZ</td>\n",
       "      <td></td>\n",
       "      <td>69010100</td>\n",
       "      <td>1</td>\n",
       "      <td>15</td>\n",
       "      <td>AYP</td>\n",
       "      <td>151</td>\n",
       "      <td>...</td>\n",
       "      <td>1</td>\n",
       "      <td>1</td>\n",
       "      <td>7</td>\n",
       "      <td>PLURALISTA</td>\n",
       "      <td>GRATUITO</td>\n",
       "      <td>GRATUITO</td>\n",
       "      <td>-18.476904</td>\n",
       "      <td>-70.313454</td>\n",
       "      <td>6ktyzur</td>\n",
       "      <td>POINT (-70.31345 -18.47690)</td>\n",
       "    </tr>\n",
       "  </tbody>\n",
       "</table>\n",
       "<p>5 rows × 39 columns</p>\n",
       "</div>"
      ],
      "text/plain": [
       "   AGNO  RBD  DGV_RBD                              NOM_RBD MRUN  \\\n",
       "0  2019    1        9              LICEO POLITECNICO ARICA        \n",
       "1  2019    2        7            PARVULARIO LAS ESPIGUITAS        \n",
       "2  2019    3        5  ESC. PEDRO VICENTE GUTIERREZ TORRES        \n",
       "3  2019    4        3            LICEO OCTAVIO PALMA PEREZ        \n",
       "4  2019    5        1             JOVINA NARANJO FERNANDEZ        \n",
       "\n",
       "  RUT_SOSTENEDOR  P_JURIDICA  COD_REG_RBD NOM_REG_RBD_A  COD_PRO_RBD  ...  \\\n",
       "0       69010100           1           15           AYP          151  ...   \n",
       "1       69010100           1           15           AYP          151  ...   \n",
       "2       69010100           1           15           AYP          151  ...   \n",
       "3       69010100           1           15           AYP          151  ...   \n",
       "4       69010100           1           15           AYP          151  ...   \n",
       "\n",
       "   MATRICULA ESTADO_ESTAB  ORI_RELIGIOSA ORI_OTRO_GLOSA  PAGO_MATRICULA  \\\n",
       "0          1            1              2                       GRATUITO   \n",
       "1          1            1              2                       GRATUITO   \n",
       "2          1            1              1                       GRATUITO   \n",
       "3          1            1              1                       GRATUITO   \n",
       "4          1            1              7     PLURALISTA        GRATUITO   \n",
       "\n",
       "   PAGO_MENSUAL        lat       long  geohash                     geometry  \n",
       "0      GRATUITO -18.487274 -70.294739  6kwnb6k  POINT (-70.29474 -18.48727)  \n",
       "1      GRATUITO -18.469862 -70.302757  6kwnbjx  POINT (-70.30276 -18.46986)  \n",
       "2      GRATUITO -18.503580 -70.260826  6kwn9pt  POINT (-70.26083 -18.50358)  \n",
       "3      GRATUITO -18.474243 -70.308266  6kwnbhg  POINT (-70.30827 -18.47424)  \n",
       "4      GRATUITO -18.476904 -70.313454  6ktyzur  POINT (-70.31345 -18.47690)  \n",
       "\n",
       "[5 rows x 39 columns]"
      ]
     },
     "execution_count": 28,
     "metadata": {},
     "output_type": "execute_result"
    }
   ],
   "source": [
    "gdf_puntos.head()"
   ]
  },
  {
   "cell_type": "markdown",
   "metadata": {},
   "source": [
    "Graficando shapefiles generado (puntos)"
   ]
  },
  {
   "cell_type": "code",
   "execution_count": 29,
   "metadata": {},
   "outputs": [
    {
     "data": {
      "text/plain": [
       "<AxesSubplot:>"
      ]
     },
     "execution_count": 29,
     "metadata": {},
     "output_type": "execute_result"
    },
    {
     "data": {
      "image/png": "[encoded data removed]",
      "text/plain": [
       "<Figure size 432x288 with 1 Axes>"
      ]
     },
     "metadata": {
      "needs_background": "light"
     },
     "output_type": "display_data"
    }
   ],
   "source": [
    "gdf_puntos.plot()"
   ]
  },
  {
   "cell_type": "markdown",
   "metadata": {},
   "source": [
    "#### Agrega regiones a geohashes de colegios"
   ]
  },
  {
   "cell_type": "markdown",
   "metadata": {},
   "source": [
    "Cargando shapefile de regiones"
   ]
  },
  {
   "cell_type": "code",
   "execution_count": 30,
   "metadata": {},
   "outputs": [],
   "source": [
    "mapa = gpd.read_file(file_shape)\n",
    "mapa = mapa.to_crs(\"epsg:4326\")"
   ]
  },
  {
   "cell_type": "code",
   "execution_count": 31,
   "metadata": {},
   "outputs": [
    {
     "data": {
      "text/html": [
       "<div>\n",
       "<style scoped>\n",
       "    .dataframe tbody tr th:only-of-type {\n",
       "        vertical-align: middle;\n",
       "    }\n",
       "\n",
       "    .dataframe tbody tr th {\n",
       "        vertical-align: top;\n",
       "    }\n",
       "\n",
       "    .dataframe thead th {\n",
       "        text-align: right;\n",
       "    }\n",
       "</style>\n",
       "<table border=\"1\" class=\"dataframe\">\n",
       "  <thead>\n",
       "    <tr style=\"text-align: right;\">\n",
       "      <th></th>\n",
       "      <th>objectid</th>\n",
       "      <th>shape_leng</th>\n",
       "      <th>dis_elec</th>\n",
       "      <th>cir_sena</th>\n",
       "      <th>cod_comuna</th>\n",
       "      <th>codregion</th>\n",
       "      <th>st_area_sh</th>\n",
       "      <th>st_length_</th>\n",
       "      <th>Region</th>\n",
       "      <th>Comuna</th>\n",
       "      <th>Provincia</th>\n",
       "      <th>geometry</th>\n",
       "    </tr>\n",
       "  </thead>\n",
       "  <tbody>\n",
       "    <tr>\n",
       "      <th>0</th>\n",
       "      <td>48</td>\n",
       "      <td>170038.624165</td>\n",
       "      <td>16</td>\n",
       "      <td>8</td>\n",
       "      <td>6204</td>\n",
       "      <td>6</td>\n",
       "      <td>9.685774e+08</td>\n",
       "      <td>206184.271675</td>\n",
       "      <td>Región del Libertador Bernardo O'Higgins</td>\n",
       "      <td>Marchigüe</td>\n",
       "      <td>Cardenal Caro</td>\n",
       "      <td>POLYGON ((-71.80071 -34.20728, -71.79992 -34.2...</td>\n",
       "    </tr>\n",
       "    <tr>\n",
       "      <th>1</th>\n",
       "      <td>29</td>\n",
       "      <td>125730.104795</td>\n",
       "      <td>15</td>\n",
       "      <td>8</td>\n",
       "      <td>6102</td>\n",
       "      <td>6</td>\n",
       "      <td>4.157446e+08</td>\n",
       "      <td>151911.576827</td>\n",
       "      <td>Región del Libertador Bernardo O'Higgins</td>\n",
       "      <td>Codegua</td>\n",
       "      <td>Cachapoal</td>\n",
       "      <td>POLYGON ((-70.35293 -33.95263, -70.35243 -33.9...</td>\n",
       "    </tr>\n",
       "    <tr>\n",
       "      <th>2</th>\n",
       "      <td>30</td>\n",
       "      <td>63026.084422</td>\n",
       "      <td>15</td>\n",
       "      <td>8</td>\n",
       "      <td>6103</td>\n",
       "      <td>6</td>\n",
       "      <td>1.448565e+08</td>\n",
       "      <td>76355.326122</td>\n",
       "      <td>Región del Libertador Bernardo O'Higgins</td>\n",
       "      <td>Coinco</td>\n",
       "      <td>Cachapoal</td>\n",
       "      <td>POLYGON ((-70.90058 -34.23703, -70.90063 -34.2...</td>\n",
       "    </tr>\n",
       "    <tr>\n",
       "      <th>3</th>\n",
       "      <td>31</td>\n",
       "      <td>89840.903562</td>\n",
       "      <td>15</td>\n",
       "      <td>8</td>\n",
       "      <td>6104</td>\n",
       "      <td>6</td>\n",
       "      <td>3.256572e+08</td>\n",
       "      <td>108874.623150</td>\n",
       "      <td>Región del Libertador Bernardo O'Higgins</td>\n",
       "      <td>Coltauco</td>\n",
       "      <td>Cachapoal</td>\n",
       "      <td>POLYGON ((-71.02492 -34.17053, -71.02320 -34.1...</td>\n",
       "    </tr>\n",
       "    <tr>\n",
       "      <th>4</th>\n",
       "      <td>78</td>\n",
       "      <td>122626.493264</td>\n",
       "      <td>23</td>\n",
       "      <td>11</td>\n",
       "      <td>9121</td>\n",
       "      <td>9</td>\n",
       "      <td>6.990727e+08</td>\n",
       "      <td>156680.410681</td>\n",
       "      <td>Región de La Araucanía</td>\n",
       "      <td>Cholchol</td>\n",
       "      <td>Cautín</td>\n",
       "      <td>POLYGON ((-72.95898 -38.46877, -72.95797 -38.4...</td>\n",
       "    </tr>\n",
       "  </tbody>\n",
       "</table>\n",
       "</div>"
      ],
      "text/plain": [
       "   objectid     shape_leng  dis_elec  cir_sena  cod_comuna  codregion  \\\n",
       "0        48  170038.624165        16         8        6204          6   \n",
       "1        29  125730.104795        15         8        6102          6   \n",
       "2        30   63026.084422        15         8        6103          6   \n",
       "3        31   89840.903562        15         8        6104          6   \n",
       "4        78  122626.493264        23        11        9121          9   \n",
       "\n",
       "     st_area_sh     st_length_                                    Region  \\\n",
       "0  9.685774e+08  206184.271675  Región del Libertador Bernardo O'Higgins   \n",
       "1  4.157446e+08  151911.576827  Región del Libertador Bernardo O'Higgins   \n",
       "2  1.448565e+08   76355.326122  Región del Libertador Bernardo O'Higgins   \n",
       "3  3.256572e+08  108874.623150  Región del Libertador Bernardo O'Higgins   \n",
       "4  6.990727e+08  156680.410681                    Región de La Araucanía   \n",
       "\n",
       "      Comuna      Provincia                                           geometry  \n",
       "0  Marchigüe  Cardenal Caro  POLYGON ((-71.80071 -34.20728, -71.79992 -34.2...  \n",
       "1    Codegua      Cachapoal  POLYGON ((-70.35293 -33.95263, -70.35243 -33.9...  \n",
       "2     Coinco      Cachapoal  POLYGON ((-70.90058 -34.23703, -70.90063 -34.2...  \n",
       "3   Coltauco      Cachapoal  POLYGON ((-71.02492 -34.17053, -71.02320 -34.1...  \n",
       "4   Cholchol         Cautín  POLYGON ((-72.95898 -38.46877, -72.95797 -38.4...  "
      ]
     },
     "execution_count": 31,
     "metadata": {},
     "output_type": "execute_result"
    }
   ],
   "source": [
    "mapa.head()"
   ]
  },
  {
   "cell_type": "markdown",
   "metadata": {},
   "source": [
    "Dibujando shapefile de regiones"
   ]
  },
  {
   "cell_type": "code",
   "execution_count": 32,
   "metadata": {},
   "outputs": [
    {
     "data": {
      "text/plain": [
       "<AxesSubplot:>"
      ]
     },
     "execution_count": 32,
     "metadata": {},
     "output_type": "execute_result"
    },
    {
     "data": {
      "image/png": "[encoded data removed]",
      "text/plain": [
       "<Figure size 432x288 with 1 Axes>"
      ]
     },
     "metadata": {
      "needs_background": "light"
     },
     "output_type": "display_data"
    }
   ],
   "source": [
    "mapa.plot()"
   ]
  },
  {
   "cell_type": "markdown",
   "metadata": {},
   "source": [
    "Cruzando shapefiles - Puntos y Polígonos"
   ]
  },
  {
   "cell_type": "code",
   "execution_count": 33,
   "metadata": {
    "scrolled": true
   },
   "outputs": [
    {
     "data": {
      "text/html": [
       "<div>\n",
       "<style scoped>\n",
       "    .dataframe tbody tr th:only-of-type {\n",
       "        vertical-align: middle;\n",
       "    }\n",
       "\n",
       "    .dataframe tbody tr th {\n",
       "        vertical-align: top;\n",
       "    }\n",
       "\n",
       "    .dataframe thead th {\n",
       "        text-align: right;\n",
       "    }\n",
       "</style>\n",
       "<table border=\"1\" class=\"dataframe\">\n",
       "  <thead>\n",
       "    <tr style=\"text-align: right;\">\n",
       "      <th></th>\n",
       "      <th>cod_comuna</th>\n",
       "      <th>Comuna</th>\n",
       "      <th>geometry</th>\n",
       "    </tr>\n",
       "  </thead>\n",
       "  <tbody>\n",
       "    <tr>\n",
       "      <th>0</th>\n",
       "      <td>6204</td>\n",
       "      <td>Marchigüe</td>\n",
       "      <td>POLYGON ((-71.80071 -34.20728, -71.79992 -34.2...</td>\n",
       "    </tr>\n",
       "    <tr>\n",
       "      <th>1</th>\n",
       "      <td>6102</td>\n",
       "      <td>Codegua</td>\n",
       "      <td>POLYGON ((-70.35293 -33.95263, -70.35243 -33.9...</td>\n",
       "    </tr>\n",
       "    <tr>\n",
       "      <th>2</th>\n",
       "      <td>6103</td>\n",
       "      <td>Coinco</td>\n",
       "      <td>POLYGON ((-70.90058 -34.23703, -70.90063 -34.2...</td>\n",
       "    </tr>\n",
       "    <tr>\n",
       "      <th>3</th>\n",
       "      <td>6104</td>\n",
       "      <td>Coltauco</td>\n",
       "      <td>POLYGON ((-71.02492 -34.17053, -71.02320 -34.1...</td>\n",
       "    </tr>\n",
       "    <tr>\n",
       "      <th>4</th>\n",
       "      <td>9121</td>\n",
       "      <td>Cholchol</td>\n",
       "      <td>POLYGON ((-72.95898 -38.46877, -72.95797 -38.4...</td>\n",
       "    </tr>\n",
       "  </tbody>\n",
       "</table>\n",
       "</div>"
      ],
      "text/plain": [
       "   cod_comuna     Comuna                                           geometry\n",
       "0        6204  Marchigüe  POLYGON ((-71.80071 -34.20728, -71.79992 -34.2...\n",
       "1        6102    Codegua  POLYGON ((-70.35293 -33.95263, -70.35243 -33.9...\n",
       "2        6103     Coinco  POLYGON ((-70.90058 -34.23703, -70.90063 -34.2...\n",
       "3        6104   Coltauco  POLYGON ((-71.02492 -34.17053, -71.02320 -34.1...\n",
       "4        9121   Cholchol  POLYGON ((-72.95898 -38.46877, -72.95797 -38.4..."
      ]
     },
     "execution_count": 33,
     "metadata": {},
     "output_type": "execute_result"
    }
   ],
   "source": [
    "mapa = mapa.loc[:, [ID_regeion, Nom_region, 'geometry']]\n",
    "mapa.head()"
   ]
  },
  {
   "cell_type": "code",
   "execution_count": 34,
   "metadata": {},
   "outputs": [],
   "source": [
    "df_final = gpd.sjoin(gdf_puntos, mapa, op ='within')"
   ]
  },
  {
   "cell_type": "code",
   "execution_count": 35,
   "metadata": {},
   "outputs": [],
   "source": [
    "df_final = df_final.drop(columns = ['index_right'])"
   ]
  },
  {
   "cell_type": "code",
   "execution_count": 36,
   "metadata": {},
   "outputs": [
    {
     "data": {
      "text/plain": [
       "(12937, 39)"
      ]
     },
     "execution_count": 36,
     "metadata": {},
     "output_type": "execute_result"
    }
   ],
   "source": [
    "gdf_puntos.shape"
   ]
  },
  {
   "cell_type": "code",
   "execution_count": 37,
   "metadata": {},
   "outputs": [
    {
     "data": {
      "text/plain": [
       "(12917, 41)"
      ]
     },
     "execution_count": 37,
     "metadata": {},
     "output_type": "execute_result"
    }
   ],
   "source": [
    "df_final.shape"
   ]
  },
  {
   "cell_type": "code",
   "execution_count": 38,
   "metadata": {
    "scrolled": true
   },
   "outputs": [
    {
     "data": {
      "text/html": [
       "<div>\n",
       "<style scoped>\n",
       "    .dataframe tbody tr th:only-of-type {\n",
       "        vertical-align: middle;\n",
       "    }\n",
       "\n",
       "    .dataframe tbody tr th {\n",
       "        vertical-align: top;\n",
       "    }\n",
       "\n",
       "    .dataframe thead th {\n",
       "        text-align: right;\n",
       "    }\n",
       "</style>\n",
       "<table border=\"1\" class=\"dataframe\">\n",
       "  <thead>\n",
       "    <tr style=\"text-align: right;\">\n",
       "      <th></th>\n",
       "      <th>AGNO</th>\n",
       "      <th>RBD</th>\n",
       "      <th>DGV_RBD</th>\n",
       "      <th>NOM_RBD</th>\n",
       "      <th>MRUN</th>\n",
       "      <th>RUT_SOSTENEDOR</th>\n",
       "      <th>P_JURIDICA</th>\n",
       "      <th>COD_REG_RBD</th>\n",
       "      <th>NOM_REG_RBD_A</th>\n",
       "      <th>COD_PRO_RBD</th>\n",
       "      <th>...</th>\n",
       "      <th>ORI_RELIGIOSA</th>\n",
       "      <th>ORI_OTRO_GLOSA</th>\n",
       "      <th>PAGO_MATRICULA</th>\n",
       "      <th>PAGO_MENSUAL</th>\n",
       "      <th>lat</th>\n",
       "      <th>long</th>\n",
       "      <th>geohash</th>\n",
       "      <th>geometry</th>\n",
       "      <th>cod_comuna</th>\n",
       "      <th>Comuna</th>\n",
       "    </tr>\n",
       "  </thead>\n",
       "  <tbody>\n",
       "    <tr>\n",
       "      <th>0</th>\n",
       "      <td>2019</td>\n",
       "      <td>1</td>\n",
       "      <td>9</td>\n",
       "      <td>LICEO POLITECNICO ARICA</td>\n",
       "      <td></td>\n",
       "      <td>69010100</td>\n",
       "      <td>1</td>\n",
       "      <td>15</td>\n",
       "      <td>AYP</td>\n",
       "      <td>151</td>\n",
       "      <td>...</td>\n",
       "      <td>2</td>\n",
       "      <td></td>\n",
       "      <td>GRATUITO</td>\n",
       "      <td>GRATUITO</td>\n",
       "      <td>-18.487274</td>\n",
       "      <td>-70.294739</td>\n",
       "      <td>6kwnb6k</td>\n",
       "      <td>POINT (-70.29474 -18.48727)</td>\n",
       "      <td>15101</td>\n",
       "      <td>Arica</td>\n",
       "    </tr>\n",
       "    <tr>\n",
       "      <th>1</th>\n",
       "      <td>2019</td>\n",
       "      <td>2</td>\n",
       "      <td>7</td>\n",
       "      <td>PARVULARIO LAS ESPIGUITAS</td>\n",
       "      <td></td>\n",
       "      <td>69010100</td>\n",
       "      <td>1</td>\n",
       "      <td>15</td>\n",
       "      <td>AYP</td>\n",
       "      <td>151</td>\n",
       "      <td>...</td>\n",
       "      <td>2</td>\n",
       "      <td></td>\n",
       "      <td>GRATUITO</td>\n",
       "      <td>GRATUITO</td>\n",
       "      <td>-18.469862</td>\n",
       "      <td>-70.302757</td>\n",
       "      <td>6kwnbjx</td>\n",
       "      <td>POINT (-70.30276 -18.46986)</td>\n",
       "      <td>15101</td>\n",
       "      <td>Arica</td>\n",
       "    </tr>\n",
       "    <tr>\n",
       "      <th>2</th>\n",
       "      <td>2019</td>\n",
       "      <td>3</td>\n",
       "      <td>5</td>\n",
       "      <td>ESC. PEDRO VICENTE GUTIERREZ TORRES</td>\n",
       "      <td></td>\n",
       "      <td>69010100</td>\n",
       "      <td>1</td>\n",
       "      <td>15</td>\n",
       "      <td>AYP</td>\n",
       "      <td>151</td>\n",
       "      <td>...</td>\n",
       "      <td>1</td>\n",
       "      <td></td>\n",
       "      <td>GRATUITO</td>\n",
       "      <td>GRATUITO</td>\n",
       "      <td>-18.503580</td>\n",
       "      <td>-70.260826</td>\n",
       "      <td>6kwn9pt</td>\n",
       "      <td>POINT (-70.26083 -18.50358)</td>\n",
       "      <td>15101</td>\n",
       "      <td>Arica</td>\n",
       "    </tr>\n",
       "    <tr>\n",
       "      <th>3</th>\n",
       "      <td>2019</td>\n",
       "      <td>4</td>\n",
       "      <td>3</td>\n",
       "      <td>LICEO OCTAVIO PALMA PEREZ</td>\n",
       "      <td></td>\n",
       "      <td>69010100</td>\n",
       "      <td>1</td>\n",
       "      <td>15</td>\n",
       "      <td>AYP</td>\n",
       "      <td>151</td>\n",
       "      <td>...</td>\n",
       "      <td>1</td>\n",
       "      <td></td>\n",
       "      <td>GRATUITO</td>\n",
       "      <td>GRATUITO</td>\n",
       "      <td>-18.474243</td>\n",
       "      <td>-70.308266</td>\n",
       "      <td>6kwnbhg</td>\n",
       "      <td>POINT (-70.30827 -18.47424)</td>\n",
       "      <td>15101</td>\n",
       "      <td>Arica</td>\n",
       "    </tr>\n",
       "    <tr>\n",
       "      <th>4</th>\n",
       "      <td>2019</td>\n",
       "      <td>5</td>\n",
       "      <td>1</td>\n",
       "      <td>JOVINA NARANJO FERNANDEZ</td>\n",
       "      <td></td>\n",
       "      <td>69010100</td>\n",
       "      <td>1</td>\n",
       "      <td>15</td>\n",
       "      <td>AYP</td>\n",
       "      <td>151</td>\n",
       "      <td>...</td>\n",
       "      <td>7</td>\n",
       "      <td>PLURALISTA</td>\n",
       "      <td>GRATUITO</td>\n",
       "      <td>GRATUITO</td>\n",
       "      <td>-18.476904</td>\n",
       "      <td>-70.313454</td>\n",
       "      <td>6ktyzur</td>\n",
       "      <td>POINT (-70.31345 -18.47690)</td>\n",
       "      <td>15101</td>\n",
       "      <td>Arica</td>\n",
       "    </tr>\n",
       "  </tbody>\n",
       "</table>\n",
       "<p>5 rows × 41 columns</p>\n",
       "</div>"
      ],
      "text/plain": [
       "   AGNO  RBD  DGV_RBD                              NOM_RBD MRUN  \\\n",
       "0  2019    1        9              LICEO POLITECNICO ARICA        \n",
       "1  2019    2        7            PARVULARIO LAS ESPIGUITAS        \n",
       "2  2019    3        5  ESC. PEDRO VICENTE GUTIERREZ TORRES        \n",
       "3  2019    4        3            LICEO OCTAVIO PALMA PEREZ        \n",
       "4  2019    5        1             JOVINA NARANJO FERNANDEZ        \n",
       "\n",
       "  RUT_SOSTENEDOR  P_JURIDICA  COD_REG_RBD NOM_REG_RBD_A  COD_PRO_RBD  ...  \\\n",
       "0       69010100           1           15           AYP          151  ...   \n",
       "1       69010100           1           15           AYP          151  ...   \n",
       "2       69010100           1           15           AYP          151  ...   \n",
       "3       69010100           1           15           AYP          151  ...   \n",
       "4       69010100           1           15           AYP          151  ...   \n",
       "\n",
       "   ORI_RELIGIOSA ORI_OTRO_GLOSA  PAGO_MATRICULA PAGO_MENSUAL        lat  \\\n",
       "0              2                       GRATUITO     GRATUITO -18.487274   \n",
       "1              2                       GRATUITO     GRATUITO -18.469862   \n",
       "2              1                       GRATUITO     GRATUITO -18.503580   \n",
       "3              1                       GRATUITO     GRATUITO -18.474243   \n",
       "4              7     PLURALISTA        GRATUITO     GRATUITO -18.476904   \n",
       "\n",
       "        long  geohash                     geometry  cod_comuna  Comuna  \n",
       "0 -70.294739  6kwnb6k  POINT (-70.29474 -18.48727)       15101   Arica  \n",
       "1 -70.302757  6kwnbjx  POINT (-70.30276 -18.46986)       15101   Arica  \n",
       "2 -70.260826  6kwn9pt  POINT (-70.26083 -18.50358)       15101   Arica  \n",
       "3 -70.308266  6kwnbhg  POINT (-70.30827 -18.47424)       15101   Arica  \n",
       "4 -70.313454  6ktyzur  POINT (-70.31345 -18.47690)       15101   Arica  \n",
       "\n",
       "[5 rows x 41 columns]"
      ]
     },
     "execution_count": 38,
     "metadata": {},
     "output_type": "execute_result"
    }
   ],
   "source": [
    "df_final.head()"
   ]
  },
  {
   "cell_type": "markdown",
   "metadata": {},
   "source": [
    "# Exportando resultados"
   ]
  },
  {
   "cell_type": "code",
   "execution_count": 39,
   "metadata": {},
   "outputs": [],
   "source": [
    "df_final.to_csv(file_output, sep = ',', index_label = 'row_number')"
   ]
  },
  {
   "cell_type": "code",
   "execution_count": 40,
   "metadata": {},
   "outputs": [
    {
     "data": {
      "text/plain": [
       "Index(['AGNO', 'RBD', 'DGV_RBD', 'NOM_RBD', 'MRUN', 'RUT_SOSTENEDOR',\n",
       "       'P_JURIDICA', 'COD_REG_RBD', 'NOM_REG_RBD_A', 'COD_PRO_RBD',\n",
       "       'COD_COM_RBD', 'NOM_COM_RBD', 'COD_DEPROV_RBD', 'NOM_DEPROV_RBD',\n",
       "       'COD_DEPE', 'COD_DEPE2', 'RURAL_RBD', 'CONVENIO_PIE', 'ENS_01',\n",
       "       'ENS_02', 'ENS_03', 'ENS_04', 'ENS_05', 'ENS_06', 'ENS_07', 'ENS_08',\n",
       "       'ENS_09', 'ENS_10', 'ENS_11', 'MATRICULA', 'ESTADO_ESTAB',\n",
       "       'ORI_RELIGIOSA', 'ORI_OTRO_GLOSA', 'PAGO_MATRICULA', 'PAGO_MENSUAL',\n",
       "       'lat', 'long', 'geohash', 'geometry'],\n",
       "      dtype='object')"
      ]
     },
     "execution_count": 40,
     "metadata": {},
     "output_type": "execute_result"
    }
   ],
   "source": [
    "df.columns"
   ]
  }
 ],
 "metadata": {
  "kernelspec": {
   "display_name": "Python 3",
   "language": "python",
   "name": "python3"
  },
  "language_info": {
   "codemirror_mode": {
    "name": "ipython",
    "version": 3
   },
   "file_extension": ".py",
   "mimetype": "text/x-python",
   "name": "python",
   "nbconvert_exporter": "python",
   "pygments_lexer": "ipython3",
   "version": "3.7.7"
  }
 },
 "nbformat": 4,
 "nbformat_minor": 2
}
