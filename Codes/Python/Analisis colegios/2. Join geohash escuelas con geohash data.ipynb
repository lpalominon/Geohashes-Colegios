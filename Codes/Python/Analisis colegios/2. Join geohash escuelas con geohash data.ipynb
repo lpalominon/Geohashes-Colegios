{
 "cells": [
  {
   "cell_type": "markdown",
   "metadata": {},
   "source": [
    "# Cargando librerias"
   ]
  },
  {
   "cell_type": "code",
   "execution_count": 1,
   "metadata": {},
   "outputs": [],
   "source": [
    "import pandas as pd\n",
    "import zipfile\n",
    "import matplotlib.pyplot as plt"
   ]
  },
  {
   "cell_type": "markdown",
   "metadata": {},
   "source": [
    "# Paths"
   ]
  },
  {
   "cell_type": "code",
   "execution_count": 2,
   "metadata": {},
   "outputs": [
    {
     "name": "stdout",
     "output_type": "stream",
     "text": [
      "C:\\Users\\BS\\Documents\\Github\\Geohashes-Colegios\\Data\\Colegios\\Chile_colegios_geohash.csv\n",
      "C:\\Users\\BS\\Documents\\Github\\Geohashes-Colegios\\Data\\Geohashes\\Chile.zip\n",
      "C:\\Users\\BS\\Documents\\Github\\Geohashes-Colegios\\Data\\Colegios\\Chile_colegios_geohash_sin_visitas.csv\n",
      "C:\\Users\\BS\\Documents\\Github\\Geohashes-Colegios\\Data\\Colegios\\Chile_colegios_geohash_con_visitas.zip\n",
      "C:\\Users\\BS\\Documents\\Github\\Geohashes-Colegios\\Data\\Colegios\\Chile_colegios_geohash_con_visitas.csv\n"
     ]
    }
   ],
   "source": [
    "path_personal = r\"C:\\Users\\BS\\Documents\\Github\"\n",
    "\n",
    "path_global = path_personal + r\"\\Geohashes-Colegios\"\n",
    "\n",
    "path_data = path_global + r\"\\Data\"\n",
    "\n",
    "path_data_colegios = path_data + r\"\\Colegios\"\n",
    "file_colegios = path_data_colegios + r\"\\Chile_colegios_geohash.csv\"\n",
    "\n",
    "path_data_geohashes = path_data + r\"\\Geohashes\"\n",
    "file_geohashes = path_data_geohashes + r\"\\Chile.zip\"\n",
    "\n",
    "path_output = path_data_colegios\n",
    "file_output_sin_visitas = path_data_colegios + r\"\\Chile_colegios_geohash_sin_visitas.csv\"\n",
    "file_output_con_visitas_zip = path_data_colegios + r\"\\Chile_colegios_geohash_con_visitas.zip\"\n",
    "file_output_con_visitas_csv = path_data_colegios + r\"\\Chile_colegios_geohash_con_visitas.csv\"\n",
    "\n",
    "file_output_geohashes_zip = path_data_colegios + r\"\\Geohashes_con_sin_colegios.zip\"\n",
    "\n",
    "print(file_colegios)\n",
    "print(file_geohashes)\n",
    "print(file_output_sin_visitas)\n",
    "print(file_output_con_visitas_zip)\n",
    "print(file_output_con_visitas_csv)"
   ]
  },
  {
   "cell_type": "markdown",
   "metadata": {},
   "source": [
    "# Importando Datos"
   ]
  },
  {
   "cell_type": "markdown",
   "metadata": {},
   "source": [
    "#### Importando geohashes con datos"
   ]
  },
  {
   "cell_type": "code",
   "execution_count": 3,
   "metadata": {},
   "outputs": [],
   "source": [
    "df_geohashes = pd.read_csv(file_geohashes)"
   ]
  },
  {
   "cell_type": "code",
   "execution_count": 4,
   "metadata": {},
   "outputs": [],
   "source": [
    "df_geohashes = df_geohashes.drop(columns = ['Unnamed: 0'])"
   ]
  },
  {
   "cell_type": "code",
   "execution_count": 5,
   "metadata": {},
   "outputs": [
    {
     "data": {
      "text/plain": [
       "(19166083, 31)"
      ]
     },
     "execution_count": 5,
     "metadata": {},
     "output_type": "execute_result"
    }
   ],
   "source": [
    "df_geohashes.shape"
   ]
  },
  {
   "cell_type": "code",
   "execution_count": 6,
   "metadata": {},
   "outputs": [
    {
     "data": {
      "text/html": [
       "<div>\n",
       "<style scoped>\n",
       "    .dataframe tbody tr th:only-of-type {\n",
       "        vertical-align: middle;\n",
       "    }\n",
       "\n",
       "    .dataframe tbody tr th {\n",
       "        vertical-align: top;\n",
       "    }\n",
       "\n",
       "    .dataframe thead th {\n",
       "        text-align: right;\n",
       "    }\n",
       "</style>\n",
       "<table border=\"1\" class=\"dataframe\">\n",
       "  <thead>\n",
       "    <tr style=\"text-align: right;\">\n",
       "      <th></th>\n",
       "      <th>geohash</th>\n",
       "      <th>g_adm_1</th>\n",
       "      <th>g_adm_3</th>\n",
       "      <th>month</th>\n",
       "      <th>day</th>\n",
       "      <th>n_visitantes_geohash</th>\n",
       "      <th>n_visitantes_adm3</th>\n",
       "      <th>n_visitantes_0</th>\n",
       "      <th>n_visitantes_1</th>\n",
       "      <th>n_visitantes_2</th>\n",
       "      <th>...</th>\n",
       "      <th>n_visitantes_14</th>\n",
       "      <th>n_visitantes_15</th>\n",
       "      <th>n_visitantes_16</th>\n",
       "      <th>n_visitantes_17</th>\n",
       "      <th>n_visitantes_18</th>\n",
       "      <th>n_visitantes_19</th>\n",
       "      <th>n_visitantes_20</th>\n",
       "      <th>n_visitantes_21</th>\n",
       "      <th>n_visitantes_22</th>\n",
       "      <th>n_visitantes_23</th>\n",
       "    </tr>\n",
       "  </thead>\n",
       "  <tbody>\n",
       "    <tr>\n",
       "      <th>0</th>\n",
       "      <td>66jt91k</td>\n",
       "      <td>5.0</td>\n",
       "      <td>5702.0</td>\n",
       "      <td>5</td>\n",
       "      <td>3</td>\n",
       "      <td>4</td>\n",
       "      <td>2</td>\n",
       "      <td>0</td>\n",
       "      <td>0</td>\n",
       "      <td>0</td>\n",
       "      <td>...</td>\n",
       "      <td>1</td>\n",
       "      <td>1</td>\n",
       "      <td>0</td>\n",
       "      <td>1</td>\n",
       "      <td>0</td>\n",
       "      <td>0</td>\n",
       "      <td>0</td>\n",
       "      <td>1</td>\n",
       "      <td>0</td>\n",
       "      <td>0</td>\n",
       "    </tr>\n",
       "    <tr>\n",
       "      <th>1</th>\n",
       "      <td>63knfd2</td>\n",
       "      <td>8.0</td>\n",
       "      <td>8107.0</td>\n",
       "      <td>3</td>\n",
       "      <td>16</td>\n",
       "      <td>15</td>\n",
       "      <td>11</td>\n",
       "      <td>1</td>\n",
       "      <td>0</td>\n",
       "      <td>0</td>\n",
       "      <td>...</td>\n",
       "      <td>3</td>\n",
       "      <td>4</td>\n",
       "      <td>1</td>\n",
       "      <td>1</td>\n",
       "      <td>2</td>\n",
       "      <td>2</td>\n",
       "      <td>0</td>\n",
       "      <td>1</td>\n",
       "      <td>1</td>\n",
       "      <td>0</td>\n",
       "    </tr>\n",
       "    <tr>\n",
       "      <th>2</th>\n",
       "      <td>637uz4p</td>\n",
       "      <td>8.0</td>\n",
       "      <td>8106.0</td>\n",
       "      <td>3</td>\n",
       "      <td>16</td>\n",
       "      <td>3</td>\n",
       "      <td>3</td>\n",
       "      <td>0</td>\n",
       "      <td>0</td>\n",
       "      <td>0</td>\n",
       "      <td>...</td>\n",
       "      <td>0</td>\n",
       "      <td>0</td>\n",
       "      <td>0</td>\n",
       "      <td>0</td>\n",
       "      <td>0</td>\n",
       "      <td>1</td>\n",
       "      <td>0</td>\n",
       "      <td>0</td>\n",
       "      <td>0</td>\n",
       "      <td>0</td>\n",
       "    </tr>\n",
       "    <tr>\n",
       "      <th>3</th>\n",
       "      <td>66jec5e</td>\n",
       "      <td>13.0</td>\n",
       "      <td>13303.0</td>\n",
       "      <td>5</td>\n",
       "      <td>6</td>\n",
       "      <td>1</td>\n",
       "      <td>1</td>\n",
       "      <td>0</td>\n",
       "      <td>0</td>\n",
       "      <td>0</td>\n",
       "      <td>...</td>\n",
       "      <td>0</td>\n",
       "      <td>0</td>\n",
       "      <td>0</td>\n",
       "      <td>0</td>\n",
       "      <td>0</td>\n",
       "      <td>0</td>\n",
       "      <td>0</td>\n",
       "      <td>0</td>\n",
       "      <td>0</td>\n",
       "      <td>0</td>\n",
       "    </tr>\n",
       "    <tr>\n",
       "      <th>4</th>\n",
       "      <td>66jcejx</td>\n",
       "      <td>13.0</td>\n",
       "      <td>13113.0</td>\n",
       "      <td>3</td>\n",
       "      <td>10</td>\n",
       "      <td>5</td>\n",
       "      <td>4</td>\n",
       "      <td>0</td>\n",
       "      <td>0</td>\n",
       "      <td>0</td>\n",
       "      <td>...</td>\n",
       "      <td>0</td>\n",
       "      <td>1</td>\n",
       "      <td>1</td>\n",
       "      <td>0</td>\n",
       "      <td>0</td>\n",
       "      <td>0</td>\n",
       "      <td>0</td>\n",
       "      <td>0</td>\n",
       "      <td>0</td>\n",
       "      <td>0</td>\n",
       "    </tr>\n",
       "  </tbody>\n",
       "</table>\n",
       "<p>5 rows × 31 columns</p>\n",
       "</div>"
      ],
      "text/plain": [
       "   geohash  g_adm_1  g_adm_3  month  day  n_visitantes_geohash  \\\n",
       "0  66jt91k      5.0   5702.0      5    3                     4   \n",
       "1  63knfd2      8.0   8107.0      3   16                    15   \n",
       "2  637uz4p      8.0   8106.0      3   16                     3   \n",
       "3  66jec5e     13.0  13303.0      5    6                     1   \n",
       "4  66jcejx     13.0  13113.0      3   10                     5   \n",
       "\n",
       "   n_visitantes_adm3  n_visitantes_0  n_visitantes_1  n_visitantes_2  ...  \\\n",
       "0                  2               0               0               0  ...   \n",
       "1                 11               1               0               0  ...   \n",
       "2                  3               0               0               0  ...   \n",
       "3                  1               0               0               0  ...   \n",
       "4                  4               0               0               0  ...   \n",
       "\n",
       "   n_visitantes_14  n_visitantes_15  n_visitantes_16  n_visitantes_17  \\\n",
       "0                1                1                0                1   \n",
       "1                3                4                1                1   \n",
       "2                0                0                0                0   \n",
       "3                0                0                0                0   \n",
       "4                0                1                1                0   \n",
       "\n",
       "   n_visitantes_18  n_visitantes_19  n_visitantes_20  n_visitantes_21  \\\n",
       "0                0                0                0                1   \n",
       "1                2                2                0                1   \n",
       "2                0                1                0                0   \n",
       "3                0                0                0                0   \n",
       "4                0                0                0                0   \n",
       "\n",
       "   n_visitantes_22  n_visitantes_23  \n",
       "0                0                0  \n",
       "1                1                0  \n",
       "2                0                0  \n",
       "3                0                0  \n",
       "4                0                0  \n",
       "\n",
       "[5 rows x 31 columns]"
      ]
     },
     "execution_count": 6,
     "metadata": {},
     "output_type": "execute_result"
    }
   ],
   "source": [
    "df_geohashes.head(5)"
   ]
  },
  {
   "cell_type": "code",
   "execution_count": 7,
   "metadata": {},
   "outputs": [
    {
     "data": {
      "text/plain": [
       "Index(['geohash', 'g_adm_1', 'g_adm_3', 'month', 'day', 'n_visitantes_geohash',\n",
       "       'n_visitantes_adm3', 'n_visitantes_0', 'n_visitantes_1',\n",
       "       'n_visitantes_2', 'n_visitantes_3', 'n_visitantes_4', 'n_visitantes_5',\n",
       "       'n_visitantes_6', 'n_visitantes_7', 'n_visitantes_8', 'n_visitantes_9',\n",
       "       'n_visitantes_10', 'n_visitantes_11', 'n_visitantes_12',\n",
       "       'n_visitantes_13', 'n_visitantes_14', 'n_visitantes_15',\n",
       "       'n_visitantes_16', 'n_visitantes_17', 'n_visitantes_18',\n",
       "       'n_visitantes_19', 'n_visitantes_20', 'n_visitantes_21',\n",
       "       'n_visitantes_22', 'n_visitantes_23'],\n",
       "      dtype='object')"
      ]
     },
     "execution_count": 7,
     "metadata": {},
     "output_type": "execute_result"
    }
   ],
   "source": [
    "df_geohashes.columns"
   ]
  },
  {
   "cell_type": "markdown",
   "metadata": {},
   "source": [
    "#### Importando datos de colegios con geohashes"
   ]
  },
  {
   "cell_type": "code",
   "execution_count": 8,
   "metadata": {},
   "outputs": [],
   "source": [
    "df_colegios = pd.read_csv(file_colegios)"
   ]
  },
  {
   "cell_type": "code",
   "execution_count": 9,
   "metadata": {
    "scrolled": true
   },
   "outputs": [
    {
     "data": {
      "text/html": [
       "<div>\n",
       "<style scoped>\n",
       "    .dataframe tbody tr th:only-of-type {\n",
       "        vertical-align: middle;\n",
       "    }\n",
       "\n",
       "    .dataframe tbody tr th {\n",
       "        vertical-align: top;\n",
       "    }\n",
       "\n",
       "    .dataframe thead th {\n",
       "        text-align: right;\n",
       "    }\n",
       "</style>\n",
       "<table border=\"1\" class=\"dataframe\">\n",
       "  <thead>\n",
       "    <tr style=\"text-align: right;\">\n",
       "      <th></th>\n",
       "      <th>row_number</th>\n",
       "      <th>AGNO</th>\n",
       "      <th>RBD</th>\n",
       "      <th>DGV_RBD</th>\n",
       "      <th>NOM_RBD</th>\n",
       "      <th>MRUN</th>\n",
       "      <th>RUT_SOSTENEDOR</th>\n",
       "      <th>P_JURIDICA</th>\n",
       "      <th>COD_REG_RBD</th>\n",
       "      <th>NOM_REG_RBD_A</th>\n",
       "      <th>...</th>\n",
       "      <th>ORI_RELIGIOSA</th>\n",
       "      <th>ORI_OTRO_GLOSA</th>\n",
       "      <th>PAGO_MATRICULA</th>\n",
       "      <th>PAGO_MENSUAL</th>\n",
       "      <th>lat</th>\n",
       "      <th>long</th>\n",
       "      <th>geohash</th>\n",
       "      <th>geometry</th>\n",
       "      <th>cod_comuna</th>\n",
       "      <th>Comuna</th>\n",
       "    </tr>\n",
       "  </thead>\n",
       "  <tbody>\n",
       "    <tr>\n",
       "      <th>0</th>\n",
       "      <td>0</td>\n",
       "      <td>2019</td>\n",
       "      <td>1</td>\n",
       "      <td>9</td>\n",
       "      <td>LICEO POLITECNICO ARICA</td>\n",
       "      <td></td>\n",
       "      <td>69010100</td>\n",
       "      <td>1</td>\n",
       "      <td>15</td>\n",
       "      <td>AYP</td>\n",
       "      <td>...</td>\n",
       "      <td>2</td>\n",
       "      <td></td>\n",
       "      <td>GRATUITO</td>\n",
       "      <td>GRATUITO</td>\n",
       "      <td>-18.487274</td>\n",
       "      <td>-70.294739</td>\n",
       "      <td>6kwnb6k</td>\n",
       "      <td>POINT (-70.29473877 -18.48727417)</td>\n",
       "      <td>15101</td>\n",
       "      <td>Arica</td>\n",
       "    </tr>\n",
       "    <tr>\n",
       "      <th>1</th>\n",
       "      <td>1</td>\n",
       "      <td>2019</td>\n",
       "      <td>2</td>\n",
       "      <td>7</td>\n",
       "      <td>PARVULARIO LAS ESPIGUITAS</td>\n",
       "      <td></td>\n",
       "      <td>69010100</td>\n",
       "      <td>1</td>\n",
       "      <td>15</td>\n",
       "      <td>AYP</td>\n",
       "      <td>...</td>\n",
       "      <td>2</td>\n",
       "      <td></td>\n",
       "      <td>GRATUITO</td>\n",
       "      <td>GRATUITO</td>\n",
       "      <td>-18.469862</td>\n",
       "      <td>-70.302757</td>\n",
       "      <td>6kwnbjx</td>\n",
       "      <td>POINT (-70.30275726000001 -18.46986198)</td>\n",
       "      <td>15101</td>\n",
       "      <td>Arica</td>\n",
       "    </tr>\n",
       "  </tbody>\n",
       "</table>\n",
       "<p>2 rows × 42 columns</p>\n",
       "</div>"
      ],
      "text/plain": [
       "   row_number  AGNO  RBD  DGV_RBD                    NOM_RBD MRUN  \\\n",
       "0           0  2019    1        9    LICEO POLITECNICO ARICA        \n",
       "1           1  2019    2        7  PARVULARIO LAS ESPIGUITAS        \n",
       "\n",
       "  RUT_SOSTENEDOR  P_JURIDICA  COD_REG_RBD NOM_REG_RBD_A  ...  ORI_RELIGIOSA  \\\n",
       "0       69010100           1           15           AYP  ...              2   \n",
       "1       69010100           1           15           AYP  ...              2   \n",
       "\n",
       "   ORI_OTRO_GLOSA PAGO_MATRICULA  PAGO_MENSUAL        lat       long  geohash  \\\n",
       "0                       GRATUITO      GRATUITO -18.487274 -70.294739  6kwnb6k   \n",
       "1                       GRATUITO      GRATUITO -18.469862 -70.302757  6kwnbjx   \n",
       "\n",
       "                                  geometry  cod_comuna  Comuna  \n",
       "0        POINT (-70.29473877 -18.48727417)       15101   Arica  \n",
       "1  POINT (-70.30275726000001 -18.46986198)       15101   Arica  \n",
       "\n",
       "[2 rows x 42 columns]"
      ]
     },
     "execution_count": 9,
     "metadata": {},
     "output_type": "execute_result"
    }
   ],
   "source": [
    "df_colegios.head(2)"
   ]
  },
  {
   "cell_type": "code",
   "execution_count": 10,
   "metadata": {
    "scrolled": true
   },
   "outputs": [
    {
     "data": {
      "text/plain": [
       "(12917, 42)"
      ]
     },
     "execution_count": 10,
     "metadata": {},
     "output_type": "execute_result"
    }
   ],
   "source": [
    "df_colegios.shape"
   ]
  },
  {
   "cell_type": "code",
   "execution_count": 11,
   "metadata": {},
   "outputs": [
    {
     "data": {
      "text/plain": [
       "Index(['row_number', 'AGNO', 'RBD', 'DGV_RBD', 'NOM_RBD', 'MRUN',\n",
       "       'RUT_SOSTENEDOR', 'P_JURIDICA', 'COD_REG_RBD', 'NOM_REG_RBD_A',\n",
       "       'COD_PRO_RBD', 'COD_COM_RBD', 'NOM_COM_RBD', 'COD_DEPROV_RBD',\n",
       "       'NOM_DEPROV_RBD', 'COD_DEPE', 'COD_DEPE2', 'RURAL_RBD', 'CONVENIO_PIE',\n",
       "       'ENS_01', 'ENS_02', 'ENS_03', 'ENS_04', 'ENS_05', 'ENS_06', 'ENS_07',\n",
       "       'ENS_08', 'ENS_09', 'ENS_10', 'ENS_11', 'MATRICULA', 'ESTADO_ESTAB',\n",
       "       'ORI_RELIGIOSA', 'ORI_OTRO_GLOSA', 'PAGO_MATRICULA', 'PAGO_MENSUAL',\n",
       "       'lat', 'long', 'geohash', 'geometry', 'cod_comuna', 'Comuna'],\n",
       "      dtype='object')"
      ]
     },
     "execution_count": 11,
     "metadata": {},
     "output_type": "execute_result"
    }
   ],
   "source": [
    "df_colegios.columns"
   ]
  },
  {
   "cell_type": "markdown",
   "metadata": {},
   "source": [
    "Cambiando nombres de columnas según pais"
   ]
  },
  {
   "cell_type": "code",
   "execution_count": 12,
   "metadata": {},
   "outputs": [],
   "source": [
    "COD_ESCUELA_PAIS = 'RBD'\n",
    "COD_ADM3 = 'COD_COM_RBD'\n",
    "NOM_ADM3 = 'NOM_COM_RBD'\n",
    "COD_ADM1 = 'COD_REG_RBD'"
   ]
  },
  {
   "cell_type": "code",
   "execution_count": 13,
   "metadata": {},
   "outputs": [],
   "source": [
    "df_colegios = df_colegios.rename(columns = {\n",
    "    COD_ESCUELA_PAIS : 'COD_ESCUELA_PAIS',\n",
    "    COD_ADM3 : 'COD_ADM3',\n",
    "    NOM_ADM3 : 'NOM_ADM3',\n",
    "    COD_ADM1 : 'COD_ADM1'\n",
    "})"
   ]
  },
  {
   "cell_type": "code",
   "execution_count": 14,
   "metadata": {},
   "outputs": [],
   "source": [
    "laty = 'lat'\n",
    "longx = 'long'"
   ]
  },
  {
   "cell_type": "code",
   "execution_count": 15,
   "metadata": {},
   "outputs": [],
   "source": [
    "df_colegios = df_colegios.rename(columns = {\n",
    "    laty : 'laty',\n",
    "    longx : 'longx'\n",
    "})"
   ]
  },
  {
   "cell_type": "code",
   "execution_count": 16,
   "metadata": {
    "scrolled": true
   },
   "outputs": [
    {
     "data": {
      "text/plain": [
       "Index(['row_number', 'AGNO', 'COD_ESCUELA_PAIS', 'DGV_RBD', 'NOM_RBD', 'MRUN',\n",
       "       'RUT_SOSTENEDOR', 'P_JURIDICA', 'COD_ADM1', 'NOM_REG_RBD_A',\n",
       "       'COD_PRO_RBD', 'COD_ADM3', 'NOM_ADM3', 'COD_DEPROV_RBD',\n",
       "       'NOM_DEPROV_RBD', 'COD_DEPE', 'COD_DEPE2', 'RURAL_RBD', 'CONVENIO_PIE',\n",
       "       'ENS_01', 'ENS_02', 'ENS_03', 'ENS_04', 'ENS_05', 'ENS_06', 'ENS_07',\n",
       "       'ENS_08', 'ENS_09', 'ENS_10', 'ENS_11', 'MATRICULA', 'ESTADO_ESTAB',\n",
       "       'ORI_RELIGIOSA', 'ORI_OTRO_GLOSA', 'PAGO_MATRICULA', 'PAGO_MENSUAL',\n",
       "       'laty', 'longx', 'geohash', 'geometry', 'cod_comuna', 'Comuna'],\n",
       "      dtype='object')"
      ]
     },
     "execution_count": 16,
     "metadata": {},
     "output_type": "execute_result"
    }
   ],
   "source": [
    "df_colegios.columns"
   ]
  },
  {
   "cell_type": "markdown",
   "metadata": {},
   "source": [
    "# Merges geoashes con colegios"
   ]
  },
  {
   "cell_type": "markdown",
   "metadata": {},
   "source": [
    "Merge"
   ]
  },
  {
   "cell_type": "code",
   "execution_count": 17,
   "metadata": {},
   "outputs": [],
   "source": [
    "df_geohashes_colegios = df_geohashes.merge(df_colegios , how = 'left', on = 'geohash', indicator = True)"
   ]
  },
  {
   "cell_type": "code",
   "execution_count": 18,
   "metadata": {},
   "outputs": [
    {
     "data": {
      "text/plain": [
       "(19250550, 73)"
      ]
     },
     "execution_count": 18,
     "metadata": {},
     "output_type": "execute_result"
    }
   ],
   "source": [
    "df_geohashes_colegios.shape"
   ]
  },
  {
   "cell_type": "code",
   "execution_count": 19,
   "metadata": {},
   "outputs": [
    {
     "data": {
      "text/html": [
       "<div>\n",
       "<style scoped>\n",
       "    .dataframe tbody tr th:only-of-type {\n",
       "        vertical-align: middle;\n",
       "    }\n",
       "\n",
       "    .dataframe tbody tr th {\n",
       "        vertical-align: top;\n",
       "    }\n",
       "\n",
       "    .dataframe thead th {\n",
       "        text-align: right;\n",
       "    }\n",
       "</style>\n",
       "<table border=\"1\" class=\"dataframe\">\n",
       "  <thead>\n",
       "    <tr style=\"text-align: right;\">\n",
       "      <th></th>\n",
       "      <th>geohash</th>\n",
       "      <th>g_adm_1</th>\n",
       "      <th>g_adm_3</th>\n",
       "      <th>month</th>\n",
       "      <th>day</th>\n",
       "      <th>n_visitantes_geohash</th>\n",
       "      <th>n_visitantes_adm3</th>\n",
       "      <th>n_visitantes_0</th>\n",
       "      <th>n_visitantes_1</th>\n",
       "      <th>n_visitantes_2</th>\n",
       "      <th>...</th>\n",
       "      <th>ORI_RELIGIOSA</th>\n",
       "      <th>ORI_OTRO_GLOSA</th>\n",
       "      <th>PAGO_MATRICULA</th>\n",
       "      <th>PAGO_MENSUAL</th>\n",
       "      <th>laty</th>\n",
       "      <th>longx</th>\n",
       "      <th>geometry</th>\n",
       "      <th>cod_comuna</th>\n",
       "      <th>Comuna</th>\n",
       "      <th>_merge</th>\n",
       "    </tr>\n",
       "  </thead>\n",
       "  <tbody>\n",
       "    <tr>\n",
       "      <th>0</th>\n",
       "      <td>66jt91k</td>\n",
       "      <td>5.0</td>\n",
       "      <td>5702.0</td>\n",
       "      <td>5</td>\n",
       "      <td>3</td>\n",
       "      <td>4</td>\n",
       "      <td>2</td>\n",
       "      <td>0</td>\n",
       "      <td>0</td>\n",
       "      <td>0</td>\n",
       "      <td>...</td>\n",
       "      <td>NaN</td>\n",
       "      <td>NaN</td>\n",
       "      <td>NaN</td>\n",
       "      <td>NaN</td>\n",
       "      <td>NaN</td>\n",
       "      <td>NaN</td>\n",
       "      <td>NaN</td>\n",
       "      <td>NaN</td>\n",
       "      <td>NaN</td>\n",
       "      <td>left_only</td>\n",
       "    </tr>\n",
       "    <tr>\n",
       "      <th>1</th>\n",
       "      <td>63knfd2</td>\n",
       "      <td>8.0</td>\n",
       "      <td>8107.0</td>\n",
       "      <td>3</td>\n",
       "      <td>16</td>\n",
       "      <td>15</td>\n",
       "      <td>11</td>\n",
       "      <td>1</td>\n",
       "      <td>0</td>\n",
       "      <td>0</td>\n",
       "      <td>...</td>\n",
       "      <td>NaN</td>\n",
       "      <td>NaN</td>\n",
       "      <td>NaN</td>\n",
       "      <td>NaN</td>\n",
       "      <td>NaN</td>\n",
       "      <td>NaN</td>\n",
       "      <td>NaN</td>\n",
       "      <td>NaN</td>\n",
       "      <td>NaN</td>\n",
       "      <td>left_only</td>\n",
       "    </tr>\n",
       "    <tr>\n",
       "      <th>2</th>\n",
       "      <td>637uz4p</td>\n",
       "      <td>8.0</td>\n",
       "      <td>8106.0</td>\n",
       "      <td>3</td>\n",
       "      <td>16</td>\n",
       "      <td>3</td>\n",
       "      <td>3</td>\n",
       "      <td>0</td>\n",
       "      <td>0</td>\n",
       "      <td>0</td>\n",
       "      <td>...</td>\n",
       "      <td>NaN</td>\n",
       "      <td>NaN</td>\n",
       "      <td>NaN</td>\n",
       "      <td>NaN</td>\n",
       "      <td>NaN</td>\n",
       "      <td>NaN</td>\n",
       "      <td>NaN</td>\n",
       "      <td>NaN</td>\n",
       "      <td>NaN</td>\n",
       "      <td>left_only</td>\n",
       "    </tr>\n",
       "    <tr>\n",
       "      <th>3</th>\n",
       "      <td>66jec5e</td>\n",
       "      <td>13.0</td>\n",
       "      <td>13303.0</td>\n",
       "      <td>5</td>\n",
       "      <td>6</td>\n",
       "      <td>1</td>\n",
       "      <td>1</td>\n",
       "      <td>0</td>\n",
       "      <td>0</td>\n",
       "      <td>0</td>\n",
       "      <td>...</td>\n",
       "      <td>NaN</td>\n",
       "      <td>NaN</td>\n",
       "      <td>NaN</td>\n",
       "      <td>NaN</td>\n",
       "      <td>NaN</td>\n",
       "      <td>NaN</td>\n",
       "      <td>NaN</td>\n",
       "      <td>NaN</td>\n",
       "      <td>NaN</td>\n",
       "      <td>left_only</td>\n",
       "    </tr>\n",
       "    <tr>\n",
       "      <th>4</th>\n",
       "      <td>66jcejx</td>\n",
       "      <td>13.0</td>\n",
       "      <td>13113.0</td>\n",
       "      <td>3</td>\n",
       "      <td>10</td>\n",
       "      <td>5</td>\n",
       "      <td>4</td>\n",
       "      <td>0</td>\n",
       "      <td>0</td>\n",
       "      <td>0</td>\n",
       "      <td>...</td>\n",
       "      <td>NaN</td>\n",
       "      <td>NaN</td>\n",
       "      <td>NaN</td>\n",
       "      <td>NaN</td>\n",
       "      <td>NaN</td>\n",
       "      <td>NaN</td>\n",
       "      <td>NaN</td>\n",
       "      <td>NaN</td>\n",
       "      <td>NaN</td>\n",
       "      <td>left_only</td>\n",
       "    </tr>\n",
       "  </tbody>\n",
       "</table>\n",
       "<p>5 rows × 73 columns</p>\n",
       "</div>"
      ],
      "text/plain": [
       "   geohash  g_adm_1  g_adm_3  month  day  n_visitantes_geohash  \\\n",
       "0  66jt91k      5.0   5702.0      5    3                     4   \n",
       "1  63knfd2      8.0   8107.0      3   16                    15   \n",
       "2  637uz4p      8.0   8106.0      3   16                     3   \n",
       "3  66jec5e     13.0  13303.0      5    6                     1   \n",
       "4  66jcejx     13.0  13113.0      3   10                     5   \n",
       "\n",
       "   n_visitantes_adm3  n_visitantes_0  n_visitantes_1  n_visitantes_2  ...  \\\n",
       "0                  2               0               0               0  ...   \n",
       "1                 11               1               0               0  ...   \n",
       "2                  3               0               0               0  ...   \n",
       "3                  1               0               0               0  ...   \n",
       "4                  4               0               0               0  ...   \n",
       "\n",
       "   ORI_RELIGIOSA  ORI_OTRO_GLOSA  PAGO_MATRICULA  PAGO_MENSUAL  laty  longx  \\\n",
       "0            NaN             NaN             NaN           NaN   NaN    NaN   \n",
       "1            NaN             NaN             NaN           NaN   NaN    NaN   \n",
       "2            NaN             NaN             NaN           NaN   NaN    NaN   \n",
       "3            NaN             NaN             NaN           NaN   NaN    NaN   \n",
       "4            NaN             NaN             NaN           NaN   NaN    NaN   \n",
       "\n",
       "   geometry  cod_comuna  Comuna     _merge  \n",
       "0       NaN         NaN     NaN  left_only  \n",
       "1       NaN         NaN     NaN  left_only  \n",
       "2       NaN         NaN     NaN  left_only  \n",
       "3       NaN         NaN     NaN  left_only  \n",
       "4       NaN         NaN     NaN  left_only  \n",
       "\n",
       "[5 rows x 73 columns]"
      ]
     },
     "execution_count": 19,
     "metadata": {},
     "output_type": "execute_result"
    }
   ],
   "source": [
    "df_geohashes_colegios.head(5)"
   ]
  },
  {
   "cell_type": "code",
   "execution_count": 20,
   "metadata": {},
   "outputs": [
    {
     "data": {
      "text/plain": [
       "Index(['geohash', 'g_adm_1', 'g_adm_3', 'month', 'day', 'n_visitantes_geohash',\n",
       "       'n_visitantes_adm3', 'n_visitantes_0', 'n_visitantes_1',\n",
       "       'n_visitantes_2', 'n_visitantes_3', 'n_visitantes_4', 'n_visitantes_5',\n",
       "       'n_visitantes_6', 'n_visitantes_7', 'n_visitantes_8', 'n_visitantes_9',\n",
       "       'n_visitantes_10', 'n_visitantes_11', 'n_visitantes_12',\n",
       "       'n_visitantes_13', 'n_visitantes_14', 'n_visitantes_15',\n",
       "       'n_visitantes_16', 'n_visitantes_17', 'n_visitantes_18',\n",
       "       'n_visitantes_19', 'n_visitantes_20', 'n_visitantes_21',\n",
       "       'n_visitantes_22', 'n_visitantes_23', 'row_number', 'AGNO',\n",
       "       'COD_ESCUELA_PAIS', 'DGV_RBD', 'NOM_RBD', 'MRUN', 'RUT_SOSTENEDOR',\n",
       "       'P_JURIDICA', 'COD_ADM1', 'NOM_REG_RBD_A', 'COD_PRO_RBD', 'COD_ADM3',\n",
       "       'NOM_ADM3', 'COD_DEPROV_RBD', 'NOM_DEPROV_RBD', 'COD_DEPE', 'COD_DEPE2',\n",
       "       'RURAL_RBD', 'CONVENIO_PIE', 'ENS_01', 'ENS_02', 'ENS_03', 'ENS_04',\n",
       "       'ENS_05', 'ENS_06', 'ENS_07', 'ENS_08', 'ENS_09', 'ENS_10', 'ENS_11',\n",
       "       'MATRICULA', 'ESTADO_ESTAB', 'ORI_RELIGIOSA', 'ORI_OTRO_GLOSA',\n",
       "       'PAGO_MATRICULA', 'PAGO_MENSUAL', 'laty', 'longx', 'geometry',\n",
       "       'cod_comuna', 'Comuna', '_merge'],\n",
       "      dtype='object')"
      ]
     },
     "execution_count": 20,
     "metadata": {},
     "output_type": "execute_result"
    }
   ],
   "source": [
    "df_geohashes_colegios.columns"
   ]
  },
  {
   "cell_type": "markdown",
   "metadata": {},
   "source": [
    "Guardando datos"
   ]
  },
  {
   "cell_type": "code",
   "execution_count": 21,
   "metadata": {},
   "outputs": [],
   "source": [
    "df_geohashes_colegios.to_csv(file_output_geohashes_zip, compression = 'zip')"
   ]
  },
  {
   "cell_type": "raw",
   "metadata": {},
   "source": [
    "path_codigos_stata = path_global + r\"\\Codes\\Stata\"\n",
    "file_output_con_visitas_dta = path_codigos_stata + r\"\\Geohashes_con_sin_colegios.dta\"\n",
    "\n",
    "df_geohashes_colegios.to_stata(file_output_con_visitas_dta)"
   ]
  },
  {
   "cell_type": "markdown",
   "metadata": {},
   "source": [
    "# Merge geohashes - Colegios & Data"
   ]
  },
  {
   "cell_type": "code",
   "execution_count": 22,
   "metadata": {},
   "outputs": [],
   "source": [
    "df_merge = df_colegios.merge(df_geohashes , how = 'left', on = 'geohash', indicator = True)"
   ]
  },
  {
   "cell_type": "code",
   "execution_count": 23,
   "metadata": {},
   "outputs": [
    {
     "data": {
      "text/plain": [
       "(899737, 73)"
      ]
     },
     "execution_count": 23,
     "metadata": {},
     "output_type": "execute_result"
    }
   ],
   "source": [
    "df_merge.shape"
   ]
  },
  {
   "cell_type": "code",
   "execution_count": 24,
   "metadata": {},
   "outputs": [
    {
     "data": {
      "text/html": [
       "<div>\n",
       "<style scoped>\n",
       "    .dataframe tbody tr th:only-of-type {\n",
       "        vertical-align: middle;\n",
       "    }\n",
       "\n",
       "    .dataframe tbody tr th {\n",
       "        vertical-align: top;\n",
       "    }\n",
       "\n",
       "    .dataframe thead th {\n",
       "        text-align: right;\n",
       "    }\n",
       "</style>\n",
       "<table border=\"1\" class=\"dataframe\">\n",
       "  <thead>\n",
       "    <tr style=\"text-align: right;\">\n",
       "      <th></th>\n",
       "      <th>row_number</th>\n",
       "      <th>AGNO</th>\n",
       "      <th>COD_ESCUELA_PAIS</th>\n",
       "      <th>DGV_RBD</th>\n",
       "      <th>NOM_RBD</th>\n",
       "      <th>MRUN</th>\n",
       "      <th>RUT_SOSTENEDOR</th>\n",
       "      <th>P_JURIDICA</th>\n",
       "      <th>COD_ADM1</th>\n",
       "      <th>NOM_REG_RBD_A</th>\n",
       "      <th>...</th>\n",
       "      <th>n_visitantes_15</th>\n",
       "      <th>n_visitantes_16</th>\n",
       "      <th>n_visitantes_17</th>\n",
       "      <th>n_visitantes_18</th>\n",
       "      <th>n_visitantes_19</th>\n",
       "      <th>n_visitantes_20</th>\n",
       "      <th>n_visitantes_21</th>\n",
       "      <th>n_visitantes_22</th>\n",
       "      <th>n_visitantes_23</th>\n",
       "      <th>_merge</th>\n",
       "    </tr>\n",
       "  </thead>\n",
       "  <tbody>\n",
       "    <tr>\n",
       "      <th>0</th>\n",
       "      <td>0</td>\n",
       "      <td>2019</td>\n",
       "      <td>1</td>\n",
       "      <td>9</td>\n",
       "      <td>LICEO POLITECNICO ARICA</td>\n",
       "      <td></td>\n",
       "      <td>69010100</td>\n",
       "      <td>1</td>\n",
       "      <td>15</td>\n",
       "      <td>AYP</td>\n",
       "      <td>...</td>\n",
       "      <td>1.0</td>\n",
       "      <td>0.0</td>\n",
       "      <td>0.0</td>\n",
       "      <td>0.0</td>\n",
       "      <td>0.0</td>\n",
       "      <td>0.0</td>\n",
       "      <td>0.0</td>\n",
       "      <td>0.0</td>\n",
       "      <td>0.0</td>\n",
       "      <td>both</td>\n",
       "    </tr>\n",
       "    <tr>\n",
       "      <th>1</th>\n",
       "      <td>0</td>\n",
       "      <td>2019</td>\n",
       "      <td>1</td>\n",
       "      <td>9</td>\n",
       "      <td>LICEO POLITECNICO ARICA</td>\n",
       "      <td></td>\n",
       "      <td>69010100</td>\n",
       "      <td>1</td>\n",
       "      <td>15</td>\n",
       "      <td>AYP</td>\n",
       "      <td>...</td>\n",
       "      <td>0.0</td>\n",
       "      <td>1.0</td>\n",
       "      <td>0.0</td>\n",
       "      <td>1.0</td>\n",
       "      <td>0.0</td>\n",
       "      <td>0.0</td>\n",
       "      <td>1.0</td>\n",
       "      <td>0.0</td>\n",
       "      <td>0.0</td>\n",
       "      <td>both</td>\n",
       "    </tr>\n",
       "    <tr>\n",
       "      <th>2</th>\n",
       "      <td>0</td>\n",
       "      <td>2019</td>\n",
       "      <td>1</td>\n",
       "      <td>9</td>\n",
       "      <td>LICEO POLITECNICO ARICA</td>\n",
       "      <td></td>\n",
       "      <td>69010100</td>\n",
       "      <td>1</td>\n",
       "      <td>15</td>\n",
       "      <td>AYP</td>\n",
       "      <td>...</td>\n",
       "      <td>0.0</td>\n",
       "      <td>0.0</td>\n",
       "      <td>0.0</td>\n",
       "      <td>0.0</td>\n",
       "      <td>0.0</td>\n",
       "      <td>0.0</td>\n",
       "      <td>0.0</td>\n",
       "      <td>1.0</td>\n",
       "      <td>0.0</td>\n",
       "      <td>both</td>\n",
       "    </tr>\n",
       "    <tr>\n",
       "      <th>3</th>\n",
       "      <td>0</td>\n",
       "      <td>2019</td>\n",
       "      <td>1</td>\n",
       "      <td>9</td>\n",
       "      <td>LICEO POLITECNICO ARICA</td>\n",
       "      <td></td>\n",
       "      <td>69010100</td>\n",
       "      <td>1</td>\n",
       "      <td>15</td>\n",
       "      <td>AYP</td>\n",
       "      <td>...</td>\n",
       "      <td>0.0</td>\n",
       "      <td>0.0</td>\n",
       "      <td>1.0</td>\n",
       "      <td>0.0</td>\n",
       "      <td>1.0</td>\n",
       "      <td>0.0</td>\n",
       "      <td>0.0</td>\n",
       "      <td>0.0</td>\n",
       "      <td>0.0</td>\n",
       "      <td>both</td>\n",
       "    </tr>\n",
       "    <tr>\n",
       "      <th>4</th>\n",
       "      <td>0</td>\n",
       "      <td>2019</td>\n",
       "      <td>1</td>\n",
       "      <td>9</td>\n",
       "      <td>LICEO POLITECNICO ARICA</td>\n",
       "      <td></td>\n",
       "      <td>69010100</td>\n",
       "      <td>1</td>\n",
       "      <td>15</td>\n",
       "      <td>AYP</td>\n",
       "      <td>...</td>\n",
       "      <td>2.0</td>\n",
       "      <td>0.0</td>\n",
       "      <td>1.0</td>\n",
       "      <td>2.0</td>\n",
       "      <td>2.0</td>\n",
       "      <td>0.0</td>\n",
       "      <td>0.0</td>\n",
       "      <td>0.0</td>\n",
       "      <td>0.0</td>\n",
       "      <td>both</td>\n",
       "    </tr>\n",
       "  </tbody>\n",
       "</table>\n",
       "<p>5 rows × 73 columns</p>\n",
       "</div>"
      ],
      "text/plain": [
       "   row_number  AGNO  COD_ESCUELA_PAIS  DGV_RBD                  NOM_RBD MRUN  \\\n",
       "0           0  2019                 1        9  LICEO POLITECNICO ARICA        \n",
       "1           0  2019                 1        9  LICEO POLITECNICO ARICA        \n",
       "2           0  2019                 1        9  LICEO POLITECNICO ARICA        \n",
       "3           0  2019                 1        9  LICEO POLITECNICO ARICA        \n",
       "4           0  2019                 1        9  LICEO POLITECNICO ARICA        \n",
       "\n",
       "  RUT_SOSTENEDOR  P_JURIDICA  COD_ADM1 NOM_REG_RBD_A  ...  n_visitantes_15  \\\n",
       "0       69010100           1        15           AYP  ...              1.0   \n",
       "1       69010100           1        15           AYP  ...              0.0   \n",
       "2       69010100           1        15           AYP  ...              0.0   \n",
       "3       69010100           1        15           AYP  ...              0.0   \n",
       "4       69010100           1        15           AYP  ...              2.0   \n",
       "\n",
       "   n_visitantes_16 n_visitantes_17  n_visitantes_18 n_visitantes_19  \\\n",
       "0              0.0             0.0              0.0             0.0   \n",
       "1              1.0             0.0              1.0             0.0   \n",
       "2              0.0             0.0              0.0             0.0   \n",
       "3              0.0             1.0              0.0             1.0   \n",
       "4              0.0             1.0              2.0             2.0   \n",
       "\n",
       "   n_visitantes_20  n_visitantes_21  n_visitantes_22  n_visitantes_23  _merge  \n",
       "0              0.0              0.0              0.0              0.0    both  \n",
       "1              0.0              1.0              0.0              0.0    both  \n",
       "2              0.0              0.0              1.0              0.0    both  \n",
       "3              0.0              0.0              0.0              0.0    both  \n",
       "4              0.0              0.0              0.0              0.0    both  \n",
       "\n",
       "[5 rows x 73 columns]"
      ]
     },
     "execution_count": 24,
     "metadata": {},
     "output_type": "execute_result"
    }
   ],
   "source": [
    "df_merge.head(5)"
   ]
  },
  {
   "cell_type": "code",
   "execution_count": 25,
   "metadata": {
    "scrolled": true
   },
   "outputs": [
    {
     "data": {
      "text/plain": [
       "Index(['row_number', 'AGNO', 'COD_ESCUELA_PAIS', 'DGV_RBD', 'NOM_RBD', 'MRUN',\n",
       "       'RUT_SOSTENEDOR', 'P_JURIDICA', 'COD_ADM1', 'NOM_REG_RBD_A',\n",
       "       'COD_PRO_RBD', 'COD_ADM3', 'NOM_ADM3', 'COD_DEPROV_RBD',\n",
       "       'NOM_DEPROV_RBD', 'COD_DEPE', 'COD_DEPE2', 'RURAL_RBD', 'CONVENIO_PIE',\n",
       "       'ENS_01', 'ENS_02', 'ENS_03', 'ENS_04', 'ENS_05', 'ENS_06', 'ENS_07',\n",
       "       'ENS_08', 'ENS_09', 'ENS_10', 'ENS_11', 'MATRICULA', 'ESTADO_ESTAB',\n",
       "       'ORI_RELIGIOSA', 'ORI_OTRO_GLOSA', 'PAGO_MATRICULA', 'PAGO_MENSUAL',\n",
       "       'laty', 'longx', 'geohash', 'geometry', 'cod_comuna', 'Comuna',\n",
       "       'g_adm_1', 'g_adm_3', 'month', 'day', 'n_visitantes_geohash',\n",
       "       'n_visitantes_adm3', 'n_visitantes_0', 'n_visitantes_1',\n",
       "       'n_visitantes_2', 'n_visitantes_3', 'n_visitantes_4', 'n_visitantes_5',\n",
       "       'n_visitantes_6', 'n_visitantes_7', 'n_visitantes_8', 'n_visitantes_9',\n",
       "       'n_visitantes_10', 'n_visitantes_11', 'n_visitantes_12',\n",
       "       'n_visitantes_13', 'n_visitantes_14', 'n_visitantes_15',\n",
       "       'n_visitantes_16', 'n_visitantes_17', 'n_visitantes_18',\n",
       "       'n_visitantes_19', 'n_visitantes_20', 'n_visitantes_21',\n",
       "       'n_visitantes_22', 'n_visitantes_23', '_merge'],\n",
       "      dtype='object')"
      ]
     },
     "execution_count": 25,
     "metadata": {},
     "output_type": "execute_result"
    }
   ],
   "source": [
    "df_merge.columns"
   ]
  },
  {
   "cell_type": "markdown",
   "metadata": {},
   "source": [
    "#### Seleccionar geohashes de colegios que no tienen información de visitas"
   ]
  },
  {
   "cell_type": "code",
   "execution_count": 26,
   "metadata": {},
   "outputs": [],
   "source": [
    "colegios_sin_visitas = df_merge[df_merge['_merge'] == 'left_only']"
   ]
  },
  {
   "cell_type": "code",
   "execution_count": 27,
   "metadata": {},
   "outputs": [
    {
     "data": {
      "text/plain": [
       "(1766, 73)"
      ]
     },
     "execution_count": 27,
     "metadata": {},
     "output_type": "execute_result"
    }
   ],
   "source": [
    "colegios_sin_visitas.shape"
   ]
  },
  {
   "cell_type": "code",
   "execution_count": 28,
   "metadata": {},
   "outputs": [
    {
     "data": {
      "text/plain": [
       "1766"
      ]
     },
     "execution_count": 28,
     "metadata": {},
     "output_type": "execute_result"
    }
   ],
   "source": [
    "colegios_sin_visitas.COD_ESCUELA_PAIS.nunique()"
   ]
  },
  {
   "cell_type": "code",
   "execution_count": 29,
   "metadata": {},
   "outputs": [
    {
     "data": {
      "text/plain": [
       "(1766, 73)"
      ]
     },
     "execution_count": 29,
     "metadata": {},
     "output_type": "execute_result"
    }
   ],
   "source": [
    "colegios_sin_visitas.shape"
   ]
  },
  {
   "cell_type": "markdown",
   "metadata": {},
   "source": [
    "Guardar establecimientos que no tienen visitas"
   ]
  },
  {
   "cell_type": "code",
   "execution_count": 30,
   "metadata": {},
   "outputs": [],
   "source": [
    "colegios_sin_visitas.to_csv(file_output_sin_visitas, sep = ',', index_label = 'row_number')"
   ]
  },
  {
   "cell_type": "markdown",
   "metadata": {},
   "source": [
    "#### Seleccionar geohashes de colegios que tienen información de visitas"
   ]
  },
  {
   "cell_type": "code",
   "execution_count": 31,
   "metadata": {},
   "outputs": [],
   "source": [
    "colegios_con_visitas = df_merge[df_merge['_merge'] == 'both']"
   ]
  },
  {
   "cell_type": "code",
   "execution_count": 32,
   "metadata": {},
   "outputs": [
    {
     "data": {
      "text/plain": [
       "(897971, 73)"
      ]
     },
     "execution_count": 32,
     "metadata": {},
     "output_type": "execute_result"
    }
   ],
   "source": [
    "colegios_con_visitas.shape"
   ]
  },
  {
   "cell_type": "code",
   "execution_count": 33,
   "metadata": {},
   "outputs": [
    {
     "data": {
      "text/plain": [
       "11151"
      ]
     },
     "execution_count": 33,
     "metadata": {},
     "output_type": "execute_result"
    }
   ],
   "source": [
    "colegios_con_visitas.COD_ESCUELA_PAIS.nunique()"
   ]
  },
  {
   "cell_type": "code",
   "execution_count": 34,
   "metadata": {},
   "outputs": [
    {
     "data": {
      "text/plain": [
       "10293"
      ]
     },
     "execution_count": 34,
     "metadata": {},
     "output_type": "execute_result"
    }
   ],
   "source": [
    "colegios_con_visitas.geohash.nunique()"
   ]
  },
  {
   "cell_type": "code",
   "execution_count": 35,
   "metadata": {
    "scrolled": true
   },
   "outputs": [
    {
     "data": {
      "text/plain": [
       "343"
      ]
     },
     "execution_count": 35,
     "metadata": {},
     "output_type": "execute_result"
    }
   ],
   "source": [
    "colegios_con_visitas.NOM_ADM3.nunique()"
   ]
  },
  {
   "cell_type": "markdown",
   "metadata": {},
   "source": [
    "#### Transformar tipo mes y dia a entero"
   ]
  },
  {
   "cell_type": "code",
   "execution_count": 36,
   "metadata": {},
   "outputs": [],
   "source": [
    "colegios_con_visitas = colegios_con_visitas.astype({'month': int,'day': int})"
   ]
  },
  {
   "cell_type": "code",
   "execution_count": 37,
   "metadata": {},
   "outputs": [
    {
     "data": {
      "text/plain": [
       "(897971, 73)"
      ]
     },
     "execution_count": 37,
     "metadata": {},
     "output_type": "execute_result"
    }
   ],
   "source": [
    "colegios_con_visitas.shape"
   ]
  },
  {
   "cell_type": "code",
   "execution_count": 38,
   "metadata": {},
   "outputs": [],
   "source": [
    "colegios_con_visitas['semana'] = colegios_con_visitas.apply(lambda x: pd.to_datetime(f'2020/{x.month}/{x.day}', \n",
    "                                                                                     format = '%Y/%m/%d').week, \n",
    "                                                            axis = 1)"
   ]
  },
  {
   "cell_type": "code",
   "execution_count": 39,
   "metadata": {},
   "outputs": [],
   "source": [
    "colegios_con_visitas['laboral'] = colegios_con_visitas.apply(lambda x: 1 \n",
    "                                                             if pd.to_datetime(f'2020/{x.month}/{x.day}', \n",
    "                                                                               format = '%Y/%m/%d').weekday() < 5 else 0, \n",
    "                                                             axis = 1)"
   ]
  },
  {
   "cell_type": "code",
   "execution_count": 40,
   "metadata": {},
   "outputs": [
    {
     "data": {
      "text/plain": [
       "(897971, 75)"
      ]
     },
     "execution_count": 40,
     "metadata": {},
     "output_type": "execute_result"
    }
   ],
   "source": [
    "colegios_con_visitas.shape"
   ]
  },
  {
   "cell_type": "code",
   "execution_count": 41,
   "metadata": {
    "scrolled": false
   },
   "outputs": [
    {
     "data": {
      "text/html": [
       "<div>\n",
       "<style scoped>\n",
       "    .dataframe tbody tr th:only-of-type {\n",
       "        vertical-align: middle;\n",
       "    }\n",
       "\n",
       "    .dataframe tbody tr th {\n",
       "        vertical-align: top;\n",
       "    }\n",
       "\n",
       "    .dataframe thead th {\n",
       "        text-align: right;\n",
       "    }\n",
       "</style>\n",
       "<table border=\"1\" class=\"dataframe\">\n",
       "  <thead>\n",
       "    <tr style=\"text-align: right;\">\n",
       "      <th></th>\n",
       "      <th>row_number</th>\n",
       "      <th>AGNO</th>\n",
       "      <th>COD_ESCUELA_PAIS</th>\n",
       "      <th>DGV_RBD</th>\n",
       "      <th>NOM_RBD</th>\n",
       "      <th>MRUN</th>\n",
       "      <th>RUT_SOSTENEDOR</th>\n",
       "      <th>P_JURIDICA</th>\n",
       "      <th>COD_ADM1</th>\n",
       "      <th>NOM_REG_RBD_A</th>\n",
       "      <th>...</th>\n",
       "      <th>n_visitantes_17</th>\n",
       "      <th>n_visitantes_18</th>\n",
       "      <th>n_visitantes_19</th>\n",
       "      <th>n_visitantes_20</th>\n",
       "      <th>n_visitantes_21</th>\n",
       "      <th>n_visitantes_22</th>\n",
       "      <th>n_visitantes_23</th>\n",
       "      <th>_merge</th>\n",
       "      <th>semana</th>\n",
       "      <th>laboral</th>\n",
       "    </tr>\n",
       "  </thead>\n",
       "  <tbody>\n",
       "    <tr>\n",
       "      <th>0</th>\n",
       "      <td>0</td>\n",
       "      <td>2019</td>\n",
       "      <td>1</td>\n",
       "      <td>9</td>\n",
       "      <td>LICEO POLITECNICO ARICA</td>\n",
       "      <td></td>\n",
       "      <td>69010100</td>\n",
       "      <td>1</td>\n",
       "      <td>15</td>\n",
       "      <td>AYP</td>\n",
       "      <td>...</td>\n",
       "      <td>0.0</td>\n",
       "      <td>0.0</td>\n",
       "      <td>0.0</td>\n",
       "      <td>0.0</td>\n",
       "      <td>0.0</td>\n",
       "      <td>0.0</td>\n",
       "      <td>0.0</td>\n",
       "      <td>both</td>\n",
       "      <td>20</td>\n",
       "      <td>1</td>\n",
       "    </tr>\n",
       "    <tr>\n",
       "      <th>1</th>\n",
       "      <td>0</td>\n",
       "      <td>2019</td>\n",
       "      <td>1</td>\n",
       "      <td>9</td>\n",
       "      <td>LICEO POLITECNICO ARICA</td>\n",
       "      <td></td>\n",
       "      <td>69010100</td>\n",
       "      <td>1</td>\n",
       "      <td>15</td>\n",
       "      <td>AYP</td>\n",
       "      <td>...</td>\n",
       "      <td>0.0</td>\n",
       "      <td>1.0</td>\n",
       "      <td>0.0</td>\n",
       "      <td>0.0</td>\n",
       "      <td>1.0</td>\n",
       "      <td>0.0</td>\n",
       "      <td>0.0</td>\n",
       "      <td>both</td>\n",
       "      <td>16</td>\n",
       "      <td>1</td>\n",
       "    </tr>\n",
       "    <tr>\n",
       "      <th>2</th>\n",
       "      <td>0</td>\n",
       "      <td>2019</td>\n",
       "      <td>1</td>\n",
       "      <td>9</td>\n",
       "      <td>LICEO POLITECNICO ARICA</td>\n",
       "      <td></td>\n",
       "      <td>69010100</td>\n",
       "      <td>1</td>\n",
       "      <td>15</td>\n",
       "      <td>AYP</td>\n",
       "      <td>...</td>\n",
       "      <td>0.0</td>\n",
       "      <td>0.0</td>\n",
       "      <td>0.0</td>\n",
       "      <td>0.0</td>\n",
       "      <td>0.0</td>\n",
       "      <td>1.0</td>\n",
       "      <td>0.0</td>\n",
       "      <td>both</td>\n",
       "      <td>17</td>\n",
       "      <td>1</td>\n",
       "    </tr>\n",
       "    <tr>\n",
       "      <th>3</th>\n",
       "      <td>0</td>\n",
       "      <td>2019</td>\n",
       "      <td>1</td>\n",
       "      <td>9</td>\n",
       "      <td>LICEO POLITECNICO ARICA</td>\n",
       "      <td></td>\n",
       "      <td>69010100</td>\n",
       "      <td>1</td>\n",
       "      <td>15</td>\n",
       "      <td>AYP</td>\n",
       "      <td>...</td>\n",
       "      <td>1.0</td>\n",
       "      <td>0.0</td>\n",
       "      <td>1.0</td>\n",
       "      <td>0.0</td>\n",
       "      <td>0.0</td>\n",
       "      <td>0.0</td>\n",
       "      <td>0.0</td>\n",
       "      <td>both</td>\n",
       "      <td>22</td>\n",
       "      <td>1</td>\n",
       "    </tr>\n",
       "    <tr>\n",
       "      <th>4</th>\n",
       "      <td>0</td>\n",
       "      <td>2019</td>\n",
       "      <td>1</td>\n",
       "      <td>9</td>\n",
       "      <td>LICEO POLITECNICO ARICA</td>\n",
       "      <td></td>\n",
       "      <td>69010100</td>\n",
       "      <td>1</td>\n",
       "      <td>15</td>\n",
       "      <td>AYP</td>\n",
       "      <td>...</td>\n",
       "      <td>1.0</td>\n",
       "      <td>2.0</td>\n",
       "      <td>2.0</td>\n",
       "      <td>0.0</td>\n",
       "      <td>0.0</td>\n",
       "      <td>0.0</td>\n",
       "      <td>0.0</td>\n",
       "      <td>both</td>\n",
       "      <td>23</td>\n",
       "      <td>1</td>\n",
       "    </tr>\n",
       "  </tbody>\n",
       "</table>\n",
       "<p>5 rows × 75 columns</p>\n",
       "</div>"
      ],
      "text/plain": [
       "   row_number  AGNO  COD_ESCUELA_PAIS  DGV_RBD                  NOM_RBD MRUN  \\\n",
       "0           0  2019                 1        9  LICEO POLITECNICO ARICA        \n",
       "1           0  2019                 1        9  LICEO POLITECNICO ARICA        \n",
       "2           0  2019                 1        9  LICEO POLITECNICO ARICA        \n",
       "3           0  2019                 1        9  LICEO POLITECNICO ARICA        \n",
       "4           0  2019                 1        9  LICEO POLITECNICO ARICA        \n",
       "\n",
       "  RUT_SOSTENEDOR  P_JURIDICA  COD_ADM1 NOM_REG_RBD_A  ...  n_visitantes_17  \\\n",
       "0       69010100           1        15           AYP  ...              0.0   \n",
       "1       69010100           1        15           AYP  ...              0.0   \n",
       "2       69010100           1        15           AYP  ...              0.0   \n",
       "3       69010100           1        15           AYP  ...              1.0   \n",
       "4       69010100           1        15           AYP  ...              1.0   \n",
       "\n",
       "   n_visitantes_18 n_visitantes_19  n_visitantes_20 n_visitantes_21  \\\n",
       "0              0.0             0.0              0.0             0.0   \n",
       "1              1.0             0.0              0.0             1.0   \n",
       "2              0.0             0.0              0.0             0.0   \n",
       "3              0.0             1.0              0.0             0.0   \n",
       "4              2.0             2.0              0.0             0.0   \n",
       "\n",
       "   n_visitantes_22  n_visitantes_23  _merge  semana  laboral  \n",
       "0              0.0              0.0    both      20        1  \n",
       "1              0.0              0.0    both      16        1  \n",
       "2              1.0              0.0    both      17        1  \n",
       "3              0.0              0.0    both      22        1  \n",
       "4              0.0              0.0    both      23        1  \n",
       "\n",
       "[5 rows x 75 columns]"
      ]
     },
     "execution_count": 41,
     "metadata": {},
     "output_type": "execute_result"
    }
   ],
   "source": [
    "colegios_con_visitas.head(5)"
   ]
  },
  {
   "cell_type": "code",
   "execution_count": 42,
   "metadata": {
    "scrolled": false
   },
   "outputs": [
    {
     "data": {
      "text/plain": [
       "Index(['row_number', 'AGNO', 'COD_ESCUELA_PAIS', 'DGV_RBD', 'NOM_RBD', 'MRUN',\n",
       "       'RUT_SOSTENEDOR', 'P_JURIDICA', 'COD_ADM1', 'NOM_REG_RBD_A',\n",
       "       'COD_PRO_RBD', 'COD_ADM3', 'NOM_ADM3', 'COD_DEPROV_RBD',\n",
       "       'NOM_DEPROV_RBD', 'COD_DEPE', 'COD_DEPE2', 'RURAL_RBD', 'CONVENIO_PIE',\n",
       "       'ENS_01', 'ENS_02', 'ENS_03', 'ENS_04', 'ENS_05', 'ENS_06', 'ENS_07',\n",
       "       'ENS_08', 'ENS_09', 'ENS_10', 'ENS_11', 'MATRICULA', 'ESTADO_ESTAB',\n",
       "       'ORI_RELIGIOSA', 'ORI_OTRO_GLOSA', 'PAGO_MATRICULA', 'PAGO_MENSUAL',\n",
       "       'laty', 'longx', 'geohash', 'geometry', 'cod_comuna', 'Comuna',\n",
       "       'g_adm_1', 'g_adm_3', 'month', 'day', 'n_visitantes_geohash',\n",
       "       'n_visitantes_adm3', 'n_visitantes_0', 'n_visitantes_1',\n",
       "       'n_visitantes_2', 'n_visitantes_3', 'n_visitantes_4', 'n_visitantes_5',\n",
       "       'n_visitantes_6', 'n_visitantes_7', 'n_visitantes_8', 'n_visitantes_9',\n",
       "       'n_visitantes_10', 'n_visitantes_11', 'n_visitantes_12',\n",
       "       'n_visitantes_13', 'n_visitantes_14', 'n_visitantes_15',\n",
       "       'n_visitantes_16', 'n_visitantes_17', 'n_visitantes_18',\n",
       "       'n_visitantes_19', 'n_visitantes_20', 'n_visitantes_21',\n",
       "       'n_visitantes_22', 'n_visitantes_23', '_merge', 'semana', 'laboral'],\n",
       "      dtype='object')"
      ]
     },
     "execution_count": 42,
     "metadata": {},
     "output_type": "execute_result"
    }
   ],
   "source": [
    "colegios_con_visitas.columns"
   ]
  },
  {
   "cell_type": "markdown",
   "metadata": {},
   "source": [
    "#### Guardar establecimientos que tienen visitas"
   ]
  },
  {
   "cell_type": "markdown",
   "metadata": {},
   "source": [
    "Zip comprimido"
   ]
  },
  {
   "cell_type": "code",
   "execution_count": 43,
   "metadata": {},
   "outputs": [],
   "source": [
    "colegios_con_visitas.to_csv(file_output_con_visitas_zip, compression = 'zip')"
   ]
  },
  {
   "cell_type": "markdown",
   "metadata": {},
   "source": [
    "CSV"
   ]
  },
  {
   "cell_type": "code",
   "execution_count": 44,
   "metadata": {},
   "outputs": [],
   "source": [
    "colegios_con_visitas.to_csv(file_output_con_visitas_csv, sep = ',')"
   ]
  },
  {
   "cell_type": "markdown",
   "metadata": {},
   "source": [
    "Stata - .dta"
   ]
  },
  {
   "cell_type": "raw",
   "metadata": {},
   "source": [
    "path_codigos_stata = path_global + r\"\\Codes\\Stata\"\n",
    "file_output_con_visitas_dta = path_codigos_stata + r\"\\Chile_colegios_geohash_con_visitas_python.dta\""
   ]
  },
  {
   "cell_type": "raw",
   "metadata": {},
   "source": [
    "colegios_con_visitas.to_stata(file_output_con_visitas_dta)"
   ]
  }
 ],
 "metadata": {
  "kernelspec": {
   "display_name": "Python 3",
   "language": "python",
   "name": "python3"
  },
  "language_info": {
   "codemirror_mode": {
    "name": "ipython",
    "version": 3
   },
   "file_extension": ".py",
   "mimetype": "text/x-python",
   "name": "python",
   "nbconvert_exporter": "python",
   "pygments_lexer": "ipython3",
   "version": "3.7.7"
  }
 },
 "nbformat": 4,
 "nbformat_minor": 2
}
