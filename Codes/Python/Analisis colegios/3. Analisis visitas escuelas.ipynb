{
 "cells": [
  {
   "cell_type": "markdown",
   "metadata": {},
   "source": [
    "# Cargando librerias"
   ]
  },
  {
   "cell_type": "code",
   "execution_count": 1,
   "metadata": {},
   "outputs": [],
   "source": [
    "import pandas as pd\n",
    "import zipfile\n",
    "import os\n",
    "import glob\n",
    "import dask\n",
    "import matplotlib.pyplot as plt"
   ]
  },
  {
   "cell_type": "markdown",
   "metadata": {},
   "source": [
    "# Paths"
   ]
  },
  {
   "cell_type": "code",
   "execution_count": 11,
   "metadata": {},
   "outputs": [
    {
     "name": "stdout",
     "output_type": "stream",
     "text": [
      "C:\\Users\\BS\\Documents\\Github\\Geohashes-Colegios\\Data\\Colegios\\Chile_colegios_geohash_con_visitas.zip\n",
      "C:\\Users\\BS\\Documents\\Github\\Geohashes-Colegios\\Codes\\Stata\\Outcall.do\n"
     ]
    }
   ],
   "source": [
    "path_personal = r\"C:\\Users\\BS\\Documents\\Github\"\n",
    "\n",
    "path_global = path_personal + r\"\\Geohashes-Colegios\"\n",
    "\n",
    "path_data = path_global + r\"\\Data\"\n",
    "\n",
    "path_data_colegios = path_data + r\"\\Colegios\"\n",
    "\n",
    "path_input = path_data_colegios\n",
    "file_input_con_visitas = path_data_colegios + r\"\\Chile_colegios_geohash_con_visitas.zip\"\n",
    "\n",
    "print(file_input_con_visitas)\n",
    "print(dofile)"
   ]
  },
  {
   "cell_type": "markdown",
   "metadata": {},
   "source": [
    "# Importando geohashes de colegios con visitas"
   ]
  },
  {
   "cell_type": "code",
   "execution_count": 3,
   "metadata": {},
   "outputs": [],
   "source": [
    "colegios_con_visitas = pd.read_csv(file_input_con_visitas, \n",
    "                                   sep = ',', \n",
    "                                   error_bad_lines = False, index_col = False, dtype = 'unicode')"
   ]
  },
  {
   "cell_type": "code",
   "execution_count": 4,
   "metadata": {},
   "outputs": [],
   "source": [
    "colegios_con_visitas = colegios_con_visitas.drop(columns = ['Unnamed: 0', \n",
    "                                                            'row_number', \n",
    "                                                            '_merge'])"
   ]
  },
  {
   "cell_type": "code",
   "execution_count": 5,
   "metadata": {},
   "outputs": [
    {
     "data": {
      "text/plain": [
       "(897971, 73)"
      ]
     },
     "execution_count": 5,
     "metadata": {},
     "output_type": "execute_result"
    }
   ],
   "source": [
    "colegios_con_visitas.shape"
   ]
  },
  {
   "cell_type": "code",
   "execution_count": 6,
   "metadata": {},
   "outputs": [
    {
     "data": {
      "text/html": [
       "<div>\n",
       "<style scoped>\n",
       "    .dataframe tbody tr th:only-of-type {\n",
       "        vertical-align: middle;\n",
       "    }\n",
       "\n",
       "    .dataframe tbody tr th {\n",
       "        vertical-align: top;\n",
       "    }\n",
       "\n",
       "    .dataframe thead th {\n",
       "        text-align: right;\n",
       "    }\n",
       "</style>\n",
       "<table border=\"1\" class=\"dataframe\">\n",
       "  <thead>\n",
       "    <tr style=\"text-align: right;\">\n",
       "      <th></th>\n",
       "      <th>AGNO</th>\n",
       "      <th>COD_ESCUELA_PAIS</th>\n",
       "      <th>DGV_RBD</th>\n",
       "      <th>NOM_RBD</th>\n",
       "      <th>MRUN</th>\n",
       "      <th>RUT_SOSTENEDOR</th>\n",
       "      <th>P_JURIDICA</th>\n",
       "      <th>COD_ADM1</th>\n",
       "      <th>NOM_REG_RBD_A</th>\n",
       "      <th>COD_PRO_RBD</th>\n",
       "      <th>...</th>\n",
       "      <th>n_visitantes_16</th>\n",
       "      <th>n_visitantes_17</th>\n",
       "      <th>n_visitantes_18</th>\n",
       "      <th>n_visitantes_19</th>\n",
       "      <th>n_visitantes_20</th>\n",
       "      <th>n_visitantes_21</th>\n",
       "      <th>n_visitantes_22</th>\n",
       "      <th>n_visitantes_23</th>\n",
       "      <th>semana</th>\n",
       "      <th>laboral</th>\n",
       "    </tr>\n",
       "  </thead>\n",
       "  <tbody>\n",
       "    <tr>\n",
       "      <th>0</th>\n",
       "      <td>2019</td>\n",
       "      <td>1</td>\n",
       "      <td>9</td>\n",
       "      <td>LICEO POLITECNICO ARICA</td>\n",
       "      <td></td>\n",
       "      <td>69010100</td>\n",
       "      <td>1</td>\n",
       "      <td>15</td>\n",
       "      <td>AYP</td>\n",
       "      <td>151</td>\n",
       "      <td>...</td>\n",
       "      <td>0.0</td>\n",
       "      <td>0.0</td>\n",
       "      <td>0.0</td>\n",
       "      <td>0.0</td>\n",
       "      <td>0.0</td>\n",
       "      <td>0.0</td>\n",
       "      <td>0.0</td>\n",
       "      <td>0.0</td>\n",
       "      <td>20</td>\n",
       "      <td>1</td>\n",
       "    </tr>\n",
       "    <tr>\n",
       "      <th>1</th>\n",
       "      <td>2019</td>\n",
       "      <td>1</td>\n",
       "      <td>9</td>\n",
       "      <td>LICEO POLITECNICO ARICA</td>\n",
       "      <td></td>\n",
       "      <td>69010100</td>\n",
       "      <td>1</td>\n",
       "      <td>15</td>\n",
       "      <td>AYP</td>\n",
       "      <td>151</td>\n",
       "      <td>...</td>\n",
       "      <td>1.0</td>\n",
       "      <td>0.0</td>\n",
       "      <td>1.0</td>\n",
       "      <td>0.0</td>\n",
       "      <td>0.0</td>\n",
       "      <td>1.0</td>\n",
       "      <td>0.0</td>\n",
       "      <td>0.0</td>\n",
       "      <td>16</td>\n",
       "      <td>1</td>\n",
       "    </tr>\n",
       "    <tr>\n",
       "      <th>2</th>\n",
       "      <td>2019</td>\n",
       "      <td>1</td>\n",
       "      <td>9</td>\n",
       "      <td>LICEO POLITECNICO ARICA</td>\n",
       "      <td></td>\n",
       "      <td>69010100</td>\n",
       "      <td>1</td>\n",
       "      <td>15</td>\n",
       "      <td>AYP</td>\n",
       "      <td>151</td>\n",
       "      <td>...</td>\n",
       "      <td>0.0</td>\n",
       "      <td>0.0</td>\n",
       "      <td>0.0</td>\n",
       "      <td>0.0</td>\n",
       "      <td>0.0</td>\n",
       "      <td>0.0</td>\n",
       "      <td>1.0</td>\n",
       "      <td>0.0</td>\n",
       "      <td>17</td>\n",
       "      <td>1</td>\n",
       "    </tr>\n",
       "    <tr>\n",
       "      <th>3</th>\n",
       "      <td>2019</td>\n",
       "      <td>1</td>\n",
       "      <td>9</td>\n",
       "      <td>LICEO POLITECNICO ARICA</td>\n",
       "      <td></td>\n",
       "      <td>69010100</td>\n",
       "      <td>1</td>\n",
       "      <td>15</td>\n",
       "      <td>AYP</td>\n",
       "      <td>151</td>\n",
       "      <td>...</td>\n",
       "      <td>0.0</td>\n",
       "      <td>1.0</td>\n",
       "      <td>0.0</td>\n",
       "      <td>1.0</td>\n",
       "      <td>0.0</td>\n",
       "      <td>0.0</td>\n",
       "      <td>0.0</td>\n",
       "      <td>0.0</td>\n",
       "      <td>22</td>\n",
       "      <td>1</td>\n",
       "    </tr>\n",
       "    <tr>\n",
       "      <th>4</th>\n",
       "      <td>2019</td>\n",
       "      <td>1</td>\n",
       "      <td>9</td>\n",
       "      <td>LICEO POLITECNICO ARICA</td>\n",
       "      <td></td>\n",
       "      <td>69010100</td>\n",
       "      <td>1</td>\n",
       "      <td>15</td>\n",
       "      <td>AYP</td>\n",
       "      <td>151</td>\n",
       "      <td>...</td>\n",
       "      <td>0.0</td>\n",
       "      <td>1.0</td>\n",
       "      <td>2.0</td>\n",
       "      <td>2.0</td>\n",
       "      <td>0.0</td>\n",
       "      <td>0.0</td>\n",
       "      <td>0.0</td>\n",
       "      <td>0.0</td>\n",
       "      <td>23</td>\n",
       "      <td>1</td>\n",
       "    </tr>\n",
       "  </tbody>\n",
       "</table>\n",
       "<p>5 rows × 73 columns</p>\n",
       "</div>"
      ],
      "text/plain": [
       "   AGNO COD_ESCUELA_PAIS DGV_RBD                  NOM_RBD MRUN RUT_SOSTENEDOR  \\\n",
       "0  2019                1       9  LICEO POLITECNICO ARICA            69010100   \n",
       "1  2019                1       9  LICEO POLITECNICO ARICA            69010100   \n",
       "2  2019                1       9  LICEO POLITECNICO ARICA            69010100   \n",
       "3  2019                1       9  LICEO POLITECNICO ARICA            69010100   \n",
       "4  2019                1       9  LICEO POLITECNICO ARICA            69010100   \n",
       "\n",
       "  P_JURIDICA COD_ADM1 NOM_REG_RBD_A COD_PRO_RBD  ... n_visitantes_16  \\\n",
       "0          1       15           AYP         151  ...             0.0   \n",
       "1          1       15           AYP         151  ...             1.0   \n",
       "2          1       15           AYP         151  ...             0.0   \n",
       "3          1       15           AYP         151  ...             0.0   \n",
       "4          1       15           AYP         151  ...             0.0   \n",
       "\n",
       "  n_visitantes_17 n_visitantes_18 n_visitantes_19 n_visitantes_20  \\\n",
       "0             0.0             0.0             0.0             0.0   \n",
       "1             0.0             1.0             0.0             0.0   \n",
       "2             0.0             0.0             0.0             0.0   \n",
       "3             1.0             0.0             1.0             0.0   \n",
       "4             1.0             2.0             2.0             0.0   \n",
       "\n",
       "  n_visitantes_21 n_visitantes_22 n_visitantes_23 semana laboral  \n",
       "0             0.0             0.0             0.0     20       1  \n",
       "1             1.0             0.0             0.0     16       1  \n",
       "2             0.0             1.0             0.0     17       1  \n",
       "3             0.0             0.0             0.0     22       1  \n",
       "4             0.0             0.0             0.0     23       1  \n",
       "\n",
       "[5 rows x 73 columns]"
      ]
     },
     "execution_count": 6,
     "metadata": {},
     "output_type": "execute_result"
    }
   ],
   "source": [
    "colegios_con_visitas.head(5)"
   ]
  },
  {
   "cell_type": "code",
   "execution_count": 7,
   "metadata": {},
   "outputs": [
    {
     "data": {
      "text/plain": [
       "Index(['AGNO', 'COD_ESCUELA_PAIS', 'DGV_RBD', 'NOM_RBD', 'MRUN',\n",
       "       'RUT_SOSTENEDOR', 'P_JURIDICA', 'COD_ADM1', 'NOM_REG_RBD_A',\n",
       "       'COD_PRO_RBD', 'COD_ADM3', 'NOM_ADM3', 'COD_DEPROV_RBD',\n",
       "       'NOM_DEPROV_RBD', 'COD_DEPE', 'COD_DEPE2', 'RURAL_RBD', 'CONVENIO_PIE',\n",
       "       'ENS_01', 'ENS_02', 'ENS_03', 'ENS_04', 'ENS_05', 'ENS_06', 'ENS_07',\n",
       "       'ENS_08', 'ENS_09', 'ENS_10', 'ENS_11', 'MATRICULA', 'ESTADO_ESTAB',\n",
       "       'ORI_RELIGIOSA', 'ORI_OTRO_GLOSA', 'PAGO_MATRICULA', 'PAGO_MENSUAL',\n",
       "       'laty', 'longx', 'geohash', 'geometry', 'cod_comuna', 'Comuna',\n",
       "       'g_adm_1', 'g_adm_3', 'month', 'day', 'n_visitantes_geohash',\n",
       "       'n_visitantes_adm3', 'n_visitantes_0', 'n_visitantes_1',\n",
       "       'n_visitantes_2', 'n_visitantes_3', 'n_visitantes_4', 'n_visitantes_5',\n",
       "       'n_visitantes_6', 'n_visitantes_7', 'n_visitantes_8', 'n_visitantes_9',\n",
       "       'n_visitantes_10', 'n_visitantes_11', 'n_visitantes_12',\n",
       "       'n_visitantes_13', 'n_visitantes_14', 'n_visitantes_15',\n",
       "       'n_visitantes_16', 'n_visitantes_17', 'n_visitantes_18',\n",
       "       'n_visitantes_19', 'n_visitantes_20', 'n_visitantes_21',\n",
       "       'n_visitantes_22', 'n_visitantes_23', 'semana', 'laboral'],\n",
       "      dtype='object')"
      ]
     },
     "execution_count": 7,
     "metadata": {},
     "output_type": "execute_result"
    }
   ],
   "source": [
    "colegios_con_visitas.columns"
   ]
  },
  {
   "cell_type": "markdown",
   "metadata": {},
   "source": [
    "# Guardando resultados"
   ]
  },
  {
   "cell_type": "raw",
   "metadata": {},
   "source": [
    "resultados.to_csv(file_output, compression = 'zip')"
   ]
  },
  {
   "cell_type": "raw",
   "metadata": {},
   "source": [
    "resultados.to_csv(file_output, sep = ',', index_label = 'row_number')"
   ]
  }
 ],
 "metadata": {
  "kernelspec": {
   "display_name": "Python 3",
   "language": "python",
   "name": "python3"
  },
  "language_info": {
   "codemirror_mode": {
    "name": "ipython",
    "version": 3
   },
   "file_extension": ".py",
   "mimetype": "text/x-python",
   "name": "python",
   "nbconvert_exporter": "python",
   "pygments_lexer": "ipython3",
   "version": "3.7.7"
  }
 },
 "nbformat": 4,
 "nbformat_minor": 2
}
