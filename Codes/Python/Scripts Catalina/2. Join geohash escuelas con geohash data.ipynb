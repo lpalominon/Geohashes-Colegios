{
 "cells": [
  {
   "cell_type": "code",
   "execution_count": 3,
   "metadata": {},
   "outputs": [],
   "source": [
    "import pandas as pd\n",
    "import matplotlib.pyplot as plt"
   ]
  },
  {
   "cell_type": "markdown",
   "metadata": {},
   "source": [
    "#### Importar datos de geohash, cambiar para cada país"
   ]
  },
  {
   "cell_type": "code",
   "execution_count": 4,
   "metadata": {},
   "outputs": [
    {
     "data": {
      "text/html": [
       "<div>\n",
       "<style scoped>\n",
       "    .dataframe tbody tr th:only-of-type {\n",
       "        vertical-align: middle;\n",
       "    }\n",
       "\n",
       "    .dataframe tbody tr th {\n",
       "        vertical-align: top;\n",
       "    }\n",
       "\n",
       "    .dataframe thead th {\n",
       "        text-align: right;\n",
       "    }\n",
       "</style>\n",
       "<table border=\"1\" class=\"dataframe\">\n",
       "  <thead>\n",
       "    <tr style=\"text-align: right;\">\n",
       "      <th></th>\n",
       "      <th>Unnamed: 0</th>\n",
       "      <th>geohash</th>\n",
       "      <th>g_adm_1</th>\n",
       "      <th>g_adm_3</th>\n",
       "      <th>month</th>\n",
       "      <th>day</th>\n",
       "      <th>n_visitantes_geohash</th>\n",
       "      <th>n_visitantes_adm3</th>\n",
       "      <th>n_visitantes_0</th>\n",
       "      <th>n_visitantes_1</th>\n",
       "      <th>...</th>\n",
       "      <th>n_visitantes_14</th>\n",
       "      <th>n_visitantes_15</th>\n",
       "      <th>n_visitantes_16</th>\n",
       "      <th>n_visitantes_17</th>\n",
       "      <th>n_visitantes_18</th>\n",
       "      <th>n_visitantes_19</th>\n",
       "      <th>n_visitantes_20</th>\n",
       "      <th>n_visitantes_21</th>\n",
       "      <th>n_visitantes_22</th>\n",
       "      <th>n_visitantes_23</th>\n",
       "    </tr>\n",
       "  </thead>\n",
       "  <tbody>\n",
       "    <tr>\n",
       "      <th>0</th>\n",
       "      <td>0</td>\n",
       "      <td>66jt91k</td>\n",
       "      <td>5.0</td>\n",
       "      <td>5702.0</td>\n",
       "      <td>5</td>\n",
       "      <td>3</td>\n",
       "      <td>4</td>\n",
       "      <td>2</td>\n",
       "      <td>0</td>\n",
       "      <td>0</td>\n",
       "      <td>...</td>\n",
       "      <td>1</td>\n",
       "      <td>1</td>\n",
       "      <td>0</td>\n",
       "      <td>1</td>\n",
       "      <td>0</td>\n",
       "      <td>0</td>\n",
       "      <td>0</td>\n",
       "      <td>1</td>\n",
       "      <td>0</td>\n",
       "      <td>0</td>\n",
       "    </tr>\n",
       "    <tr>\n",
       "      <th>1</th>\n",
       "      <td>1</td>\n",
       "      <td>63knfd2</td>\n",
       "      <td>8.0</td>\n",
       "      <td>8107.0</td>\n",
       "      <td>3</td>\n",
       "      <td>16</td>\n",
       "      <td>15</td>\n",
       "      <td>11</td>\n",
       "      <td>1</td>\n",
       "      <td>0</td>\n",
       "      <td>...</td>\n",
       "      <td>3</td>\n",
       "      <td>4</td>\n",
       "      <td>1</td>\n",
       "      <td>1</td>\n",
       "      <td>2</td>\n",
       "      <td>2</td>\n",
       "      <td>0</td>\n",
       "      <td>1</td>\n",
       "      <td>1</td>\n",
       "      <td>0</td>\n",
       "    </tr>\n",
       "    <tr>\n",
       "      <th>2</th>\n",
       "      <td>2</td>\n",
       "      <td>637uz4p</td>\n",
       "      <td>8.0</td>\n",
       "      <td>8106.0</td>\n",
       "      <td>3</td>\n",
       "      <td>16</td>\n",
       "      <td>3</td>\n",
       "      <td>3</td>\n",
       "      <td>0</td>\n",
       "      <td>0</td>\n",
       "      <td>...</td>\n",
       "      <td>0</td>\n",
       "      <td>0</td>\n",
       "      <td>0</td>\n",
       "      <td>0</td>\n",
       "      <td>0</td>\n",
       "      <td>1</td>\n",
       "      <td>0</td>\n",
       "      <td>0</td>\n",
       "      <td>0</td>\n",
       "      <td>0</td>\n",
       "    </tr>\n",
       "    <tr>\n",
       "      <th>3</th>\n",
       "      <td>3</td>\n",
       "      <td>66jec5e</td>\n",
       "      <td>13.0</td>\n",
       "      <td>13303.0</td>\n",
       "      <td>5</td>\n",
       "      <td>6</td>\n",
       "      <td>1</td>\n",
       "      <td>1</td>\n",
       "      <td>0</td>\n",
       "      <td>0</td>\n",
       "      <td>...</td>\n",
       "      <td>0</td>\n",
       "      <td>0</td>\n",
       "      <td>0</td>\n",
       "      <td>0</td>\n",
       "      <td>0</td>\n",
       "      <td>0</td>\n",
       "      <td>0</td>\n",
       "      <td>0</td>\n",
       "      <td>0</td>\n",
       "      <td>0</td>\n",
       "    </tr>\n",
       "    <tr>\n",
       "      <th>4</th>\n",
       "      <td>4</td>\n",
       "      <td>66jcejx</td>\n",
       "      <td>13.0</td>\n",
       "      <td>13113.0</td>\n",
       "      <td>3</td>\n",
       "      <td>10</td>\n",
       "      <td>5</td>\n",
       "      <td>4</td>\n",
       "      <td>0</td>\n",
       "      <td>0</td>\n",
       "      <td>...</td>\n",
       "      <td>0</td>\n",
       "      <td>1</td>\n",
       "      <td>1</td>\n",
       "      <td>0</td>\n",
       "      <td>0</td>\n",
       "      <td>0</td>\n",
       "      <td>0</td>\n",
       "      <td>0</td>\n",
       "      <td>0</td>\n",
       "      <td>0</td>\n",
       "    </tr>\n",
       "  </tbody>\n",
       "</table>\n",
       "<p>5 rows × 32 columns</p>\n",
       "</div>"
      ],
      "text/plain": [
       "   Unnamed: 0  geohash  g_adm_1  g_adm_3  month  day  n_visitantes_geohash  \\\n",
       "0           0  66jt91k      5.0   5702.0      5    3                     4   \n",
       "1           1  63knfd2      8.0   8107.0      3   16                    15   \n",
       "2           2  637uz4p      8.0   8106.0      3   16                     3   \n",
       "3           3  66jec5e     13.0  13303.0      5    6                     1   \n",
       "4           4  66jcejx     13.0  13113.0      3   10                     5   \n",
       "\n",
       "   n_visitantes_adm3  n_visitantes_0  n_visitantes_1  ...  n_visitantes_14  \\\n",
       "0                  2               0               0  ...                1   \n",
       "1                 11               1               0  ...                3   \n",
       "2                  3               0               0  ...                0   \n",
       "3                  1               0               0  ...                0   \n",
       "4                  4               0               0  ...                0   \n",
       "\n",
       "   n_visitantes_15  n_visitantes_16  n_visitantes_17  n_visitantes_18  \\\n",
       "0                1                0                1                0   \n",
       "1                4                1                1                2   \n",
       "2                0                0                0                0   \n",
       "3                0                0                0                0   \n",
       "4                1                1                0                0   \n",
       "\n",
       "   n_visitantes_19  n_visitantes_20  n_visitantes_21  n_visitantes_22  \\\n",
       "0                0                0                1                0   \n",
       "1                2                0                1                1   \n",
       "2                1                0                0                0   \n",
       "3                0                0                0                0   \n",
       "4                0                0                0                0   \n",
       "\n",
       "   n_visitantes_23  \n",
       "0                0  \n",
       "1                0  \n",
       "2                0  \n",
       "3                0  \n",
       "4                0  \n",
       "\n",
       "[5 rows x 32 columns]"
      ]
     },
     "execution_count": 4,
     "metadata": {},
     "output_type": "execute_result"
    }
   ],
   "source": [
    "df = pd.read_csv('../Data/Geohashes/Chile.zip')\n",
    "df.head()"
   ]
  },
  {
   "cell_type": "markdown",
   "metadata": {},
   "source": [
    "#### Eliminar columna de indice"
   ]
  },
  {
   "cell_type": "code",
   "execution_count": 5,
   "metadata": {},
   "outputs": [],
   "source": [
    "df = df.drop(columns=['Unnamed: 0'])"
   ]
  },
  {
   "cell_type": "code",
   "execution_count": 6,
   "metadata": {},
   "outputs": [
    {
     "data": {
      "text/plain": [
       "(19166083, 31)"
      ]
     },
     "execution_count": 6,
     "metadata": {},
     "output_type": "execute_result"
    }
   ],
   "source": [
    "df.shape"
   ]
  },
  {
   "cell_type": "markdown",
   "metadata": {},
   "source": [
    "#### Importar datos de establecimientos que ya tienen geohash"
   ]
  },
  {
   "cell_type": "code",
   "execution_count": 7,
   "metadata": {},
   "outputs": [],
   "source": [
    "df_establecimientos = pd.read_csv('../Data/EE_2019_CL_geohash.csv')"
   ]
  },
  {
   "cell_type": "code",
   "execution_count": 8,
   "metadata": {},
   "outputs": [
    {
     "data": {
      "text/html": [
       "<div>\n",
       "<style scoped>\n",
       "    .dataframe tbody tr th:only-of-type {\n",
       "        vertical-align: middle;\n",
       "    }\n",
       "\n",
       "    .dataframe tbody tr th {\n",
       "        vertical-align: top;\n",
       "    }\n",
       "\n",
       "    .dataframe thead th {\n",
       "        text-align: right;\n",
       "    }\n",
       "</style>\n",
       "<table border=\"1\" class=\"dataframe\">\n",
       "  <thead>\n",
       "    <tr style=\"text-align: right;\">\n",
       "      <th></th>\n",
       "      <th>row_number</th>\n",
       "      <th>AGNO</th>\n",
       "      <th>RBD</th>\n",
       "      <th>DGV_RBD</th>\n",
       "      <th>NOM_RBD</th>\n",
       "      <th>MRUN</th>\n",
       "      <th>RUT_SOSTENEDOR</th>\n",
       "      <th>P_JURIDICA</th>\n",
       "      <th>COD_REG_RBD</th>\n",
       "      <th>NOM_REG_RBD_A</th>\n",
       "      <th>...</th>\n",
       "      <th>ENS_11</th>\n",
       "      <th>MATRICULA</th>\n",
       "      <th>ESTADO_ESTAB</th>\n",
       "      <th>ORI_RELIGIOSA</th>\n",
       "      <th>ORI_OTRO_GLOSA</th>\n",
       "      <th>PAGO_MATRICULA</th>\n",
       "      <th>PAGO_MENSUAL</th>\n",
       "      <th>lat</th>\n",
       "      <th>long</th>\n",
       "      <th>geohash</th>\n",
       "    </tr>\n",
       "  </thead>\n",
       "  <tbody>\n",
       "    <tr>\n",
       "      <th>0</th>\n",
       "      <td>0</td>\n",
       "      <td>2019</td>\n",
       "      <td>1</td>\n",
       "      <td>9</td>\n",
       "      <td>LICEO POLITECNICO ARICA</td>\n",
       "      <td></td>\n",
       "      <td>69010100</td>\n",
       "      <td>1</td>\n",
       "      <td>15</td>\n",
       "      <td>AYP</td>\n",
       "      <td>...</td>\n",
       "      <td>0</td>\n",
       "      <td>1</td>\n",
       "      <td>1</td>\n",
       "      <td>2</td>\n",
       "      <td></td>\n",
       "      <td>GRATUITO</td>\n",
       "      <td>GRATUITO</td>\n",
       "      <td>-18.487274</td>\n",
       "      <td>-70.294739</td>\n",
       "      <td>6kwnb6k</td>\n",
       "    </tr>\n",
       "    <tr>\n",
       "      <th>1</th>\n",
       "      <td>1</td>\n",
       "      <td>2019</td>\n",
       "      <td>2</td>\n",
       "      <td>7</td>\n",
       "      <td>PARVULARIO LAS ESPIGUITAS</td>\n",
       "      <td></td>\n",
       "      <td>69010100</td>\n",
       "      <td>1</td>\n",
       "      <td>15</td>\n",
       "      <td>AYP</td>\n",
       "      <td>...</td>\n",
       "      <td>0</td>\n",
       "      <td>1</td>\n",
       "      <td>1</td>\n",
       "      <td>2</td>\n",
       "      <td></td>\n",
       "      <td>GRATUITO</td>\n",
       "      <td>GRATUITO</td>\n",
       "      <td>-18.469862</td>\n",
       "      <td>-70.302757</td>\n",
       "      <td>6kwnbjx</td>\n",
       "    </tr>\n",
       "  </tbody>\n",
       "</table>\n",
       "<p>2 rows × 39 columns</p>\n",
       "</div>"
      ],
      "text/plain": [
       "   row_number  AGNO  RBD  DGV_RBD                    NOM_RBD MRUN  \\\n",
       "0           0  2019    1        9    LICEO POLITECNICO ARICA        \n",
       "1           1  2019    2        7  PARVULARIO LAS ESPIGUITAS        \n",
       "\n",
       "  RUT_SOSTENEDOR  P_JURIDICA  COD_REG_RBD NOM_REG_RBD_A  ...  ENS_11  \\\n",
       "0       69010100           1           15           AYP  ...       0   \n",
       "1       69010100           1           15           AYP  ...       0   \n",
       "\n",
       "   MATRICULA ESTADO_ESTAB  ORI_RELIGIOSA ORI_OTRO_GLOSA  PAGO_MATRICULA  \\\n",
       "0          1            1              2                       GRATUITO   \n",
       "1          1            1              2                       GRATUITO   \n",
       "\n",
       "   PAGO_MENSUAL        lat       long  geohash  \n",
       "0      GRATUITO -18.487274 -70.294739  6kwnb6k  \n",
       "1      GRATUITO -18.469862 -70.302757  6kwnbjx  \n",
       "\n",
       "[2 rows x 39 columns]"
      ]
     },
     "execution_count": 8,
     "metadata": {},
     "output_type": "execute_result"
    }
   ],
   "source": [
    "df_establecimientos.head(2)"
   ]
  },
  {
   "cell_type": "code",
   "execution_count": 9,
   "metadata": {
    "scrolled": true
   },
   "outputs": [
    {
     "data": {
      "text/plain": [
       "(12937, 39)"
      ]
     },
     "execution_count": 9,
     "metadata": {},
     "output_type": "execute_result"
    }
   ],
   "source": [
    "df_establecimientos.shape"
   ]
  },
  {
   "cell_type": "markdown",
   "metadata": {},
   "source": [
    "Eliminar columnas que no sean necesarias (Depende de cada país)"
   ]
  },
  {
   "cell_type": "code",
   "execution_count": 10,
   "metadata": {},
   "outputs": [],
   "source": [
    "df_establecimientos = df_establecimientos.drop(columns=['AGNO', \n",
    "                                                        'DGV_RBD',\n",
    "                                                        'MRUN', \n",
    "                                                        'RUT_SOSTENEDOR',\n",
    "                                                        'P_JURIDICA', \n",
    "                                                        'NOM_REG_RBD_A', \n",
    "                                                        'COD_PRO_RBD', \n",
    "                                                        'COD_DEPROV_RBD',\n",
    "                                                        'NOM_DEPROV_RBD', \n",
    "                                                        'COD_DEPE', \n",
    "                                                        'COD_DEPE2',])"
   ]
  },
  {
   "cell_type": "markdown",
   "metadata": {},
   "source": [
    "#### Cambiar nombre de columnas según pais"
   ]
  },
  {
   "cell_type": "code",
   "execution_count": 11,
   "metadata": {},
   "outputs": [],
   "source": [
    "COD_ESCUELA_PAIS = 'RBD'\n",
    "COD_ADM3 = 'COD_COM_RBD'\n",
    "NOM_ADM3= 'NOM_COM_RBD'\n",
    "COD_ADM1 = 'COD_REG_RBD'"
   ]
  },
  {
   "cell_type": "code",
   "execution_count": 12,
   "metadata": {},
   "outputs": [],
   "source": [
    "df_establecimientos = df_establecimientos.rename(columns= {\n",
    "    COD_ESCUELA_PAIS : 'COD_ESCUELA_PAIS',\n",
    "    COD_ADM3 : 'COD_ADM3',\n",
    "    NOM_ADM3 : 'NOM_ADM3',\n",
    "    COD_ADM1 : 'COD_ADM1'\n",
    "})"
   ]
  },
  {
   "cell_type": "code",
   "execution_count": 13,
   "metadata": {},
   "outputs": [
    {
     "data": {
      "text/plain": [
       "12937"
      ]
     },
     "execution_count": 13,
     "metadata": {},
     "output_type": "execute_result"
    }
   ],
   "source": [
    "df_establecimientos.COD_ESCUELA_PAIS.nunique()"
   ]
  },
  {
   "cell_type": "markdown",
   "metadata": {},
   "source": [
    "#### Acá hay que verificar que pasa con los establecimientos. \n",
    "- Cuántos establecimientos que no tienen info?\n",
    "- De qué comunas?"
   ]
  },
  {
   "cell_type": "code",
   "execution_count": 14,
   "metadata": {},
   "outputs": [],
   "source": [
    "df_merge = df_establecimientos.merge(df,how='left',on='geohash',indicator=True)"
   ]
  },
  {
   "cell_type": "code",
   "execution_count": 15,
   "metadata": {},
   "outputs": [
    {
     "data": {
      "text/plain": [
       "(899851, 59)"
      ]
     },
     "execution_count": 15,
     "metadata": {},
     "output_type": "execute_result"
    }
   ],
   "source": [
    "df_merge.shape"
   ]
  },
  {
   "cell_type": "code",
   "execution_count": 16,
   "metadata": {},
   "outputs": [
    {
     "data": {
      "text/plain": [
       "12937"
      ]
     },
     "execution_count": 16,
     "metadata": {},
     "output_type": "execute_result"
    }
   ],
   "source": [
    "df_merge.COD_ESCUELA_PAIS.nunique()"
   ]
  },
  {
   "cell_type": "code",
   "execution_count": 17,
   "metadata": {},
   "outputs": [
    {
     "data": {
      "text/plain": [
       "Index(['row_number', 'COD_ESCUELA_PAIS', 'NOM_RBD', 'COD_ADM1', 'COD_ADM3',\n",
       "       'NOM_ADM3', 'RURAL_RBD', 'CONVENIO_PIE', 'ENS_01', 'ENS_02', 'ENS_03',\n",
       "       'ENS_04', 'ENS_05', 'ENS_06', 'ENS_07', 'ENS_08', 'ENS_09', 'ENS_10',\n",
       "       'ENS_11', 'MATRICULA', 'ESTADO_ESTAB', 'ORI_RELIGIOSA',\n",
       "       'ORI_OTRO_GLOSA', 'PAGO_MATRICULA', 'PAGO_MENSUAL', 'lat', 'long',\n",
       "       'geohash', 'g_adm_1', 'g_adm_3', 'month', 'day', 'n_visitantes_geohash',\n",
       "       'n_visitantes_adm3', 'n_visitantes_0', 'n_visitantes_1',\n",
       "       'n_visitantes_2', 'n_visitantes_3', 'n_visitantes_4', 'n_visitantes_5',\n",
       "       'n_visitantes_6', 'n_visitantes_7', 'n_visitantes_8', 'n_visitantes_9',\n",
       "       'n_visitantes_10', 'n_visitantes_11', 'n_visitantes_12',\n",
       "       'n_visitantes_13', 'n_visitantes_14', 'n_visitantes_15',\n",
       "       'n_visitantes_16', 'n_visitantes_17', 'n_visitantes_18',\n",
       "       'n_visitantes_19', 'n_visitantes_20', 'n_visitantes_21',\n",
       "       'n_visitantes_22', 'n_visitantes_23', '_merge'],\n",
       "      dtype='object')"
      ]
     },
     "execution_count": 17,
     "metadata": {},
     "output_type": "execute_result"
    }
   ],
   "source": [
    "df_merge.columns"
   ]
  },
  {
   "cell_type": "markdown",
   "metadata": {},
   "source": [
    "#### Separar aquellos rbd que no tienen info de pings"
   ]
  },
  {
   "cell_type": "code",
   "execution_count": 18,
   "metadata": {},
   "outputs": [],
   "source": [
    "df_merge_left_only = df_merge[df_merge['_merge']=='left_only']"
   ]
  },
  {
   "cell_type": "code",
   "execution_count": 19,
   "metadata": {
    "scrolled": true
   },
   "outputs": [
    {
     "data": {
      "text/plain": [
       "(1779, 59)"
      ]
     },
     "execution_count": 19,
     "metadata": {},
     "output_type": "execute_result"
    }
   ],
   "source": [
    "df_merge_left_only.shape"
   ]
  },
  {
   "cell_type": "code",
   "execution_count": 20,
   "metadata": {},
   "outputs": [
    {
     "data": {
      "text/plain": [
       "1779"
      ]
     },
     "execution_count": 20,
     "metadata": {},
     "output_type": "execute_result"
    }
   ],
   "source": [
    "df_merge_left_only.COD_ESCUELA_PAIS.nunique()"
   ]
  },
  {
   "cell_type": "code",
   "execution_count": 21,
   "metadata": {},
   "outputs": [
    {
     "data": {
      "text/plain": [
       "235"
      ]
     },
     "execution_count": 21,
     "metadata": {},
     "output_type": "execute_result"
    }
   ],
   "source": [
    "df_merge_left_only.NOM_ADM3.nunique()"
   ]
  },
  {
   "cell_type": "code",
   "execution_count": 22,
   "metadata": {
    "scrolled": true
   },
   "outputs": [
    {
     "data": {
      "text/plain": [
       "CARAHUE                54\n",
       "NUEVA IMPERIAL         48\n",
       "PADRE LAS CASAS        41\n",
       "TEODORO SCHMIDT        36\n",
       "GALVARINO              32\n",
       "                       ..\n",
       "LITUECHE                1\n",
       "SAN PEDRO DE LA PAZ     1\n",
       "NANCAGUA                1\n",
       "SAN RAFAEL              1\n",
       "COPIAPÓ                 1\n",
       "Name: NOM_ADM3, Length: 235, dtype: int64"
      ]
     },
     "execution_count": 22,
     "metadata": {},
     "output_type": "execute_result"
    }
   ],
   "source": [
    "df_merge_left_only.NOM_ADM3.value_counts()"
   ]
  },
  {
   "cell_type": "markdown",
   "metadata": {},
   "source": [
    "Guardo aquellos establecimientos que no tienen registros para tenerlos en cuenta"
   ]
  },
  {
   "cell_type": "code",
   "execution_count": 23,
   "metadata": {},
   "outputs": [],
   "source": [
    "df_merge_left_only.to_csv('../Data/ee_sin_registros.csv', index=False)"
   ]
  },
  {
   "cell_type": "markdown",
   "metadata": {},
   "source": [
    "#### Quedarnos solo con aquellos que tienen registros"
   ]
  },
  {
   "cell_type": "code",
   "execution_count": 24,
   "metadata": {},
   "outputs": [],
   "source": [
    "df_merge = df_merge[df_merge['_merge']=='both']"
   ]
  },
  {
   "cell_type": "code",
   "execution_count": 25,
   "metadata": {
    "scrolled": true
   },
   "outputs": [
    {
     "data": {
      "text/plain": [
       "343"
      ]
     },
     "execution_count": 25,
     "metadata": {},
     "output_type": "execute_result"
    }
   ],
   "source": [
    "df_merge.NOM_ADM3.nunique()"
   ]
  },
  {
   "cell_type": "code",
   "execution_count": 26,
   "metadata": {},
   "outputs": [
    {
     "data": {
      "text/plain": [
       "11158"
      ]
     },
     "execution_count": 26,
     "metadata": {},
     "output_type": "execute_result"
    }
   ],
   "source": [
    "df_merge.COD_ESCUELA_PAIS.nunique()"
   ]
  },
  {
   "cell_type": "markdown",
   "metadata": {},
   "source": [
    "#### Transformar tipo mes y dia a entero"
   ]
  },
  {
   "cell_type": "code",
   "execution_count": 27,
   "metadata": {},
   "outputs": [],
   "source": [
    "df_merge = df_merge.astype({'month':int,'day':int})"
   ]
  },
  {
   "cell_type": "code",
   "execution_count": 28,
   "metadata": {},
   "outputs": [
    {
     "data": {
      "text/plain": [
       "(898072, 59)"
      ]
     },
     "execution_count": 28,
     "metadata": {},
     "output_type": "execute_result"
    }
   ],
   "source": [
    "df_merge.shape"
   ]
  },
  {
   "cell_type": "code",
   "execution_count": 29,
   "metadata": {},
   "outputs": [],
   "source": [
    "df_merge['semana'] = df_merge.apply(lambda x: pd.to_datetime(f'2020/{x.month}/{x.day}', format='%Y/%m/%d').week, axis=1)"
   ]
  },
  {
   "cell_type": "code",
   "execution_count": 30,
   "metadata": {},
   "outputs": [],
   "source": [
    "df_merge['laboral'] = df_merge.apply(lambda x: 1 if pd.to_datetime(f'2020/{x.month}/{x.day}', format='%Y/%m/%d').weekday() < 5 else 0, axis=1)"
   ]
  },
  {
   "cell_type": "markdown",
   "metadata": {},
   "source": [
    "#### Quedarse con registros solo de días laborales"
   ]
  },
  {
   "cell_type": "code",
   "execution_count": 31,
   "metadata": {},
   "outputs": [],
   "source": [
    "df_merge = df_merge[df_merge['laboral']==1]"
   ]
  },
  {
   "cell_type": "code",
   "execution_count": 32,
   "metadata": {
    "scrolled": false
   },
   "outputs": [
    {
     "data": {
      "text/plain": [
       "(654507, 61)"
      ]
     },
     "execution_count": 32,
     "metadata": {},
     "output_type": "execute_result"
    }
   ],
   "source": [
    "df_merge.shape"
   ]
  },
  {
   "cell_type": "code",
   "execution_count": 33,
   "metadata": {},
   "outputs": [
    {
     "data": {
      "text/plain": [
       "11012"
      ]
     },
     "execution_count": 33,
     "metadata": {},
     "output_type": "execute_result"
    }
   ],
   "source": [
    "df_merge.COD_ESCUELA_PAIS.nunique()"
   ]
  },
  {
   "cell_type": "code",
   "execution_count": 34,
   "metadata": {
    "scrolled": true
   },
   "outputs": [
    {
     "data": {
      "text/plain": [
       "343"
      ]
     },
     "execution_count": 34,
     "metadata": {},
     "output_type": "execute_result"
    }
   ],
   "source": [
    "df_merge.NOM_ADM3.nunique()"
   ]
  },
  {
   "cell_type": "code",
   "execution_count": 35,
   "metadata": {},
   "outputs": [
    {
     "data": {
      "text/plain": [
       "(array([10441.,   147.,    80.,    25.,    54.,    34.,    71.,    40.,\n",
       "           63.,    57.]),\n",
       " array([10. , 11.5, 13. , 14.5, 16. , 17.5, 19. , 20.5, 22. , 23.5, 25. ]),\n",
       " <a list of 10 Patch objects>)"
      ]
     },
     "execution_count": 35,
     "metadata": {},
     "output_type": "execute_result"
    },
    {
     "data": {
      "image/png": "[encoded data removed]",
      "text/plain": [
       "<Figure size 432x288 with 1 Axes>"
      ]
     },
     "metadata": {
      "needs_background": "light"
     },
     "output_type": "display_data"
    }
   ],
   "source": [
    "plt.hist(df_merge.groupby('COD_ESCUELA_PAIS').semana.min())"
   ]
  },
  {
   "cell_type": "markdown",
   "metadata": {},
   "source": [
    "#### Obtener la primera semana con datos para cada establecimiento"
   ]
  },
  {
   "cell_type": "code",
   "execution_count": 36,
   "metadata": {},
   "outputs": [
    {
     "data": {
      "text/plain": [
       "(11012, 6)"
      ]
     },
     "execution_count": 36,
     "metadata": {},
     "output_type": "execute_result"
    }
   ],
   "source": [
    "df_primera_semana = df_merge.groupby(['COD_ESCUELA_PAIS','NOM_RBD','NOM_ADM3','COD_ADM3', 'COD_ADM1']).semana.min().reset_index()\n",
    "df_ultima_semana = df_merge.groupby(['COD_ESCUELA_PAIS','NOM_RBD','NOM_ADM3','COD_ADM3', 'COD_ADM1']).semana.max().reset_index()\n",
    "df_primera_semana.shape"
   ]
  },
  {
   "cell_type": "code",
   "execution_count": 37,
   "metadata": {},
   "outputs": [
    {
     "data": {
      "text/plain": [
       "10"
      ]
     },
     "execution_count": 37,
     "metadata": {},
     "output_type": "execute_result"
    }
   ],
   "source": [
    "primera_semana = df_primera_semana.semana.min()\n",
    "ultima_semana = df_ultima_semana.semana.max()\n",
    "primera_semana"
   ]
  },
  {
   "cell_type": "markdown",
   "metadata": {},
   "source": [
    "#### Filtrar establecimientos que no tienen info la primera semana de marzo o la segunda semana de marzo (normalidad)"
   ]
  },
  {
   "cell_type": "code",
   "execution_count": 38,
   "metadata": {},
   "outputs": [
    {
     "data": {
      "text/plain": [
       "(10441, 6)"
      ]
     },
     "execution_count": 38,
     "metadata": {},
     "output_type": "execute_result"
    }
   ],
   "source": [
    "tercera_semana = primera_semana + 2\n",
    "df_establecimientos_en_primeras_semanas = df_primera_semana[df_primera_semana['semana'] < tercera_semana]\n",
    "df_establecimientos_en_primeras_semanas.shape"
   ]
  },
  {
   "cell_type": "code",
   "execution_count": 39,
   "metadata": {},
   "outputs": [
    {
     "data": {
      "text/html": [
       "<div>\n",
       "<style scoped>\n",
       "    .dataframe tbody tr th:only-of-type {\n",
       "        vertical-align: middle;\n",
       "    }\n",
       "\n",
       "    .dataframe tbody tr th {\n",
       "        vertical-align: top;\n",
       "    }\n",
       "\n",
       "    .dataframe thead th {\n",
       "        text-align: right;\n",
       "    }\n",
       "</style>\n",
       "<table border=\"1\" class=\"dataframe\">\n",
       "  <thead>\n",
       "    <tr style=\"text-align: right;\">\n",
       "      <th></th>\n",
       "      <th>COD_ESCUELA_PAIS</th>\n",
       "      <th>NOM_RBD</th>\n",
       "      <th>NOM_ADM3</th>\n",
       "      <th>COD_ADM3</th>\n",
       "      <th>COD_ADM1</th>\n",
       "    </tr>\n",
       "  </thead>\n",
       "  <tbody>\n",
       "    <tr>\n",
       "      <th>0</th>\n",
       "      <td>1</td>\n",
       "      <td>LICEO POLITECNICO ARICA</td>\n",
       "      <td>ARICA</td>\n",
       "      <td>15101</td>\n",
       "      <td>15</td>\n",
       "    </tr>\n",
       "    <tr>\n",
       "      <th>1</th>\n",
       "      <td>2</td>\n",
       "      <td>PARVULARIO LAS ESPIGUITAS</td>\n",
       "      <td>ARICA</td>\n",
       "      <td>15101</td>\n",
       "      <td>15</td>\n",
       "    </tr>\n",
       "    <tr>\n",
       "      <th>2</th>\n",
       "      <td>4</td>\n",
       "      <td>LICEO OCTAVIO PALMA PEREZ</td>\n",
       "      <td>ARICA</td>\n",
       "      <td>15101</td>\n",
       "      <td>15</td>\n",
       "    </tr>\n",
       "    <tr>\n",
       "      <th>3</th>\n",
       "      <td>5</td>\n",
       "      <td>JOVINA NARANJO FERNANDEZ</td>\n",
       "      <td>ARICA</td>\n",
       "      <td>15101</td>\n",
       "      <td>15</td>\n",
       "    </tr>\n",
       "    <tr>\n",
       "      <th>4</th>\n",
       "      <td>7</td>\n",
       "      <td>L. POLI. ANTONIO VARAS DE LA BARRA</td>\n",
       "      <td>ARICA</td>\n",
       "      <td>15101</td>\n",
       "      <td>15</td>\n",
       "    </tr>\n",
       "  </tbody>\n",
       "</table>\n",
       "</div>"
      ],
      "text/plain": [
       "   COD_ESCUELA_PAIS                             NOM_RBD NOM_ADM3  COD_ADM3  \\\n",
       "0                 1             LICEO POLITECNICO ARICA    ARICA     15101   \n",
       "1                 2           PARVULARIO LAS ESPIGUITAS    ARICA     15101   \n",
       "2                 4           LICEO OCTAVIO PALMA PEREZ    ARICA     15101   \n",
       "3                 5            JOVINA NARANJO FERNANDEZ    ARICA     15101   \n",
       "4                 7  L. POLI. ANTONIO VARAS DE LA BARRA    ARICA     15101   \n",
       "\n",
       "   COD_ADM1  \n",
       "0        15  \n",
       "1        15  \n",
       "2        15  \n",
       "3        15  \n",
       "4        15  "
      ]
     },
     "execution_count": 39,
     "metadata": {},
     "output_type": "execute_result"
    }
   ],
   "source": [
    "df_establecimientos_en_primeras_semanas = df_establecimientos_en_primeras_semanas.drop(columns = 'semana')\n",
    "df_establecimientos_en_primeras_semanas.head()"
   ]
  },
  {
   "cell_type": "code",
   "execution_count": 40,
   "metadata": {},
   "outputs": [],
   "source": [
    "df_merge = df_establecimientos_en_primeras_semanas.merge(df_merge, \n",
    "                                                         on=['COD_ESCUELA_PAIS','NOM_RBD','NOM_ADM3','COD_ADM3','COD_ADM1'], \n",
    "                                                         how='left')"
   ]
  },
  {
   "cell_type": "markdown",
   "metadata": {},
   "source": [
    "Disminuye la cantidad de registros porque solo quedan aquellas escuelas con registros en las dos primeras semanas"
   ]
  },
  {
   "cell_type": "code",
   "execution_count": 41,
   "metadata": {
    "scrolled": true
   },
   "outputs": [
    {
     "data": {
      "text/plain": [
       "(652898, 61)"
      ]
     },
     "execution_count": 41,
     "metadata": {},
     "output_type": "execute_result"
    }
   ],
   "source": [
    "df_merge.shape"
   ]
  },
  {
   "cell_type": "code",
   "execution_count": 42,
   "metadata": {},
   "outputs": [],
   "source": [
    "df_merge = df_merge.drop(columns = '_merge')"
   ]
  },
  {
   "cell_type": "markdown",
   "metadata": {},
   "source": [
    "Eliminar columnas en caso de necesitar liberar ram"
   ]
  },
  {
   "cell_type": "code",
   "execution_count": 43,
   "metadata": {},
   "outputs": [
    {
     "data": {
      "text/plain": [
       "(652898, 33)"
      ]
     },
     "execution_count": 43,
     "metadata": {},
     "output_type": "execute_result"
    }
   ],
   "source": [
    "df_merge_sin_imputar = df_merge[['COD_ESCUELA_PAIS','NOM_RBD','NOM_ADM3','COD_ADM3','month', 'day',\n",
    "       'n_visitantes_geohash', 'n_visitantes_adm3', 'n_visitantes_0',\n",
    "       'n_visitantes_1', 'n_visitantes_2', 'n_visitantes_3', 'n_visitantes_4',\n",
    "       'n_visitantes_5', 'n_visitantes_6', 'n_visitantes_7', 'n_visitantes_8',\n",
    "       'n_visitantes_9', 'n_visitantes_10', 'n_visitantes_11',\n",
    "       'n_visitantes_12', 'n_visitantes_13', 'n_visitantes_14',\n",
    "       'n_visitantes_15', 'n_visitantes_16', 'n_visitantes_17',\n",
    "       'n_visitantes_18', 'n_visitantes_19', 'n_visitantes_20',\n",
    "       'n_visitantes_21', 'n_visitantes_22', 'n_visitantes_23', 'semana',]]\n",
    "df_merge_sin_imputar.shape\n"
   ]
  },
  {
   "cell_type": "code",
   "execution_count": 44,
   "metadata": {},
   "outputs": [],
   "source": [
    "df_merge_sin_imputar.to_excel('../Data/escuelas_semanas_visitas_sin_imputar.xlsx', index=False)"
   ]
  },
  {
   "cell_type": "code",
   "execution_count": 45,
   "metadata": {},
   "outputs": [
    {
     "data": {
      "text/plain": [
       "Index(['COD_ESCUELA_PAIS', 'NOM_RBD', 'NOM_ADM3', 'COD_ADM3', 'COD_ADM1',\n",
       "       'row_number', 'RURAL_RBD', 'CONVENIO_PIE', 'ENS_01', 'ENS_02', 'ENS_03',\n",
       "       'ENS_04', 'ENS_05', 'ENS_06', 'ENS_07', 'ENS_08', 'ENS_09', 'ENS_10',\n",
       "       'ENS_11', 'MATRICULA', 'ESTADO_ESTAB', 'ORI_RELIGIOSA',\n",
       "       'ORI_OTRO_GLOSA', 'PAGO_MATRICULA', 'PAGO_MENSUAL', 'lat', 'long',\n",
       "       'geohash', 'g_adm_1', 'g_adm_3', 'month', 'day', 'n_visitantes_geohash',\n",
       "       'n_visitantes_adm3', 'n_visitantes_0', 'n_visitantes_1',\n",
       "       'n_visitantes_2', 'n_visitantes_3', 'n_visitantes_4', 'n_visitantes_5',\n",
       "       'n_visitantes_6', 'n_visitantes_7', 'n_visitantes_8', 'n_visitantes_9',\n",
       "       'n_visitantes_10', 'n_visitantes_11', 'n_visitantes_12',\n",
       "       'n_visitantes_13', 'n_visitantes_14', 'n_visitantes_15',\n",
       "       'n_visitantes_16', 'n_visitantes_17', 'n_visitantes_18',\n",
       "       'n_visitantes_19', 'n_visitantes_20', 'n_visitantes_21',\n",
       "       'n_visitantes_22', 'n_visitantes_23', 'semana', 'laboral'],\n",
       "      dtype='object')"
      ]
     },
     "execution_count": 45,
     "metadata": {},
     "output_type": "execute_result"
    }
   ],
   "source": [
    "df_merge.columns"
   ]
  },
  {
   "cell_type": "markdown",
   "metadata": {},
   "source": [
    "#### Completar datos"
   ]
  },
  {
   "cell_type": "markdown",
   "metadata": {},
   "source": [
    "Crear df de todas las semanas del dataset"
   ]
  },
  {
   "cell_type": "code",
   "execution_count": 46,
   "metadata": {},
   "outputs": [],
   "source": [
    "semanas = pd.DataFrame({'semana':list(range(primera_semana, ultima_semana+1))})\n",
    "semanas['key'] = 'a'"
   ]
  },
  {
   "cell_type": "markdown",
   "metadata": {},
   "source": [
    "Merge con lista de escuelas con datos en todas las semanas"
   ]
  },
  {
   "cell_type": "code",
   "execution_count": 47,
   "metadata": {},
   "outputs": [],
   "source": [
    "df_establecimientos_en_primeras_semanas['key'] = 'a'\n",
    "df_establecimientos_semanas = df_establecimientos_en_primeras_semanas.merge(semanas, on='key', how='outer').drop(columns=['key']).reset_index(drop=True)"
   ]
  },
  {
   "cell_type": "code",
   "execution_count": 48,
   "metadata": {
    "scrolled": true
   },
   "outputs": [
    {
     "data": {
      "text/plain": [
       "(10441, 6)"
      ]
     },
     "execution_count": 48,
     "metadata": {},
     "output_type": "execute_result"
    }
   ],
   "source": [
    "df_establecimientos_en_primeras_semanas.shape"
   ]
  },
  {
   "cell_type": "code",
   "execution_count": 49,
   "metadata": {},
   "outputs": [],
   "source": [
    "df_merge_completo = df_establecimientos_semanas.merge(df_merge,on=['COD_ESCUELA_PAIS','semana'], how='left', suffixes=['','_drop']).filter(regex=\"^(?!.*_drop)\")"
   ]
  },
  {
   "cell_type": "code",
   "execution_count": 50,
   "metadata": {},
   "outputs": [
    {
     "data": {
      "text/plain": [
       "(669591, 60)"
      ]
     },
     "execution_count": 50,
     "metadata": {},
     "output_type": "execute_result"
    }
   ],
   "source": [
    "df_merge_completo.shape"
   ]
  },
  {
   "cell_type": "markdown",
   "metadata": {},
   "source": [
    "##### Verificar completitud"
   ]
  },
  {
   "cell_type": "code",
   "execution_count": 51,
   "metadata": {},
   "outputs": [],
   "source": [
    "n_semana_por_establecimiento = df_merge_completo.groupby(['COD_ESCUELA_PAIS','COD_ADM1']).semana.nunique().reset_index()"
   ]
  },
  {
   "cell_type": "markdown",
   "metadata": {},
   "source": [
    "Si no se hubiese imputado con 0 las semanas sin visita, acá aparecerían regiones con menos semanas"
   ]
  },
  {
   "cell_type": "code",
   "execution_count": 52,
   "metadata": {},
   "outputs": [
    {
     "data": {
      "text/plain": [
       "16    10441\n",
       "Name: semana, dtype: int64"
      ]
     },
     "execution_count": 52,
     "metadata": {},
     "output_type": "execute_result"
    }
   ],
   "source": [
    "n_semana_por_establecimiento.semana.value_counts()"
   ]
  },
  {
   "cell_type": "markdown",
   "metadata": {},
   "source": [
    "#### Agrupar datos por comuna y semana"
   ]
  },
  {
   "cell_type": "code",
   "execution_count": 53,
   "metadata": {},
   "outputs": [],
   "source": [
    "df_grouped = df_merge_completo.groupby(['COD_ADM1','COD_ADM3','NOM_ADM3','semana']).agg({'geohash':'nunique',\n",
    "                                                   'n_visitantes_geohash':'sum',\n",
    "                                                   'n_visitantes_adm3':'sum',\n",
    "                                                   'n_visitantes_0':'sum',\n",
    "                                                   'n_visitantes_1':'sum',\n",
    "                                                   'n_visitantes_2':'sum',\n",
    "                                                   'n_visitantes_3':'sum',\n",
    "                                                   'n_visitantes_4':'sum',\n",
    "                                                   'n_visitantes_5':'sum',\n",
    "                                                   'n_visitantes_6':'sum',\n",
    "                                                   'n_visitantes_7':'sum',\n",
    "                                                   'n_visitantes_8':'sum',\n",
    "                                                   'n_visitantes_9':'sum',\n",
    "                                                   'n_visitantes_10':'sum',\n",
    "                                                   'n_visitantes_11':'sum',\n",
    "                                                   'n_visitantes_12':'sum',\n",
    "                                                   'n_visitantes_13':'sum',\n",
    "                                                   'n_visitantes_14':'sum',\n",
    "                                                   'n_visitantes_15':'sum',\n",
    "                                                   'n_visitantes_16':'sum',\n",
    "                                                   'n_visitantes_17':'sum',\n",
    "                                                   'n_visitantes_18':'sum',\n",
    "                                                   'n_visitantes_19':'sum',\n",
    "                                                   'n_visitantes_20':'sum',\n",
    "                                                   'n_visitantes_21':'sum',\n",
    "                                                   'n_visitantes_22':'sum',\n",
    "                                                   'n_visitantes_23':'sum',\n",
    "                                                  }).reset_index()"
   ]
  },
  {
   "cell_type": "markdown",
   "metadata": {},
   "source": [
    "Identificar comunas que tienen completitud en los datos"
   ]
  },
  {
   "cell_type": "code",
   "execution_count": 54,
   "metadata": {},
   "outputs": [
    {
     "data": {
      "text/plain": [
       "342"
      ]
     },
     "execution_count": 54,
     "metadata": {},
     "output_type": "execute_result"
    }
   ],
   "source": [
    "df_grouped.COD_ADM3.nunique()"
   ]
  },
  {
   "cell_type": "code",
   "execution_count": 55,
   "metadata": {},
   "outputs": [],
   "source": [
    "df_grouped.to_excel('../Data/comunas_semanas_visitas.xlsx', index=False)"
   ]
  }
 ],
 "metadata": {
  "kernelspec": {
   "display_name": "Python 3",
   "language": "python",
   "name": "python3"
  },
  "language_info": {
   "codemirror_mode": {
    "name": "ipython",
    "version": 3
   },
   "file_extension": ".py",
   "mimetype": "text/x-python",
   "name": "python",
   "nbconvert_exporter": "python",
   "pygments_lexer": "ipython3",
   "version": "3.7.7"
  }
 },
 "nbformat": 4,
 "nbformat_minor": 2
}
